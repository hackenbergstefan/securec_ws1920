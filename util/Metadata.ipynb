{
 "cells": [
  {
   "cell_type": "code",
   "execution_count": null,
   "metadata": {},
   "outputs": [],
   "source": [
    "# From: https://github.com/jupyter/notebook/issues/1000#issuecomment-359875246\n",
    "\n",
    "import json\n",
    "import os\n",
    "import os.path\n",
    "import re\n",
    "import ipykernel\n",
    "import requests\n",
    "\n",
    "#try:  # Python 3\n",
    "#    from urllib.parse import urljoin\n",
    "#except ImportError:  # Python 2\n",
    "#    from urlparse import urljoin\n",
    "\n",
    "# Alternative that works for both Python 2 and 3:\n",
    "from requests.compat import urljoin\n",
    "\n",
    "try:  # Python 3 (see Edit2 below for why this may not work in Python 2)\n",
    "    from notebook.notebookapp import list_running_servers\n",
    "except ImportError:  # Python 2\n",
    "    import warnings\n",
    "    from IPython.utils.shimmodule import ShimWarning\n",
    "    with warnings.catch_warnings():\n",
    "        warnings.simplefilter(\"ignore\", category=ShimWarning)\n",
    "        from IPython.html.notebookapp import list_running_servers\n",
    "\n",
    "def notebook_path():\n",
    "    \"\"\"\n",
    "    Return the full path of the jupyter notebook.\n",
    "    \"\"\"\n",
    "    if 'NOTEBOOK_PATH' in os.environ:\n",
    "        return os.environ['NOTEBOOK_PATH']\n",
    "    kernel_id = re.search('kernel-(.*).json', ipykernel.connect.get_connection_file()).group(1)\n",
    "    servers = list_running_servers()\n",
    "    for ss in servers:\n",
    "        response = requests.get(urljoin(ss['url'], 'api/sessions'),\n",
    "                                params={'token': ss.get('token', '')})\n",
    "        for nn in json.loads(response.text):\n",
    "            if nn['kernel']['id'] == kernel_id:\n",
    "                relative_path = nn['notebook']['path']\n",
    "                return os.path.join(ss['notebook_dir'], relative_path)"
   ]
  },
  {
   "cell_type": "code",
   "execution_count": null,
   "metadata": {},
   "outputs": [],
   "source": [
    "import datetime\n",
    "import subprocess\n",
    "from IPython.core.display import HTML\n",
    "\n",
    "git_origin = 'https://github.com/hackenbergstefan/securec_ws1920'\n",
    "git_revision = subprocess.check_output(['git', 'rev-parse', 'HEAD']).decode()\n",
    "\n",
    "def print_metadata():\n",
    "    return HTML('''Last modified: {now}<br/>\n",
    "Revision: <a href=\"{git_origin}/blob/{git_rev}/{notebook_path}\">git~{git_rev_short}<a>'''.format(\n",
    "        now=datetime.datetime.now().strftime('%Y-%m-%d %H:%M:%S'),\n",
    "        git_origin=git_origin,\n",
    "        git_rev=git_revision,\n",
    "        notebook_path=notebook_path(),\n",
    "        git_rev_short=git_revision[:7],\n",
    "    ))"
   ]
  }
 ],
 "metadata": {
  "kernelspec": {
   "display_name": "Python 3",
   "language": "python",
   "name": "python3"
  },
  "language_info": {
   "codemirror_mode": {
    "name": "ipython",
    "version": 3
   },
   "file_extension": ".py",
   "mimetype": "text/x-python",
   "name": "python",
   "nbconvert_exporter": "python",
   "pygments_lexer": "ipython3",
   "version": "3.7.3"
  },
  "toc": {
   "base_numbering": 1,
   "nav_menu": {},
   "number_sections": true,
   "sideBar": true,
   "skip_h1_title": true,
   "title_cell": "Table of Contents",
   "title_sidebar": "Contents",
   "toc_cell": false,
   "toc_position": {},
   "toc_section_display": true,
   "toc_window_display": true
  }
 },
 "nbformat": 4,
 "nbformat_minor": 2
}
