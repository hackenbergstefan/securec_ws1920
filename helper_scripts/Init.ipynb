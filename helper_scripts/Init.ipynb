{
 "cells": [
  {
   "cell_type": "markdown",
   "metadata": {},
   "source": [
    "# Generic Initialization"
   ]
  },
  {
   "cell_type": "code",
   "execution_count": null,
   "metadata": {},
   "outputs": [],
   "source": [
    "import os"
   ]
  },
  {
   "cell_type": "markdown",
   "metadata": {},
   "source": [
    "## Setup paths variables"
   ]
  },
  {
   "cell_type": "code",
   "execution_count": null,
   "metadata": {},
   "outputs": [],
   "source": [
    "CWPATH = '/home/stefan/Work/chipwhisperer'\n",
    "FIRMWAREPATH = os.path.join(CWPATH, 'hardware/victims/firmware')"
   ]
  },
  {
   "cell_type": "code",
   "execution_count": null,
   "metadata": {},
   "outputs": [],
   "source": [
    "if '__file__' in globals():\n",
    "    HELPERSCRIPTS = os.path.dirname(os.path.abspath(os.path.join(os.getcwd(), __file__)))\n",
    "else:\n",
    "    HELPERSCRIPTS = os.getcwd()"
   ]
  },
  {
   "cell_type": "markdown",
   "metadata": {},
   "source": [
    "## Setup victim parameters"
   ]
  },
  {
   "cell_type": "code",
   "execution_count": null,
   "metadata": {},
   "outputs": [],
   "source": [
    "SCOPETYPE = 'OPENADC'\n",
    "PLATFORM = 'CWLITEXMEGA'\n",
    "CRYPTO_TARGET = 'NONE'"
   ]
  },
  {
   "cell_type": "code",
   "execution_count": null,
   "metadata": {},
   "outputs": [],
   "source": [
    "print('''--- Environment ---\n",
    "Home of ChipWhisperer:\n",
    "    $CWPATH = \"{}\"\n",
    "Home of ChipWhisperer Firmware:\n",
    "    $FIRMWAREPATH = \"{}\"\n",
    "Home of helper:\n",
    "    $HELPERSCRIPTS = \"{}\"\n",
    "    \n",
    "--- Target ---\n",
    "Target platform:\n",
    "    $PLATFORM = \"{}\"\n",
    "Crypto target:\n",
    "    $CRYPTO_TARGET = \"{}\"\n",
    "Scope:\n",
    "    $SCOPETYPE = \"{}\"\n",
    "'''.format(CWPATH, FIRMWAREPATH, HELPERSCRIPTS, PLATFORM, CRYPTO_TARGET, SCOPETYPE))"
   ]
  }
 ],
 "metadata": {
  "kernelspec": {
   "display_name": "Python 3",
   "language": "python",
   "name": "python3"
  },
  "language_info": {
   "codemirror_mode": {
    "name": "ipython",
    "version": 3
   },
   "file_extension": ".py",
   "mimetype": "text/x-python",
   "name": "python",
   "nbconvert_exporter": "python",
   "pygments_lexer": "ipython3",
   "version": "3.7.3"
  },
  "toc": {
   "base_numbering": 1,
   "nav_menu": {},
   "number_sections": true,
   "sideBar": true,
   "skip_h1_title": true,
   "title_cell": "Table of Contents",
   "title_sidebar": "Contents",
   "toc_cell": false,
   "toc_position": {},
   "toc_section_display": true,
   "toc_window_display": true
  }
 },
 "nbformat": 4,
 "nbformat_minor": 2
}
