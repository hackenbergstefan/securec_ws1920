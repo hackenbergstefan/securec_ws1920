{
 "cells": [
  {
   "cell_type": "markdown",
   "metadata": {},
   "source": [
    "# Attack Password VI (Hashes)"
   ]
  },
  {
   "cell_type": "code",
   "execution_count": null,
   "metadata": {
    "hide_input": true
   },
   "outputs": [],
   "source": [
    "%run '../util/Metadata.ipynb'\n",
    "print_metadata()"
   ]
  },
  {
   "cell_type": "markdown",
   "metadata": {
    "toc": true
   },
   "source": [
    "<h1>Table of Contents<span class=\"tocSkip\"></span></h1>\n",
    "<div class=\"toc\"><ul class=\"toc-item\"><li><span><a href=\"#Recap-side-channel-attacks\" data-toc-modified-id=\"Recap-side-channel-attacks-1\"><span class=\"toc-item-num\">1&nbsp;&nbsp;</span>Recap side channel attacks</a></span></li><li><span><a href=\"#Comparison-of-passwords-hashes\" data-toc-modified-id=\"Comparison-of-passwords-hashes-2\"><span class=\"toc-item-num\">2&nbsp;&nbsp;</span>Comparison of <del>passwords</del> hashes</a></span><ul class=\"toc-item\"><li><span><a href=\"#Advantages-of-hash-values-when-storing-passwords\" data-toc-modified-id=\"Advantages-of-hash-values-when-storing-passwords-2.1\"><span class=\"toc-item-num\">2.1&nbsp;&nbsp;</span>Advantages of hash values when storing passwords</a></span></li></ul></li><li><span><a href=\"#Basic-Setup\" data-toc-modified-id=\"Basic-Setup-3\"><span class=\"toc-item-num\">3&nbsp;&nbsp;</span>Basic Setup</a></span></li><li><span><a href=\"#Helper-Functions-for-Password-Attack\" data-toc-modified-id=\"Helper-Functions-for-Password-Attack-4\"><span class=\"toc-item-num\">4&nbsp;&nbsp;</span>Helper Functions for Password Attack</a></span></li><li><span><a href=\"#Check-password-hash\" data-toc-modified-id=\"Check-password-hash-5\"><span class=\"toc-item-num\">5&nbsp;&nbsp;</span>Check password hash</a></span></li><li><span><a href=\"#Disconnect\" data-toc-modified-id=\"Disconnect-6\"><span class=\"toc-item-num\">6&nbsp;&nbsp;</span>Disconnect</a></span></li></ul></div>"
   ]
  },
  {
   "cell_type": "markdown",
   "metadata": {},
   "source": [
    "In this example we want to present the final \"solution\" against a side-channel attack on our password check for now.\n",
    "\n",
    "## Recap side channel attacks\n",
    "\n",
    "We have learned how to hide critical operations but it is just a matter of effort to beat against these countermeasures.\n",
    "\n",
    "An obvious solution against all side channel attacks would (of course) be not to give any relationship between the password and the attempt. Or more generally, between a secret and an input. This sounds weird as the purpose of a password-check-routine is to compare a password and an attempt. But one can compare not the password itself but a kind of substitute which is computed out of the password but from which the password cannot be revealed. This is exactly what a hash function accomplishes.\n",
    "\n",
    "## Comparison of ~~passwords~~ hashes\n",
    "\n",
    "Let's consider the following password check:\n",
    "\n",
    "```c\n",
    "uint8_t check_password_sha(uint8_t *attempt)\n",
    "{\n",
    "    uint8_t passbad;\n",
    "    uint8_t buffer[HASH_LENGTH_SHA256];\n",
    "\n",
    "    sha256(buffer, attempt, sizeof(password);\n",
    "\n",
    "    trigger_high();\n",
    "    passbad = memcmp(buffer, password_sha256);\n",
    "    trigger_low();\n",
    "\n",
    "    return passbad == 1;\n",
    "}\n",
    "```\n",
    "\n",
    "We replaced all the elaborated side channel countermeasures by the very first approach using `memcmp`. But, as stated above, the password itself does not go into the comparison anymore.\n",
    "\n",
    "### Advantages of hash values when storing passwords\n",
    "\n",
    "* If an attacker reveals the input of the `memcmp` he has no more information as there is no way to reverse-compute the hash function.\n",
    "* The length of the hashed password independent of the length of the password.\n",
    "\n",
    "Besides the side channel topic there are further advantages of hash function when dealing with passwords:\n",
    "\n",
    "* If the password is stored in plaintext somewhere the threat is high that it can be readout by an mistake in software or by another attack."
   ]
  },
  {
   "cell_type": "markdown",
   "metadata": {},
   "source": [
    "## Basic Setup"
   ]
  },
  {
   "cell_type": "markdown",
   "metadata": {},
   "source": [
    "Define Variables"
   ]
  },
  {
   "cell_type": "code",
   "execution_count": null,
   "metadata": {},
   "outputs": [],
   "source": [
    "%run \"../util/Init.ipynb\""
   ]
  },
  {
   "cell_type": "markdown",
   "metadata": {},
   "source": [
    "Build target and upload\n",
    "\n",
    "**NOTE**: In my CW version ([e2adf19](https://github.com/newaetech/chipwhisperer/commit/e2adf1938804413828cc8fa8b19e3cd741950756)) the compilation of mbedtls does not work as expected. To get it work apply the following patch in the file `hardware/victims/firmware/crypto/mbedtls/include/mbedtls/config.h`:\n",
    "\n",
    "```diff\n",
    "@@ -24,7 +24,7 @@\n",
    "  *\n",
    "  *  This file is part of mbed TLS (https://tls.mbed.org)\n",
    "  */\n",
    "-#if PLATFORM==CWNANO\n",
    "+#if 0\n",
    " #ifndef MBEDTLS_CONFIG_H\n",
    " #define MBEDTLS_CONFIG_H\n",
    "``` \n"
   ]
  },
  {
   "cell_type": "code",
   "execution_count": null,
   "metadata": {},
   "outputs": [],
   "source": [
    "TARGET = 'sha-passwordcheck'\n",
    "CRYPTO_TARGET = \"MBEDTLS\"\n",
    "CRYPTO_OPTIONS = \"SHA1\"\n",
    "%store TARGET\n",
    "%run \"$HELPERSCRIPTS/Prepare.ipynb\""
   ]
  },
  {
   "cell_type": "markdown",
   "metadata": {},
   "source": [
    "Import helper functions"
   ]
  },
  {
   "cell_type": "code",
   "execution_count": null,
   "metadata": {},
   "outputs": [],
   "source": [
    "%run \"$HELPERSCRIPTS/Setup_Generic.ipynb\""
   ]
  },
  {
   "cell_type": "code",
   "execution_count": null,
   "metadata": {},
   "outputs": [],
   "source": [
    "scope.adc.samples = 2000"
   ]
  },
  {
   "cell_type": "markdown",
   "metadata": {},
   "source": [
    "## Helper Functions for Password Attack"
   ]
  },
  {
   "cell_type": "code",
   "execution_count": null,
   "metadata": {},
   "outputs": [],
   "source": [
    "from bokeh.plotting import figure, show \n",
    "from bokeh.io import output_notebook\n",
    "from bokeh.models import CrosshairTool, Label\n",
    "\n",
    "output_notebook()"
   ]
  },
  {
   "cell_type": "code",
   "execution_count": null,
   "metadata": {},
   "outputs": [],
   "source": [
    "import warnings\n",
    "import random\n",
    "import tqdm\n",
    "import numpy as np\n",
    "\n",
    "command = '4'\n",
    "\"\"\"Command to execute\"\"\"\n",
    "\n",
    "password_length = 8\n",
    "\"\"\"Number of bytes of password\"\"\"\n",
    "\n",
    "sha1_digest_length = 20\n",
    "\"\"\"Number of bytes of a SHA1 digest\"\"\"\n",
    "\n",
    "def capture(command, data):\n",
    "    scope.arm()\n",
    "    target.simpleserial_write(command, data)\n",
    "\n",
    "    ret = scope.capture()\n",
    "\n",
    "    i = 0\n",
    "    while not target.is_done():\n",
    "        i += 1\n",
    "        time.sleep(0.05)\n",
    "        if i > 100:\n",
    "            warnings.warn(\"Target did not finish operation\")\n",
    "            return None\n",
    "\n",
    "    if ret:\n",
    "        warnings.warn(\"Timeout happened during capture\")\n",
    "        return None\n",
    "\n",
    "    return scope.get_last_trace()\n",
    "\n",
    "def target_set_password(password):\n",
    "    target.simpleserial_write('p', password)\n",
    "    return target.simpleserial_read('r', sha1_digest_length)\n",
    "\n",
    "def target_check_password(command, password):\n",
    "    target.simpleserial_write(command, password)\n",
    "    return bytes(target.simpleserial_read('r', 1))[0] == 0"
   ]
  },
  {
   "cell_type": "markdown",
   "metadata": {},
   "source": [
    "## Check password hash"
   ]
  },
  {
   "cell_type": "code",
   "execution_count": null,
   "metadata": {},
   "outputs": [],
   "source": [
    "import hashlib\n",
    "password = b'ifx2019a'\n",
    "password_hash = bytes(target_set_password(password))\n",
    "password_hash == hashlib.sha1(password).digest()"
   ]
  },
  {
   "cell_type": "markdown",
   "metadata": {},
   "source": [
    "## Disconnect"
   ]
  },
  {
   "cell_type": "code",
   "execution_count": null,
   "metadata": {},
   "outputs": [],
   "source": [
    "scope.dis()\n",
    "target.dis()"
   ]
  }
 ],
 "metadata": {
  "kernelspec": {
   "display_name": "Python 3",
   "language": "python",
   "name": "python3"
  },
  "language_info": {
   "codemirror_mode": {
    "name": "ipython",
    "version": 3
   },
   "file_extension": ".py",
   "mimetype": "text/x-python",
   "name": "python",
   "nbconvert_exporter": "python",
   "pygments_lexer": "ipython3",
   "version": "3.7.3"
  },
  "toc": {
   "base_numbering": 1,
   "nav_menu": {},
   "number_sections": true,
   "sideBar": true,
   "skip_h1_title": true,
   "title_cell": "Table of Contents",
   "title_sidebar": "Contents",
   "toc_cell": true,
   "toc_position": {
    "height": "calc(100% - 180px)",
    "left": "10px",
    "top": "150px",
    "width": "198.5px"
   },
   "toc_section_display": true,
   "toc_window_display": true
  }
 },
 "nbformat": 4,
 "nbformat_minor": 2
}
