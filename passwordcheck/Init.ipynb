{
 "cells": [
  {
   "cell_type": "markdown",
   "metadata": {},
   "source": [
    "# Generic Initialization"
   ]
  },
  {
   "cell_type": "code",
   "execution_count": null,
   "metadata": {},
   "outputs": [],
   "source": [
    "import os"
   ]
  },
  {
   "cell_type": "markdown",
   "metadata": {},
   "source": [
    "## Setup paths variables"
   ]
  },
  {
   "cell_type": "code",
   "execution_count": null,
   "metadata": {},
   "outputs": [],
   "source": [
    "CWPATH = '/home/stefan/Work/chipwhisperer'\n",
    "FIRMWAREPATH = os.path.join(CWPATH, 'hardware/victims/firmware')"
   ]
  },
  {
   "cell_type": "markdown",
   "metadata": {},
   "source": [
    "## Setup victim parameters"
   ]
  },
  {
   "cell_type": "code",
   "execution_count": null,
   "metadata": {},
   "outputs": [],
   "source": [
    "SCOPETYPE = 'OPENADC'\n",
    "PLATFORM = 'CWLITEXMEGA'\n",
    "CRYPTO_TARGET = 'NONE'"
   ]
  },
  {
   "cell_type": "code",
   "execution_count": null,
   "metadata": {},
   "outputs": [],
   "source": [
    "print('''--- Environment ---\n",
    "Home of ChipWhisperer:\n",
    "    $CWPATH = \"{}\"\n",
    "Home of ChipWhisperer Firmware:\n",
    "    $FIRMWAREPATH = \"{}\"\n",
    "    \n",
    "--- Target ---\n",
    "Target platform:\n",
    "    $PLATFORM = \"{}\"\n",
    "Crypto target:\n",
    "    $CRYPTO_TARGET = \"{}\"\n",
    "Scope:\n",
    "    $SCOPETYPE = \"{}\"\n",
    "'''.format(CWPATH, FIRMWAREPATH, PLATFORM, CRYPTO_TARGET, SCOPETYPE))"
   ]
  }
 ],
 "metadata": {
  "kernelspec": {
   "display_name": "Python 3",
   "language": "python",
   "name": "python3"
  },
  "language_info": {
   "codemirror_mode": {
    "name": "ipython",
    "version": 3
   },
   "file_extension": ".py",
   "mimetype": "text/x-python",
   "name": "python",
   "nbconvert_exporter": "python",
   "pygments_lexer": "ipython3",
   "version": "3.7.3"
  }
 },
 "nbformat": 4,
 "nbformat_minor": 2
}
