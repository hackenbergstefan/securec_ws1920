{
 "cells": [
  {
   "cell_type": "markdown",
   "metadata": {},
   "source": [
    "# Attack Password with Glitching VII"
   ]
  },
  {
   "cell_type": "code",
   "execution_count": null,
   "metadata": {
    "hide_input": true
   },
   "outputs": [],
   "source": [
    "%run '../util/Metadata.ipynb'\n",
    "print_metadata()"
   ]
  },
  {
   "cell_type": "markdown",
   "metadata": {
    "toc": true
   },
   "source": [
    "<h1>Table of Contents<span class=\"tocSkip\"></span></h1>\n",
    "<div class=\"toc\"><ul class=\"toc-item\"><li><span><a href=\"#Basic-Setup\" data-toc-modified-id=\"Basic-Setup-1\"><span class=\"toc-item-num\">1&nbsp;&nbsp;</span>Basic Setup</a></span></li><li><span><a href=\"#Helper-Functions-for-Password-Attack\" data-toc-modified-id=\"Helper-Functions-for-Password-Attack-2\"><span class=\"toc-item-num\">2&nbsp;&nbsp;</span>Helper Functions for Password Attack</a></span></li><li><span><a href=\"#Test-Password-check-function\" data-toc-modified-id=\"Test-Password-check-function-3\"><span class=\"toc-item-num\">3&nbsp;&nbsp;</span>Test Password check function</a></span></li><li><span><a href=\"#Glitching\" data-toc-modified-id=\"Glitching-4\"><span class=\"toc-item-num\">4&nbsp;&nbsp;</span>Glitching</a></span><ul class=\"toc-item\"><li><span><a href=\"#Clock-Glitch-Setup\" data-toc-modified-id=\"Clock-Glitch-Setup-4.1\"><span class=\"toc-item-num\">4.1&nbsp;&nbsp;</span>Clock Glitch Setup</a></span></li><li><span><a href=\"#Scan-all-Parameters\" data-toc-modified-id=\"Scan-all-Parameters-4.2\"><span class=\"toc-item-num\">4.2&nbsp;&nbsp;</span>Scan all Parameters</a></span></li><li><span><a href=\"#Test-specific-findings\" data-toc-modified-id=\"Test-specific-findings-4.3\"><span class=\"toc-item-num\">4.3&nbsp;&nbsp;</span>Test specific findings</a></span></li><li><span><a href=\"#Test-Single-Password-try\" data-toc-modified-id=\"Test-Single-Password-try-4.4\"><span class=\"toc-item-num\">4.4&nbsp;&nbsp;</span>Test Single Password try</a></span></li></ul></li><li><span><a href=\"#Disconnect\" data-toc-modified-id=\"Disconnect-5\"><span class=\"toc-item-num\">5&nbsp;&nbsp;</span>Disconnect</a></span></li></ul></div>"
   ]
  },
  {
   "cell_type": "markdown",
   "metadata": {},
   "source": [
    "## Basic Setup"
   ]
  },
  {
   "cell_type": "markdown",
   "metadata": {},
   "source": [
    "Define Variables"
   ]
  },
  {
   "cell_type": "code",
   "execution_count": null,
   "metadata": {},
   "outputs": [],
   "source": [
    "%run \"../util/Init.ipynb\""
   ]
  },
  {
   "cell_type": "markdown",
   "metadata": {},
   "source": [
    "Build target and upload"
   ]
  },
  {
   "cell_type": "code",
   "execution_count": null,
   "metadata": {},
   "outputs": [],
   "source": [
    "TARGET = 'simpleserial-passwordcheck'\n",
    "%store TARGET\n",
    "%run \"$HELPERSCRIPTS/Prepare.ipynb\""
   ]
  },
  {
   "cell_type": "markdown",
   "metadata": {},
   "source": [
    "Import helper functions"
   ]
  },
  {
   "cell_type": "code",
   "execution_count": null,
   "metadata": {},
   "outputs": [],
   "source": [
    "%run \"$HELPERSCRIPTS/Setup_Generic.ipynb\""
   ]
  },
  {
   "cell_type": "code",
   "execution_count": null,
   "metadata": {},
   "outputs": [],
   "source": [
    "scope.adc.samples = 5"
   ]
  },
  {
   "cell_type": "markdown",
   "metadata": {},
   "source": [
    "## Helper Functions for Password Attack"
   ]
  },
  {
   "cell_type": "code",
   "execution_count": null,
   "metadata": {},
   "outputs": [],
   "source": [
    "from bokeh.plotting import figure, show \n",
    "from bokeh.io import push_notebook, show, output_notebook\n",
    "from bokeh.models import CrosshairTool, Label, HoverTool\n",
    "from bokeh.layouts import row\n",
    "from bokeh.colors import Color, RGB\n",
    "\n",
    "output_notebook()"
   ]
  },
  {
   "cell_type": "code",
   "execution_count": null,
   "metadata": {},
   "outputs": [],
   "source": [
    "import warnings\n",
    "import tqdm\n",
    "import numpy as np\n",
    "\n",
    "command = '1'\n",
    "\"\"\"Command to execute\"\"\"\n",
    "\n",
    "password_length = 8\n",
    "\"\"\"Number of bytes of password\"\"\"\n",
    "\n",
    "def target_set_password(password):\n",
    "    target.simpleserial_write('p', password)\n",
    "    return target.simpleserial_read('r', password_length)\n",
    "\n",
    "def target_check_password(command, password):\n",
    "    target.simpleserial_write(command, password)\n",
    "    return bytes(target.simpleserial_read('r', 1))[0] == 0\n"
   ]
  },
  {
   "cell_type": "code",
   "execution_count": null,
   "metadata": {},
   "outputs": [],
   "source": [
    "def init_plot(xrange, yrange):\n",
    "    p1 = figure(x_range = xrange, y_range = yrange, sizing_mode='stretch_width')\n",
    "    p1.circle([xrange[0]],[yrange[0]], size = 0)\n",
    "    t = show(p1, notebook_handle = True)\n",
    "    return p1, t"
   ]
  },
  {
   "cell_type": "code",
   "execution_count": null,
   "metadata": {},
   "outputs": [],
   "source": [
    "def update_plot(p1, handle_t, points_x, points_y, point_color):\n",
    "    p1.square(points_x, points_y, color = point_color, size = 20)\n",
    "    push_notebook(handle=handle_t)"
   ]
  },
  {
   "cell_type": "markdown",
   "metadata": {},
   "source": [
    "## Test Password check function"
   ]
  },
  {
   "cell_type": "code",
   "execution_count": null,
   "metadata": {},
   "outputs": [],
   "source": [
    "password = b'ifx2019a'\n",
    "check = b'ifx2019b'\n",
    "target_set_password(password)\n",
    "target_check_password(command, password) and not target_check_password(command, check)"
   ]
  },
  {
   "cell_type": "markdown",
   "metadata": {},
   "source": [
    "## Glitching\n",
    "### Clock Glitch Setup"
   ]
  },
  {
   "cell_type": "code",
   "execution_count": null,
   "metadata": {},
   "outputs": [],
   "source": [
    "scope.glitch.clk_src = \"clkgen\"\n",
    "scope.glitch.output = \"clock_xor\"\n",
    "scope.glitch.trigger_src = \"ext_single\"\n",
    "scope.io.hs2 = \"glitch\"\n",
    "\n",
    "print(scope.glitch)"
   ]
  },
  {
   "cell_type": "code",
   "execution_count": null,
   "metadata": {},
   "outputs": [],
   "source": [
    "class Range:\n",
    "    def __init__(self, min, max, step):\n",
    "        self.min = min\n",
    "        self.max = max\n",
    "        self.step = step\n",
    "\n",
    "    def __iter__(self):\n",
    "        return iter(range(self.min, self.max + 1, self.step))"
   ]
  },
  {
   "cell_type": "code",
   "execution_count": null,
   "metadata": {},
   "outputs": [],
   "source": [
    "pass_guess = b'xxxxxxxx'\n",
    "\n",
    "def target_glitch_password():\n",
    "    reset_target(scope)\n",
    "    scope.arm()\n",
    "    target.simpleserial_write(command, pass_guess)\n",
    "    ret = scope.capture()\n",
    " \n",
    "    res = target.simpleserial_read('r', 1)\n",
    "    if res != None:\n",
    "        return bytes(res)[0] == 0x00\n",
    "    return False"
   ]
  },
  {
   "cell_type": "markdown",
   "metadata": {},
   "source": [
    "### Scan all Parameters "
   ]
  },
  {
   "cell_type": "code",
   "execution_count": null,
   "metadata": {
    "scrolled": false
   },
   "outputs": [],
   "source": [
    "pass_guess = b'ifx2019b'\n",
    "attack1_data = []\n",
    "\n",
    "width_range = Range(-10, 10, 1)\n",
    "\"\"\"Range to test for scope.glitch.width\"\"\"\n",
    "\n",
    "offset_range = Range(-10, 10, 1)\n",
    "\"\"\"Range to test for scope.glitch.offset\"\"\"\n",
    "\n",
    "repeat_range = Range(5, 5, 1)\n",
    "\"\"\"Range to test for scope.glitch.repeat\"\"\"\n",
    "\n",
    "sample_size = 4\n",
    "\"\"\"Numer of samples to record for each setting\"\"\"\n",
    "\n",
    "scope.glitch.width = width_range.min\n",
    "\n",
    "p, t = init_plot((width_range.min - 0.5, width_range.max), (offset_range.min - 1.5, offset_range.max + 1))\n",
    "p.add_tools(HoverTool())\n",
    "\n",
    "for width in width_range:\n",
    "    for offset in offset_range:\n",
    "        for repeat in repeat_range:\n",
    "            # Setup scope.glitch\n",
    "            scope.glitch.offset = offset\n",
    "            scope.glitch.width = width\n",
    "            scope.glitch.repeat = repeat\n",
    "\n",
    "            # Perform glitches\n",
    "            successes = sum(target_glitch_password() for _ in range(sample_size))\n",
    "\n",
    "            # Record and plot data\n",
    "            if successes > 0:\n",
    "                attack1_data.append((scope.glitch.width, scope.glitch.offset, scope.glitch.repeat, successes))\n",
    "                color = Color.lighten(RGB(0x00, 0xff, 0x00), -((successes / sample_size) / 2.0 - 0.25))\n",
    "            else:\n",
    "                color = 'red'\n",
    "            \n",
    "            update_plot(p, t, width, offset, color)"
   ]
  },
  {
   "cell_type": "code",
   "execution_count": null,
   "metadata": {},
   "outputs": [],
   "source": [
    "for data in attack1_data:\n",
    "    print(data)"
   ]
  },
  {
   "cell_type": "markdown",
   "metadata": {},
   "source": [
    "### Test specific findings"
   ]
  },
  {
   "cell_type": "code",
   "execution_count": null,
   "metadata": {},
   "outputs": [],
   "source": [
    "test_width = 1.5625\n",
    "test_range = -8.984375\n",
    "\n",
    "repeat_range = Range(1, 10, 1)\n",
    "\"\"\"Range to test for scope.glitch.repeat\"\"\"\n",
    "\n",
    "sample_size = 10\n",
    "\"\"\"Numer of samples to record for each setting\"\"\"\n",
    "\n",
    "attack2_data = []\n",
    "\n",
    "scope.glitch.width = test_width\n",
    "scope.glitch.offset = test_range\n",
    "for repeat in repeat_range:\n",
    "    scope.glitch.repeat = repeat\n",
    "    \n",
    "    # Perform glitches\n",
    "    successes = sum(target_glitch_password() for _ in range(sample_size))\n",
    "\n",
    "    if successes > 0:\n",
    "        attack2_data.append((scope.glitch.width, scope.glitch.offset, scope.glitch.repeat, successes))\n",
    "        print(attack2_data[-1])"
   ]
  },
  {
   "cell_type": "markdown",
   "metadata": {},
   "source": [
    "### Test Single Password try"
   ]
  },
  {
   "cell_type": "code",
   "execution_count": null,
   "metadata": {},
   "outputs": [],
   "source": [
    "from tqdm import tnrange\n",
    "\n",
    "test_width = 1.5625\n",
    "test_range = -8.984375\n",
    "test_repeat = 6\n",
    "\n",
    "scope.glitch.width = test_width\n",
    "scope.glitch.offset = test_range\n",
    "scope.glitch.repeat = test_repeat\n",
    "    \n",
    "if target_glitch_password():\n",
    "    print('Target says: Password correct')\n",
    "else:\n",
    "    print('Target says: Password wrong')"
   ]
  },
  {
   "cell_type": "markdown",
   "metadata": {},
   "source": [
    "## Disconnect"
   ]
  },
  {
   "cell_type": "code",
   "execution_count": null,
   "metadata": {},
   "outputs": [],
   "source": [
    "scope.dis()\n",
    "target.dis()"
   ]
  }
 ],
 "metadata": {
  "kernelspec": {
   "display_name": "Python 3",
   "language": "python",
   "name": "python3"
  },
  "language_info": {
   "codemirror_mode": {
    "name": "ipython",
    "version": 3
   },
   "file_extension": ".py",
   "mimetype": "text/x-python",
   "name": "python",
   "nbconvert_exporter": "python",
   "pygments_lexer": "ipython3",
   "version": "3.7.3"
  },
  "toc": {
   "base_numbering": 1,
   "nav_menu": {},
   "number_sections": true,
   "sideBar": true,
   "skip_h1_title": true,
   "title_cell": "Table of Contents",
   "title_sidebar": "Contents",
   "toc_cell": true,
   "toc_position": {
    "height": "calc(100% - 180px)",
    "left": "10px",
    "top": "150px",
    "width": "198.5px"
   },
   "toc_section_display": true,
   "toc_window_display": true
  }
 },
 "nbformat": 4,
 "nbformat_minor": 2
}
