{
 "cells": [
  {
   "cell_type": "markdown",
   "metadata": {},
   "source": [
    "# Attack Password with an Template Attack V"
   ]
  },
  {
   "cell_type": "code",
   "execution_count": null,
   "metadata": {
    "hide_input": true
   },
   "outputs": [],
   "source": [
    "%run '../util/Metadata.ipynb'\n",
    "print_metadata()"
   ]
  },
  {
   "cell_type": "markdown",
   "metadata": {
    "toc": true
   },
   "source": [
    "<h1>Table of Contents<span class=\"tocSkip\"></span></h1>\n",
    "<div class=\"toc\"><ul class=\"toc-item\"><li><span><a href=\"#Motivation\" data-toc-modified-id=\"Motivation-1\"><span class=\"toc-item-num\">1&nbsp;&nbsp;</span>Motivation</a></span></li><li><span><a href=\"#Basic-Setup\" data-toc-modified-id=\"Basic-Setup-2\"><span class=\"toc-item-num\">2&nbsp;&nbsp;</span>Basic Setup</a></span></li><li><span><a href=\"#Helper-Functions-for-Password-Attack\" data-toc-modified-id=\"Helper-Functions-for-Password-Attack-3\"><span class=\"toc-item-num\">3&nbsp;&nbsp;</span>Helper Functions for Password Attack</a></span></li><li><span><a href=\"#Profiling-phase\" data-toc-modified-id=\"Profiling-phase-4\"><span class=\"toc-item-num\">4&nbsp;&nbsp;</span>Profiling phase</a></span><ul class=\"toc-item\"><li><span><a href=\"#Finding-points-of-interest\" data-toc-modified-id=\"Finding-points-of-interest-4.1\"><span class=\"toc-item-num\">4.1&nbsp;&nbsp;</span>Finding points of interest</a></span></li><li><span><a href=\"#Calculate-template\" data-toc-modified-id=\"Calculate-template-4.2\"><span class=\"toc-item-num\">4.2&nbsp;&nbsp;</span>Calculate template</a></span></li></ul></li><li><span><a href=\"#Attacking-phase\" data-toc-modified-id=\"Attacking-phase-5\"><span class=\"toc-item-num\">5&nbsp;&nbsp;</span>Attacking phase</a></span><ul class=\"toc-item\"><li><span><a href=\"#Capture\" data-toc-modified-id=\"Capture-5.1\"><span class=\"toc-item-num\">5.1&nbsp;&nbsp;</span>Capture</a></span></li><li><span><a href=\"#Apply-template\" data-toc-modified-id=\"Apply-template-5.2\"><span class=\"toc-item-num\">5.2&nbsp;&nbsp;</span>Apply template</a></span></li></ul></li><li><span><a href=\"#The-full-attack\" data-toc-modified-id=\"The-full-attack-6\"><span class=\"toc-item-num\">6&nbsp;&nbsp;</span>The full attack</a></span></li><li><span><a href=\"#Disconnect\" data-toc-modified-id=\"Disconnect-7\"><span class=\"toc-item-num\">7&nbsp;&nbsp;</span>Disconnect</a></span></li></ul></div>"
   ]
  },
  {
   "cell_type": "markdown",
   "metadata": {},
   "source": [
    "## Motivation\n",
    "\n",
    "In the last notebooks we revealed interesting ways of beating the CPA by adding randomness into the loop. But there is another very easy possibility to prohibit a CPA a priori: Punish wrong attempts either by introducing an increasing waiting time between two attempts or by counting wrong attempts and locking out the attacker finally. In both cases CPA looses its point of attack because the number of traces which can be recorded is very limited.\n",
    "\n",
    "This is the point where Template Attack comes into play. It is divided into two phases: A profiling phase and an attack phase. During the profiling phase a huge number of traces is recorded from an open device which is under full control of the attacker. A so called *template* can be created out of these traces. During the attacking phase only a few traces are needed (even one can be sufficient). The templates is applied on these few traces and gives directly a conclusion about the secret.\n",
    "\n",
    "As the template attack is described very detailed in a [ChipWhisperer example](https://chipwhisperer.readthedocs.io/en/latest/tutorials/pa_profiling_1-openadc-cwlitexmega.html) only the application of the attack is shown here."
   ]
  },
  {
   "cell_type": "markdown",
   "metadata": {},
   "source": [
    "## Basic Setup"
   ]
  },
  {
   "cell_type": "markdown",
   "metadata": {},
   "source": [
    "Define Variables"
   ]
  },
  {
   "cell_type": "code",
   "execution_count": null,
   "metadata": {},
   "outputs": [],
   "source": [
    "%run \"../util/Init.ipynb\""
   ]
  },
  {
   "cell_type": "markdown",
   "metadata": {},
   "source": [
    "Build target and upload"
   ]
  },
  {
   "cell_type": "code",
   "execution_count": null,
   "metadata": {},
   "outputs": [],
   "source": [
    "TARGET = 'simpleserial-passwordcheck'\n",
    "%store TARGET\n",
    "%run \"$HELPERSCRIPTS/Prepare.ipynb\""
   ]
  },
  {
   "cell_type": "markdown",
   "metadata": {},
   "source": [
    "Import helper functions"
   ]
  },
  {
   "cell_type": "code",
   "execution_count": null,
   "metadata": {},
   "outputs": [],
   "source": [
    "%run \"$HELPERSCRIPTS/Setup_Generic.ipynb\""
   ]
  },
  {
   "cell_type": "code",
   "execution_count": null,
   "metadata": {},
   "outputs": [],
   "source": [
    "scope.adc.samples = 500"
   ]
  },
  {
   "cell_type": "markdown",
   "metadata": {},
   "source": [
    "## Helper Functions for Password Attack"
   ]
  },
  {
   "cell_type": "code",
   "execution_count": null,
   "metadata": {},
   "outputs": [],
   "source": [
    "from bokeh.plotting import figure, show \n",
    "from bokeh.io import output_notebook\n",
    "from bokeh.models import CrosshairTool, Label\n",
    "\n",
    "output_notebook()"
   ]
  },
  {
   "cell_type": "code",
   "execution_count": null,
   "metadata": {},
   "outputs": [],
   "source": [
    "import warnings\n",
    "import random\n",
    "import tqdm\n",
    "import numpy as np\n",
    "\n",
    "command = '1'\n",
    "\"\"\"Command to execute\"\"\"\n",
    "\n",
    "password_length = 8\n",
    "\"\"\"Number of bytes of password\"\"\"\n",
    "\n",
    "random_length = 32\n",
    "\"\"\"Number of bytes of random input\"\"\"\n",
    "\n",
    "def capture(command, data):\n",
    "    scope.arm()\n",
    "    target.simpleserial_write(command, data)\n",
    "\n",
    "    ret = scope.capture()\n",
    "\n",
    "    i = 0\n",
    "    while not target.is_done():\n",
    "        i += 1\n",
    "        time.sleep(0.05)\n",
    "        if i > 100:\n",
    "            warnings.warn(\"Target did not finish operation\")\n",
    "            return None\n",
    "\n",
    "    if ret:\n",
    "        warnings.warn(\"Timeout happened during capture\")\n",
    "        return None\n",
    "\n",
    "    return scope.get_last_trace()\n",
    "\n",
    "def target_set_random(random_input=None):\n",
    "    if random_input is not None:\n",
    "        rand = random_input()\n",
    "    else:\n",
    "        rand = bytes(random.choices(range(0, 256), k=random_length))\n",
    "    target.simpleserial_write('r', rand)\n",
    "    return rand\n",
    "\n",
    "def target_set_password(password):\n",
    "    target.simpleserial_write('p', password)\n",
    "    return target.simpleserial_read('r', password_length)\n",
    "\n",
    "def target_check_password(command, password):\n",
    "    target.simpleserial_write(command, password)\n",
    "    return bytes(target.simpleserial_read('r', 1))[0] == 0\n",
    "\n",
    "def capture_random_passwords(command, size=500):\n",
    "    traces = []\n",
    "    textins = []\n",
    "    passwords = []\n",
    "    for _ in tqdm.tqdm_notebook(range(size)):\n",
    "        passwords.append(bytes(random.choices(range(0, 256), k=password_length)))\n",
    "        textins.append(bytes(random.choices(range(0, 256), k=password_length)))\n",
    "        target_set_password(passwords[-1])\n",
    "        traces.append(capture(command, textins[-1]))\n",
    "    return np.array(traces), textins, passwords\n",
    "\n",
    "def capture_random_attempt(command, size=10):\n",
    "    traces = []\n",
    "    textins = []\n",
    "    for _ in tqdm.tqdm_notebook(range(size)):\n",
    "        textins.append(bytes(random.choices(range(0, 256), k=password_length)))\n",
    "        traces.append(capture(command, textins[-1]))\n",
    "    return np.array(traces), textins"
   ]
  },
  {
   "cell_type": "code",
   "execution_count": null,
   "metadata": {},
   "outputs": [],
   "source": [
    "import numpy as np\n",
    "\n",
    "HW = [bin(n).count(\"1\") for n in range(0, 256)]\n",
    "\n",
    "def hw(n):\n",
    "    if isinstance(n, str):\n",
    "        return HW[ord(n)]\n",
    "    return HW[n]\n",
    "\n",
    "hw_vec = np.vectorize(hw)\n",
    "\n",
    "def cov(x, y):\n",
    "    return np.cov(x, y)[0][1]"
   ]
  },
  {
   "cell_type": "markdown",
   "metadata": {},
   "source": [
    "## Profiling phase"
   ]
  },
  {
   "cell_type": "code",
   "execution_count": null,
   "metadata": {},
   "outputs": [],
   "source": [
    "traces, textins, passwords = capture_random_passwords(command=command, size=30000)"
   ]
  },
  {
   "cell_type": "markdown",
   "metadata": {},
   "source": [
    "### Finding points of interest"
   ]
  },
  {
   "cell_type": "code",
   "execution_count": null,
   "metadata": {},
   "outputs": [],
   "source": [
    "# Groupy traces by different hamming weights\n",
    "traces_per_hw = [[] for _ in range(9)]\n",
    "for trace, passwd, textin in zip(traces, passwords, textins):\n",
    "    traces_per_hw[hw(passwd[0] ^ textin[0])].append(trace)\n",
    "traces_per_hw = list(map(np.array, traces_per_hw))\n",
    "means_per_hw = [np.average(trace, 0) for trace in traces_per_hw]\n",
    "\n",
    "# Calculate sum of absolute differences\n",
    "diffs = np.zeros(means_per_hw[0].shape[0])\n",
    "for mean_i in means_per_hw:\n",
    "    for mean_j in means_per_hw:\n",
    "        diffs += np.abs(mean_i - mean_j)\n",
    "\n",
    "# Plot\n",
    "p = figure()\n",
    "p.add_tools(CrosshairTool())\n",
    "p.line(range(len(diffs)), diffs, color='blue', legend='Sum of diffs')\n",
    "show(p)\n",
    "\n",
    "# Take highest 10 peaks as pois\n",
    "pois = np.argsort(diffs)[-5:]"
   ]
  },
  {
   "cell_type": "markdown",
   "metadata": {},
   "source": [
    "### Calculate template"
   ]
  },
  {
   "cell_type": "code",
   "execution_count": null,
   "metadata": {
    "scrolled": true
   },
   "outputs": [],
   "source": [
    "template_mean = np.zeros((9, len(pois)))\n",
    "template_cov = np.zeros((9, len(pois), len(pois)))\n",
    "\n",
    "for ham in range(template_mean.shape[0]):\n",
    "    for i in range(len(pois)):\n",
    "        template_mean[ham, i] = means_per_hw[ham][pois[i]]\n",
    "        for j in range(len(pois)):\n",
    "            template_cov[ham, i, j] = cov(\n",
    "                traces_per_hw[ham][:, pois[i]],\n",
    "                traces_per_hw[ham][:, pois[j]],\n",
    "            )\n",
    "print('template_mean', template_mean.shape, '=\\n', template_mean)\n",
    "print('template_cov', template_cov.shape, '=\\n', template_cov)"
   ]
  },
  {
   "cell_type": "markdown",
   "metadata": {},
   "source": [
    "## Attacking phase"
   ]
  },
  {
   "cell_type": "markdown",
   "metadata": {},
   "source": [
    "### Capture"
   ]
  },
  {
   "cell_type": "code",
   "execution_count": null,
   "metadata": {},
   "outputs": [],
   "source": [
    "target_set_password(b'ifx2019a')\n",
    "traces_attack, textins_attack = capture_random_attempt(command, size=10)"
   ]
  },
  {
   "cell_type": "markdown",
   "metadata": {},
   "source": [
    "### Apply template"
   ]
  },
  {
   "cell_type": "code",
   "execution_count": null,
   "metadata": {},
   "outputs": [],
   "source": [
    "from scipy.stats import multivariate_normal\n",
    "\n",
    "trylist='abcdefghijklmnopqrstuvwxyz0123456789'\n",
    "\n",
    "# 2: Attack\n",
    "# Running total of log P_k\n",
    "P_k = np.zeros(len(trylist))\n",
    "for j in range(len(traces_attack)):\n",
    "    # Grab key points and put them in a small matrix\n",
    "    a = [traces_attack[j][pois[i]] for i in range(len(pois))]\n",
    "    \n",
    "    # Test each key\n",
    "    for k in range(len(trylist)):\n",
    "        # Find HW coming out of sbox\n",
    "        guess_hw = hw(textins_attack[j][0] ^ ord(trylist[k]))\n",
    "    \n",
    "        # Find p_{k,j}\n",
    "        rv = multivariate_normal(template_mean[guess_hw], template_cov[guess_hw])\n",
    "        p_kj = rv.logpdf(a)\n",
    "   \n",
    "        # Add it to running total\n",
    "        P_k[k] += p_kj\n",
    "\n",
    "    # Print our top 5 results so far\n",
    "    # Best match on the right\n",
    "    print(j, 'best five: ', ' '.join([trylist[j] for j in P_k.argsort()[-5:][::-1]]))\n",
    "    \n",
    "guess = P_k.argsort()[-1]\n",
    "print(hex(guess))"
   ]
  },
  {
   "cell_type": "markdown",
   "metadata": {},
   "source": [
    "## The full attack"
   ]
  },
  {
   "cell_type": "code",
   "execution_count": null,
   "metadata": {},
   "outputs": [],
   "source": [
    "from scipy.stats import multivariate_normal\n",
    "\n",
    "def generate_template_for_index(traces, textins, passwords, index, poilength):\n",
    "    # Groupy traces by different hamming weights\n",
    "    traces_per_hw = [[] for _ in range(9)]\n",
    "    for trace, passwd, textin in zip(traces, passwords, textins):\n",
    "        traces_per_hw[hw(passwd[index] ^ textin[index])].append(trace)\n",
    "    traces_per_hw = list(map(np.array, traces_per_hw))\n",
    "    means_per_hw = [np.average(trace, 0) for trace in traces_per_hw]\n",
    "\n",
    "    # Calculate sum of absolute differences\n",
    "    diffs = np.zeros(means_per_hw[0].shape[0])\n",
    "    for mean_i in means_per_hw:\n",
    "        for mean_j in means_per_hw:\n",
    "            diffs += np.abs(mean_i - mean_j)\n",
    "\n",
    "    # Take highest peaks as pois\n",
    "    pois = np.argsort(diffs)[-poilength:]\n",
    "    \n",
    "    template_mean = np.zeros((9, len(pois)))\n",
    "    template_cov = np.zeros((9, len(pois), len(pois)))\n",
    "\n",
    "    for ham in range(template_mean.shape[0]):\n",
    "        for i in range(len(pois)):\n",
    "            template_mean[ham, i] = means_per_hw[ham][pois[i]]\n",
    "            for j in range(len(pois)):\n",
    "                template_cov[ham, i, j] = cov(\n",
    "                    traces_per_hw[ham][:, pois[i]],\n",
    "                    traces_per_hw[ham][:, pois[j]],\n",
    "                )\n",
    "    return {\n",
    "        'rv': [multivariate_normal(template_mean[ham], template_cov[ham]) for ham in range(9)], \n",
    "        'pois': pois\n",
    "    }\n",
    "\n",
    "def generate_template(traces, textins, passwords, poilength=5):\n",
    "    return [generate_template_for_index(traces, textins, passwords, i, poilength) for i in range(len(textins[0]))]"
   ]
  },
  {
   "cell_type": "code",
   "execution_count": null,
   "metadata": {},
   "outputs": [],
   "source": [
    "def attack_with_template(\n",
    "    traces, \n",
    "    textins, \n",
    "    template,\n",
    "    trylist='abcdefghijklmnopqrstuvwxyz0123456789',\n",
    "):\n",
    "    password_guess = []\n",
    "    for password_index in range(len(textins[0])):\n",
    "        P_k = np.zeros(len(trylist))\n",
    "        for j in range(len(traces)):\n",
    "            a = [traces[j][template[password_index]['pois'][i]] for i in range(len(template[password_index]['pois']))]\n",
    "            for guess_index in range(len(trylist)):\n",
    "                guess_hw = hw(textins[j][password_index] ^ ord(trylist[guess_index]))\n",
    "                p_kj = template[password_index]['rv'][guess_hw].logpdf(a)\n",
    "                P_k[guess_index] += p_kj\n",
    "\n",
    "        password_guess.append(trylist[P_k.argsort()[-1]])\n",
    "    return password_guess"
   ]
  },
  {
   "cell_type": "code",
   "execution_count": null,
   "metadata": {},
   "outputs": [],
   "source": [
    "#traces, textins, passwords = capture_random_passwords(command=command, size=30000)\n",
    "template = generate_template(traces, textins, passwords, poilength=3)"
   ]
  },
  {
   "cell_type": "code",
   "execution_count": null,
   "metadata": {},
   "outputs": [],
   "source": [
    "target_set_password(b'ifx2019a')\n",
    "attack_with_template(*capture_random_attempt(command, size=20), template)"
   ]
  },
  {
   "cell_type": "markdown",
   "metadata": {},
   "source": [
    "## Disconnect"
   ]
  },
  {
   "cell_type": "code",
   "execution_count": null,
   "metadata": {},
   "outputs": [],
   "source": [
    "scope.dis()\n",
    "target.dis()"
   ]
  }
 ],
 "metadata": {
  "kernelspec": {
   "display_name": "Python 3",
   "language": "python",
   "name": "python3"
  },
  "language_info": {
   "codemirror_mode": {
    "name": "ipython",
    "version": 3
   },
   "file_extension": ".py",
   "mimetype": "text/x-python",
   "name": "python",
   "nbconvert_exporter": "python",
   "pygments_lexer": "ipython3",
   "version": "3.7.3"
  },
  "toc": {
   "base_numbering": 1,
   "nav_menu": {},
   "number_sections": true,
   "sideBar": true,
   "skip_h1_title": true,
   "title_cell": "Table of Contents",
   "title_sidebar": "Contents",
   "toc_cell": true,
   "toc_position": {
    "height": "calc(100% - 180px)",
    "left": "10px",
    "top": "150px",
    "width": "198.5px"
   },
   "toc_section_display": true,
   "toc_window_display": true
  }
 },
 "nbformat": 4,
 "nbformat_minor": 2
}
