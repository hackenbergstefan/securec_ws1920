{
 "cells": [
  {
   "cell_type": "markdown",
   "metadata": {},
   "source": [
    "# Attack Password with Correlation Power Analysis V (Template)"
   ]
  },
  {
   "cell_type": "code",
   "execution_count": null,
   "metadata": {
    "hide_input": true
   },
   "outputs": [],
   "source": [
    "%run '../helper_scripts/Metadata.ipynb'\n",
    "print_metadata()"
   ]
  },
  {
   "cell_type": "markdown",
   "metadata": {
    "toc": true
   },
   "source": [
    "<h1>Table of Contents<span class=\"tocSkip\"></span></h1>\n",
    "<div class=\"toc\"><ul class=\"toc-item\"><li><span><a href=\"#Improving-the-code\" data-toc-modified-id=\"Improving-the-code-1\"><span class=\"toc-item-num\">1&nbsp;&nbsp;</span>Improving the code</a></span></li><li><span><a href=\"#Basic-Setup\" data-toc-modified-id=\"Basic-Setup-2\"><span class=\"toc-item-num\">2&nbsp;&nbsp;</span>Basic Setup</a></span></li><li><span><a href=\"#Helper-Functions-for-Password-Attack\" data-toc-modified-id=\"Helper-Functions-for-Password-Attack-3\"><span class=\"toc-item-num\">3&nbsp;&nbsp;</span>Helper Functions for Password Attack</a></span></li><li><span><a href=\"#MAD-attack\" data-toc-modified-id=\"MAD-attack-4\"><span class=\"toc-item-num\">4&nbsp;&nbsp;</span>MAD attack</a></span></li><li><span><a href=\"#Pearson-Correlation-Coefficient\" data-toc-modified-id=\"Pearson-Correlation-Coefficient-5\"><span class=\"toc-item-num\">5&nbsp;&nbsp;</span>Pearson Correlation Coefficient</a></span><ul class=\"toc-item\"><li><span><a href=\"#Definition\" data-toc-modified-id=\"Definition-5.1\"><span class=\"toc-item-num\">5.1&nbsp;&nbsp;</span>Definition</a></span></li><li><span><a href=\"#Python-definition\" data-toc-modified-id=\"Python-definition-5.2\"><span class=\"toc-item-num\">5.2&nbsp;&nbsp;</span>Python definition</a></span></li><li><span><a href=\"#Meaning-and-visualization\" data-toc-modified-id=\"Meaning-and-visualization-5.3\"><span class=\"toc-item-num\">5.3&nbsp;&nbsp;</span>Meaning and visualization</a></span></li><li><span><a href=\"#Usage-for-attacks\" data-toc-modified-id=\"Usage-for-attacks-5.4\"><span class=\"toc-item-num\">5.4&nbsp;&nbsp;</span>Usage for attacks</a></span></li></ul></li><li><span><a href=\"#CPA-password-attack\" data-toc-modified-id=\"CPA-password-attack-6\"><span class=\"toc-item-num\">6&nbsp;&nbsp;</span>CPA password attack</a></span></li><li><span><a href=\"#Notes\" data-toc-modified-id=\"Notes-7\"><span class=\"toc-item-num\">7&nbsp;&nbsp;</span>Notes</a></span></li><li><span><a href=\"#Disconnect\" data-toc-modified-id=\"Disconnect-8\"><span class=\"toc-item-num\">8&nbsp;&nbsp;</span>Disconnect</a></span></li></ul></div>"
   ]
  },
  {
   "cell_type": "markdown",
   "metadata": {},
   "source": [
    "In this example we want to improve the password check again to beat an CPA attack.\n",
    "\n",
    "## Improving the code\n"
   ]
  },
  {
   "cell_type": "markdown",
   "metadata": {},
   "source": [
    "## Basic Setup"
   ]
  },
  {
   "cell_type": "markdown",
   "metadata": {},
   "source": [
    "Define Variables"
   ]
  },
  {
   "cell_type": "code",
   "execution_count": null,
   "metadata": {},
   "outputs": [],
   "source": [
    "%run \"../helper_scripts/Init.ipynb\""
   ]
  },
  {
   "cell_type": "markdown",
   "metadata": {},
   "source": [
    "Build target and upload"
   ]
  },
  {
   "cell_type": "code",
   "execution_count": null,
   "metadata": {},
   "outputs": [],
   "source": [
    "TARGET = 'simpleserial-passwordcheck'\n",
    "%store TARGET\n",
    "%run \"$HELPERSCRIPTS/Prepare.ipynb\""
   ]
  },
  {
   "cell_type": "markdown",
   "metadata": {},
   "source": [
    "Import helper functions"
   ]
  },
  {
   "cell_type": "code",
   "execution_count": null,
   "metadata": {},
   "outputs": [],
   "source": [
    "%run \"$HELPERSCRIPTS/Setup_Generic.ipynb\""
   ]
  },
  {
   "cell_type": "code",
   "execution_count": null,
   "metadata": {},
   "outputs": [],
   "source": [
    "scope.adc.samples = 200"
   ]
  },
  {
   "cell_type": "markdown",
   "metadata": {},
   "source": [
    "## Helper Functions for Password Attack"
   ]
  },
  {
   "cell_type": "code",
   "execution_count": null,
   "metadata": {},
   "outputs": [],
   "source": [
    "from bokeh.plotting import figure, show \n",
    "from bokeh.io import output_notebook\n",
    "from bokeh.models import CrosshairTool, Label\n",
    "\n",
    "output_notebook()"
   ]
  },
  {
   "cell_type": "code",
   "execution_count": null,
   "metadata": {},
   "outputs": [],
   "source": [
    "import warnings\n",
    "\n",
    "def capture(command, data):\n",
    "    scope.arm()\n",
    "\n",
    "    target.simpleserial_write(command, data)\n",
    "\n",
    "    ret = scope.capture()\n",
    "\n",
    "    i = 0\n",
    "    while not target.is_done():\n",
    "        i += 1\n",
    "        time.sleep(0.05)\n",
    "        if i > 100:\n",
    "            warnings.warn(\"Target did not finish operation\")\n",
    "            return None\n",
    "\n",
    "    if ret:\n",
    "        warnings.warn(\"Timeout happened during capture\")\n",
    "        return None\n",
    "\n",
    "    return scope.get_last_trace()"
   ]
  },
  {
   "cell_type": "code",
   "execution_count": null,
   "metadata": {},
   "outputs": [],
   "source": [
    "import numpy as np\n",
    "\n",
    "HW = [bin(n).count(\"1\") for n in range(0, 256)]\n",
    "\n",
    "def hw(n):\n",
    "    if isinstance(n, str):\n",
    "        return HW[ord(n)]\n",
    "    return HW[n]\n",
    "\n",
    "hw_vec = np.vectorize(hw)"
   ]
  },
  {
   "cell_type": "code",
   "execution_count": null,
   "metadata": {},
   "outputs": [],
   "source": [
    "import random\n",
    "import tqdm\n",
    "import numpy as np\n",
    "\n",
    "def capture_random_pass(command='p', password_length=2, random_size=5000, password=None):\n",
    "    traces = []\n",
    "    textins = []\n",
    "    passwds = []\n",
    "    for _ in tqdm.tqdm_notebook(range(random_size)):\n",
    "        data = bytes(random.choices(range(0, 256), k=2 * password_length))\n",
    "        if password:\n",
    "            data = password + data[password_length:]\n",
    "        traces.append(capture(command, data))\n",
    "        passwds.append(data[:password_length])\n",
    "        textins.append(data[password_length:])\n",
    "    return np.array(traces), passwds, textins"
   ]
  },
  {
   "cell_type": "code",
   "execution_count": null,
   "metadata": {},
   "outputs": [],
   "source": [
    "traces, passwds, textins = capture_random_pass()"
   ]
  },
  {
   "cell_type": "code",
   "execution_count": null,
   "metadata": {},
   "outputs": [],
   "source": [
    "traces_per_hw = [[] for _ in range(9)]\n",
    "for trace, passwd, textin in zip(traces, passwds, textins):\n",
    "    traces_per_hw[hw(passwd[0] ^ textin[0])].append(trace)\n",
    "traces_per_hw = list(map(np.array, traces_per_hw))"
   ]
  },
  {
   "cell_type": "code",
   "execution_count": null,
   "metadata": {},
   "outputs": [],
   "source": [
    "means_per_hw = [np.average(trace, 0) for trace in traces_per_hw]"
   ]
  },
  {
   "cell_type": "code",
   "execution_count": null,
   "metadata": {},
   "outputs": [],
   "source": [
    "diffs = np.zeros(means_per_hw[0].shape[0])\n",
    "for mean_i in means_per_hw:\n",
    "    for mean_j in means_per_hw:\n",
    "        diffs += np.abs(mean_i - mean_j)"
   ]
  },
  {
   "cell_type": "code",
   "execution_count": null,
   "metadata": {},
   "outputs": [],
   "source": [
    "p = figure()\n",
    "p.add_tools(CrosshairTool())\n",
    "p.line(range(len(diffs)), diffs, color='blue', legend='Sum of diffs')\n",
    "show(p)"
   ]
  },
  {
   "cell_type": "code",
   "execution_count": null,
   "metadata": {},
   "outputs": [],
   "source": [
    "pois = np.argsort(diffs)[-10:]\n",
    "pois"
   ]
  },
  {
   "cell_type": "code",
   "execution_count": null,
   "metadata": {},
   "outputs": [],
   "source": [
    "def cov(x, y):\n",
    "    # Find the covariance between two 1D lists (x and y).\n",
    "    # Note that var(x) = cov(x, x)\n",
    "    return np.cov(x, y)[0][1]"
   ]
  },
  {
   "cell_type": "code",
   "execution_count": null,
   "metadata": {},
   "outputs": [],
   "source": [
    "template_mean = np.zeros((9, len(pois)))\n",
    "template_cov = np.zeros((9, len(pois), len(pois)))\n",
    "\n",
    "for ham in range(template_mean.shape[0]):\n",
    "    for i in range(len(pois)):\n",
    "        template_mean[ham, i] = means_per_hw[ham][pois[i]]\n",
    "        for j in range(len(pois)):\n",
    "            template_cov[ham, i, j] = cov(\n",
    "                traces_per_hw[ham][:, pois[i]],\n",
    "                traces_per_hw[ham][:, pois[j]],\n",
    "            )\n",
    "print('template_mean', template_mean.shape, '=\\n', template_mean)\n",
    "print('template_cov', template_cov.shape, '=\\n', template_cov)"
   ]
  },
  {
   "cell_type": "code",
   "execution_count": null,
   "metadata": {},
   "outputs": [],
   "source": [
    "traces, passwds, textins = capture_random_pass(random_size=10, password=b'if')"
   ]
  },
  {
   "cell_type": "code",
   "execution_count": null,
   "metadata": {},
   "outputs": [],
   "source": [
    "from scipy.stats import multivariate_normal\n",
    "# 2: Attack\n",
    "# Running total of log P_k\n",
    "P_k = np.zeros(256)\n",
    "for j in range(len(traces)):\n",
    "    # Grab key points and put them in a small matrix\n",
    "    a = [traces[j][pois[i]] for i in range(len(pois))]\n",
    "    \n",
    "    # Test each key\n",
    "    for k in range(256):\n",
    "        # Find HW coming out of sbox\n",
    "        guess_hw = hw(textins[j][0] ^ k)\n",
    "    \n",
    "        # Find p_{k,j}\n",
    "        rv = multivariate_normal(template_mean[guess_hw], template_cov[guess_hw])\n",
    "        p_kj = rv.logpdf(a)\n",
    "   \n",
    "        # Add it to running total\n",
    "        P_k[k] += p_kj\n",
    "\n",
    "    # Print our top 5 results so far\n",
    "    # Best match on the right\n",
    "    print(\" \".join([\"%02x\"%j for j in P_k.argsort()[-5:]]))\n",
    "    \n",
    "guess = P_k.argsort()[-1]\n",
    "print(hex(guess))"
   ]
  },
  {
   "cell_type": "markdown",
   "metadata": {},
   "source": [
    "## Disconnect"
   ]
  },
  {
   "cell_type": "code",
   "execution_count": null,
   "metadata": {},
   "outputs": [],
   "source": [
    "scope.dis()\n",
    "target.dis()"
   ]
  }
 ],
 "metadata": {
  "kernelspec": {
   "display_name": "Python 3",
   "language": "python",
   "name": "python3"
  },
  "language_info": {
   "codemirror_mode": {
    "name": "ipython",
    "version": 3
   },
   "file_extension": ".py",
   "mimetype": "text/x-python",
   "name": "python",
   "nbconvert_exporter": "python",
   "pygments_lexer": "ipython3",
   "version": "3.7.3"
  },
  "toc": {
   "base_numbering": 1,
   "nav_menu": {},
   "number_sections": true,
   "sideBar": true,
   "skip_h1_title": true,
   "title_cell": "Table of Contents",
   "title_sidebar": "Contents",
   "toc_cell": true,
   "toc_position": {
    "height": "calc(100% - 180px)",
    "left": "10px",
    "top": "150px",
    "width": "198.5px"
   },
   "toc_section_display": true,
   "toc_window_display": true
  }
 },
 "nbformat": 4,
 "nbformat_minor": 2
}
