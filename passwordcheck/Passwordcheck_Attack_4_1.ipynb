{
 "cells": [
  {
   "cell_type": "markdown",
   "metadata": {},
   "source": [
    "# Attack Password with Correlation Power Analysis IV.1 (CPA)"
   ]
  },
  {
   "cell_type": "code",
   "execution_count": null,
   "metadata": {
    "hide_input": true
   },
   "outputs": [],
   "source": [
    "%run '../util/Metadata.ipynb'\n",
    "print_metadata()"
   ]
  },
  {
   "cell_type": "markdown",
   "metadata": {
    "toc": true
   },
   "source": [
    "<h1>Table of Contents<span class=\"tocSkip\"></span></h1>\n",
    "<div class=\"toc\"><ul class=\"toc-item\"><li><span><a href=\"#Improving-the-code\" data-toc-modified-id=\"Improving-the-code-1\"><span class=\"toc-item-num\">1&nbsp;&nbsp;</span>Improving the code</a></span></li><li><span><a href=\"#Basic-Setup\" data-toc-modified-id=\"Basic-Setup-2\"><span class=\"toc-item-num\">2&nbsp;&nbsp;</span>Basic Setup</a></span></li><li><span><a href=\"#Helper-Functions-for-Password-Attack\" data-toc-modified-id=\"Helper-Functions-for-Password-Attack-3\"><span class=\"toc-item-num\">3&nbsp;&nbsp;</span>Helper Functions for Password Attack</a></span></li><li><span><a href=\"#New-Code---Old-results\" data-toc-modified-id=\"New-Code---Old-results-4\"><span class=\"toc-item-num\">4&nbsp;&nbsp;</span>New Code - Old results</a></span></li><li><span><a href=\"#Disconnect\" data-toc-modified-id=\"Disconnect-5\"><span class=\"toc-item-num\">5&nbsp;&nbsp;</span>Disconnect</a></span></li></ul></div>"
   ]
  },
  {
   "cell_type": "markdown",
   "metadata": {},
   "source": [
    "In this example we want to discuss possibilities to fight against a CPA attack.\n",
    "\n",
    "## Improving the code\n",
    "\n",
    "Let's first recap the password checking loop from `advanced-passwdcheck-xor`:\n",
    "```c\n",
    "passbad = 0;\n",
    "for(uint8_t i = 0; i < sizeof(correct_passwd); i++){\n",
    "    passbad |= correct_passwd[i] ^ passwd[i];\n",
    "}\n",
    "```\n",
    "\n",
    "We revealed in the last example that aboves XOR generates a collision between known and determinable input data and secret data which shall be revealed by an attack.\n",
    "\n",
    "So, how to lower this correlation?"
   ]
  },
  {
   "cell_type": "markdown",
   "metadata": {},
   "source": [
    "## Basic Setup"
   ]
  },
  {
   "cell_type": "markdown",
   "metadata": {},
   "source": [
    "Define Variables"
   ]
  },
  {
   "cell_type": "code",
   "execution_count": null,
   "metadata": {},
   "outputs": [],
   "source": [
    "%run \"../util/Init.ipynb\""
   ]
  },
  {
   "cell_type": "markdown",
   "metadata": {},
   "source": [
    "Build target and upload"
   ]
  },
  {
   "cell_type": "code",
   "execution_count": null,
   "metadata": {},
   "outputs": [],
   "source": [
    "TARGET = 'simpleserial-passwordcheck'\n",
    "%store TARGET\n",
    "%run \"$HELPERSCRIPTS/Prepare.ipynb\""
   ]
  },
  {
   "cell_type": "markdown",
   "metadata": {},
   "source": [
    "Import helper functions"
   ]
  },
  {
   "cell_type": "code",
   "execution_count": null,
   "metadata": {},
   "outputs": [],
   "source": [
    "%run \"$HELPERSCRIPTS/Setup_Generic.ipynb\""
   ]
  },
  {
   "cell_type": "code",
   "execution_count": null,
   "metadata": {},
   "outputs": [],
   "source": [
    "scope.adc.samples = 500"
   ]
  },
  {
   "cell_type": "markdown",
   "metadata": {},
   "source": [
    "## Helper Functions for Password Attack"
   ]
  },
  {
   "cell_type": "code",
   "execution_count": null,
   "metadata": {},
   "outputs": [],
   "source": [
    "from bokeh.plotting import figure, show \n",
    "from bokeh.io import output_notebook\n",
    "from bokeh.models import CrosshairTool, Label\n",
    "\n",
    "output_notebook()"
   ]
  },
  {
   "cell_type": "code",
   "execution_count": null,
   "metadata": {},
   "outputs": [],
   "source": [
    "import warnings\n",
    "import random\n",
    "import tqdm\n",
    "import numpy as np\n",
    "\n",
    "password_length = 8\n",
    "\"\"\"Number of bytes of password\"\"\"\n",
    "\n",
    "random_length = 32\n",
    "\"\"\"Number of bytes of random input\"\"\"\n",
    "\n",
    "def capture(command, data):\n",
    "    scope.arm()\n",
    "    target.simpleserial_write(command, data)\n",
    "\n",
    "    ret = scope.capture()\n",
    "\n",
    "    i = 0\n",
    "    while not target.is_done():\n",
    "        i += 1\n",
    "        time.sleep(0.05)\n",
    "        if i > 100:\n",
    "            warnings.warn(\"Target did not finish operation\")\n",
    "            return None\n",
    "\n",
    "    if ret:\n",
    "        warnings.warn(\"Timeout happened during capture\")\n",
    "        return None\n",
    "\n",
    "    return scope.get_last_trace()\n",
    "\n",
    "def target_set_random(random_start=256):\n",
    "    rand = bytes([random.randint(0, random_start)]) + bytes(random.choices(range(0, 256), k=random_length - 1))\n",
    "    target.simpleserial_write('r', rand)\n",
    "    return rand\n",
    "\n",
    "def target_set_password(password):\n",
    "    target.simpleserial_write('p', password)\n",
    "    return target.simpleserial_read('r', password_length)\n",
    "\n",
    "def target_check_password(command, password):\n",
    "    target.simpleserial_write(command, password)\n",
    "    return bytes(target.simpleserial_read('r', 1))[0] == 0\n",
    "\n",
    "def capture_random(command, size=500, random_start=password_length, pass_guess=None):\n",
    "    \"\"\"Collect size number of password attempts with fully random random data.\"\"\"\n",
    "    traces = []\n",
    "    textins = []\n",
    "    rands = []\n",
    "    for _ in tqdm.tqdm_notebook(range(size)):\n",
    "        rands.append(target_set_random(random_start=random_start))\n",
    "        pass_guess = bytes(random.choices(range(0, 256), k=password_length))\n",
    "        traces.append(capture(command, pass_guess))\n",
    "        textins.append(pass_guess)\n",
    "    return np.array(traces), textins, rands"
   ]
  },
  {
   "cell_type": "code",
   "execution_count": null,
   "metadata": {},
   "outputs": [],
   "source": [
    "import numpy as np\n",
    "import warnings\n",
    "\n",
    "warnings.simplefilter('ignore')\n",
    "\n",
    "HW = [bin(n).count(\"1\") for n in range(0, 256)]\n",
    "\n",
    "def hw(n):\n",
    "    return HW[n]\n",
    "\n",
    "hw_vec = np.vectorize(hw)\n",
    "\n",
    "def pearson(x: np.array, y: np.array):\n",
    "    x_mean = np.mean(x)\n",
    "    y_mean = np.mean(y)\n",
    "    return sum((x - x_mean) * (y - y_mean)) / np.sqrt(sum((x - x_mean) ** 2) * sum((y - y_mean) ** 2))\n",
    "\n",
    "def pearson_helper_traces(traces):\n",
    "    return traces_diff, traces_squared\n",
    "\n",
    "def pearson_pointwise(traces, intermediates):\n",
    "    n = len(intermediates)\n",
    "    d_traces = traces - np.einsum('ij->j', traces, dtype='float64', optimize='optimal') / np.double(n)\n",
    "    d_intermediates = intermediates - np.einsum('i->', intermediates, dtype='float64', optimize='optimal') / np.double(n)\n",
    "    \n",
    "    tmp = np.einsum('ij,ij->j', d_traces, d_traces, optimize='optimal')\n",
    "    tmp *= np.einsum('i,i->', d_intermediates, d_intermediates, optimize='optimal')\n",
    "\n",
    "    return np.dot(d_intermediates, d_traces) / np.sqrt(tmp)\n",
    "\n",
    "def pearson_pointwise_multi(traces, intermediates):\n",
    "    (n, t) = traces.shape\n",
    "    (_, m) = intermediates.shape\n",
    "\n",
    "    d_traces = traces - np.einsum('nt->t', traces, dtype='float64', optimize='optimal') / np.double(n)\n",
    "    d_intermediates = intermediates - np.einsum('nm->m', intermediates, dtype='float64', optimize='optimal') / np.double(n)\n",
    "    \n",
    "    tmp1 = np.einsum('nm,nm->m', d_intermediates, d_intermediates, optimize='optimal')\n",
    "    tmp2 = np.einsum('nt,nt->t', d_traces, d_traces, optimize='optimal')\n",
    "    tmp = np.einsum('m,t->mt', tmp1, tmp2, optimize='optimal')\n",
    "    denominator = np.sqrt(tmp)\n",
    "    numerator = np.einsum('nm,nt->mt', d_intermediates, d_traces, optimize='optimal')\n",
    "\n",
    "    return np.nan_to_num(numerator / denominator)"
   ]
  },
  {
   "cell_type": "code",
   "execution_count": null,
   "metadata": {
    "scrolled": false
   },
   "outputs": [],
   "source": [
    "import math\n",
    "import bokeh.palettes\n",
    "import bokeh.transform\n",
    "from bokeh.models import ColumnDataSource\n",
    "\n",
    "def plot_correlation(correlations, color_palette=bokeh.palettes.Oranges6, **kw):\n",
    "    kw['height'] = kw.get('height', 300)\n",
    "    kw['y_range'] = kw.get('y_range', (-1, 1))\n",
    "    p = figure(sizing_mode='stretch_width', **kw)\n",
    "    p.vbar(\n",
    "        x='points',\n",
    "        top='corr',\n",
    "        width=1,\n",
    "        source=ColumnDataSource(data=dict(\n",
    "            points=range(len(correlations)),\n",
    "            corr=correlations,\n",
    "            abscorr=abs(correlations),\n",
    "        )),\n",
    "        color=bokeh.transform.linear_cmap(\n",
    "            field_name='abscorr', \n",
    "            palette=color_palette,\n",
    "            low=1,\n",
    "            high=0,\n",
    "        ),\n",
    "    )\n",
    "    return p\n",
    "\n",
    "def plot_correlation_vs_traces(\n",
    "    traces,\n",
    "    textins,\n",
    "    password_index=0,\n",
    "    trylist='abcdefghijklmnopqrstuvwxyz0123456789',\n",
    "    plotpoints=500,\n",
    "):\n",
    "    # Compute data\n",
    "    plotpoints = min(plotpoints, len(traces))\n",
    "    data = np.zeros((len(trylist), plotpoints))\n",
    "    intermediates = np.array([[hw(attempt[password_index] ^ ord(guess)) for guess in trylist] for attempt in textins])\n",
    "    for i in range(0, plotpoints):\n",
    "        j = math.ceil(i / plotpoints * len(traces))\n",
    "        data[:, i] = np.max(np.abs(pearson_pointwise_multi(traces[:j, :], intermediates[:j, :])), axis=1)\n",
    "\n",
    "    # Create figure\n",
    "    p = figure(sizing_mode='stretch_width')\n",
    "    for color, guess, corrs in zip(len(data) * bokeh.palettes.Category20_20, trylist, data):\n",
    "        p.line(x=range(2, len(traces), math.ceil(len(traces) / plotpoints)), y=corrs[2:], legend=guess, color=color)\n",
    "    return p"
   ]
  },
  {
   "cell_type": "markdown",
   "metadata": {},
   "source": [
    "## New Code - Old results"
   ]
  },
  {
   "cell_type": "code",
   "execution_count": null,
   "metadata": {},
   "outputs": [],
   "source": [
    "password = b'ifx2019a'\n",
    "target_set_password(password)\n",
    "target_check_password('2', password)"
   ]
  },
  {
   "cell_type": "code",
   "execution_count": null,
   "metadata": {},
   "outputs": [],
   "source": [
    "command = '1'\n",
    "\n",
    "traces, textins, rands = capture_random(command=command, size=200)\n",
    "correlations = pearson_pointwise(traces, np.array([hw(textin[0] ^ ord('i')) for textin in textins]))\n",
    "print('max(correlations) = ', max(abs(correlations)))\n",
    "show(plot_correlation(correlations))\n",
    "show(plot_correlation_vs_traces(traces, textins))"
   ]
  },
  {
   "cell_type": "code",
   "execution_count": null,
   "metadata": {
    "scrolled": false
   },
   "outputs": [],
   "source": [
    "command = '2'\n",
    "\n",
    "traces, textins, rands = capture_random(command=command, size=1000, random_start=1)\n",
    "correlations = pearson_pointwise(traces, [hw(textin[0] ^ ord('i')) for textin in textins])\n",
    "print('max(correlations) = ', max(abs(correlations)))\n",
    "show(plot_correlation(correlations))\n",
    "show(plot_correlation_vs_traces(traces, textins))"
   ]
  },
  {
   "cell_type": "code",
   "execution_count": null,
   "metadata": {},
   "outputs": [],
   "source": [
    "command = '2'\n",
    "\n",
    "traces, textins, rands = capture_random(command=command, size=10000, random_start=2)\n",
    "correlations = pearson_pointwise(traces, [hw(textin[0] ^ ord('i')) for textin in textins])\n",
    "print('max(correlations) = ', max(abs(correlations)))\n",
    "show(plot_correlation(correlations))\n",
    "show(plot_correlation_vs_traces(traces, textins))"
   ]
  },
  {
   "cell_type": "code",
   "execution_count": null,
   "metadata": {},
   "outputs": [],
   "source": [
    "command = '2'\n",
    "\n",
    "traces, textins, rands = capture_random(command=command, size=10000, random_start=3)\n",
    "correlations = pearson_pointwise(traces, [hw(textin[0] ^ ord('i')) for textin in textins])\n",
    "print('max(correlations) = ', max(abs(correlations)))\n",
    "show(plot_correlation(correlations))\n",
    "show(plot_correlation_vs_traces(traces, textins))"
   ]
  },
  {
   "cell_type": "code",
   "execution_count": null,
   "metadata": {},
   "outputs": [],
   "source": [
    "command = '2'\n",
    "\n",
    "traces, textins, rands = capture_random(command=command, size=30000)\n",
    "correlations = pearson_pointwise(traces, [hw(textin[0] ^ ord('i')) for textin in textins])\n",
    "print('max(correlations) = ', max(abs(correlations)))\n",
    "show(plot_correlation(correlations))\n",
    "show(plot_correlation_vs_traces(traces, textins))"
   ]
  },
  {
   "cell_type": "markdown",
   "metadata": {},
   "source": [
    "## Disconnect"
   ]
  },
  {
   "cell_type": "code",
   "execution_count": null,
   "metadata": {},
   "outputs": [],
   "source": [
    "scope.dis()\n",
    "target.dis()"
   ]
  }
 ],
 "metadata": {
  "kernelspec": {
   "display_name": "Python 3",
   "language": "python",
   "name": "python3"
  },
  "language_info": {
   "codemirror_mode": {
    "name": "ipython",
    "version": 3
   },
   "file_extension": ".py",
   "mimetype": "text/x-python",
   "name": "python",
   "nbconvert_exporter": "python",
   "pygments_lexer": "ipython3",
   "version": "3.7.3"
  },
  "toc": {
   "base_numbering": 1,
   "nav_menu": {},
   "number_sections": true,
   "sideBar": true,
   "skip_h1_title": true,
   "title_cell": "Table of Contents",
   "title_sidebar": "Contents",
   "toc_cell": true,
   "toc_position": {
    "height": "calc(100% - 180px)",
    "left": "10px",
    "top": "150px",
    "width": "198.5px"
   },
   "toc_section_display": true,
   "toc_window_display": true
  }
 },
 "nbformat": 4,
 "nbformat_minor": 2
}
