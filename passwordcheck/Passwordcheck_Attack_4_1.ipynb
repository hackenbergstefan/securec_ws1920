{
 "cells": [
  {
   "cell_type": "markdown",
   "metadata": {},
   "source": [
    "# Attack Password with Correlation Power Analysis IV.1 (CPA)"
   ]
  },
  {
   "cell_type": "code",
   "execution_count": null,
   "metadata": {
    "hide_input": true
   },
   "outputs": [],
   "source": [
    "%run '../util/Metadata.ipynb'\n",
    "print_metadata()"
   ]
  },
  {
   "cell_type": "markdown",
   "metadata": {
    "toc": true
   },
   "source": [
    "<h1>Table of Contents<span class=\"tocSkip\"></span></h1>\n",
    "<div class=\"toc\"><ul class=\"toc-item\"><li><span><a href=\"#Improving-the-code\" data-toc-modified-id=\"Improving-the-code-1\"><span class=\"toc-item-num\">1&nbsp;&nbsp;</span>Improving the code</a></span></li><li><span><a href=\"#Basic-Setup\" data-toc-modified-id=\"Basic-Setup-2\"><span class=\"toc-item-num\">2&nbsp;&nbsp;</span>Basic Setup</a></span></li><li><span><a href=\"#Helper-Functions-for-Password-Attack\" data-toc-modified-id=\"Helper-Functions-for-Password-Attack-3\"><span class=\"toc-item-num\">3&nbsp;&nbsp;</span>Helper Functions for Password Attack</a></span></li><li><span><a href=\"#New-Code---Old-results\" data-toc-modified-id=\"New-Code---Old-results-4\"><span class=\"toc-item-num\">4&nbsp;&nbsp;</span>New Code - Old results</a></span></li><li><span><a href=\"#Plotting-correlation-vs-traces\" data-toc-modified-id=\"Plotting-correlation-vs-traces-5\"><span class=\"toc-item-num\">5&nbsp;&nbsp;</span>Plotting correlation vs traces</a></span></li><li><span><a href=\"#Hardening-against-CPA\" data-toc-modified-id=\"Hardening-against-CPA-6\"><span class=\"toc-item-num\">6&nbsp;&nbsp;</span>Hardening against CPA</a></span><ul class=\"toc-item\"><li><span><a href=\"#Random-start-point\" data-toc-modified-id=\"Random-start-point-6.1\"><span class=\"toc-item-num\">6.1&nbsp;&nbsp;</span>Random start point</a></span></li><li><span><a href=\"#Dummy-operations\" data-toc-modified-id=\"Dummy-operations-6.2\"><span class=\"toc-item-num\">6.2&nbsp;&nbsp;</span>Dummy operations</a></span></li></ul></li><li><span><a href=\"#Summary\" data-toc-modified-id=\"Summary-7\"><span class=\"toc-item-num\">7&nbsp;&nbsp;</span>Summary</a></span></li><li><span><a href=\"#Disconnect\" data-toc-modified-id=\"Disconnect-8\"><span class=\"toc-item-num\">8&nbsp;&nbsp;</span>Disconnect</a></span></li></ul></div>"
   ]
  },
  {
   "cell_type": "markdown",
   "metadata": {},
   "source": [
    "In this example we want to discuss possibilities to fight against a CPA attack.\n",
    "\n",
    "## Improving the code\n",
    "\n",
    "Let's first recap the password checking loop from `advanced-passwdcheck-xor`:\n",
    "```c\n",
    "passbad = 0;\n",
    "for(uint8_t i = 0; i < sizeof(correct_passwd); i++){\n",
    "    passbad |= correct_passwd[i] ^ passwd[i];\n",
    "}\n",
    "```\n",
    "\n",
    "We revealed in the last example that aboves XOR generates a collision between known and determinable input data and secret data which shall be revealed by an attack.\n",
    "\n",
    "So, how to lower this correlation?"
   ]
  },
  {
   "cell_type": "markdown",
   "metadata": {},
   "source": [
    "## Basic Setup"
   ]
  },
  {
   "cell_type": "markdown",
   "metadata": {},
   "source": [
    "Define Variables"
   ]
  },
  {
   "cell_type": "code",
   "execution_count": null,
   "metadata": {},
   "outputs": [],
   "source": [
    "%run \"../util/Init.ipynb\""
   ]
  },
  {
   "cell_type": "markdown",
   "metadata": {},
   "source": [
    "Build target and upload"
   ]
  },
  {
   "cell_type": "code",
   "execution_count": null,
   "metadata": {},
   "outputs": [],
   "source": [
    "TARGET = 'simpleserial-passwordcheck'\n",
    "%store TARGET\n",
    "%run \"$HELPERSCRIPTS/Prepare.ipynb\""
   ]
  },
  {
   "cell_type": "markdown",
   "metadata": {},
   "source": [
    "Import helper functions"
   ]
  },
  {
   "cell_type": "code",
   "execution_count": null,
   "metadata": {},
   "outputs": [],
   "source": [
    "%run \"$HELPERSCRIPTS/Setup_Generic.ipynb\""
   ]
  },
  {
   "cell_type": "code",
   "execution_count": null,
   "metadata": {},
   "outputs": [],
   "source": [
    "scope.adc.samples = 500"
   ]
  },
  {
   "cell_type": "markdown",
   "metadata": {},
   "source": [
    "## Helper Functions for Password Attack"
   ]
  },
  {
   "cell_type": "code",
   "execution_count": null,
   "metadata": {},
   "outputs": [],
   "source": [
    "from bokeh.plotting import figure, show \n",
    "from bokeh.io import output_notebook\n",
    "from bokeh.models import CrosshairTool, Label\n",
    "\n",
    "output_notebook()"
   ]
  },
  {
   "cell_type": "code",
   "execution_count": null,
   "metadata": {},
   "outputs": [],
   "source": [
    "import warnings\n",
    "import random\n",
    "import tqdm\n",
    "import numpy as np\n",
    "\n",
    "password_length = 8\n",
    "\"\"\"Number of bytes of password\"\"\"\n",
    "\n",
    "random_length = 32\n",
    "\"\"\"Number of bytes of random input\"\"\"\n",
    "\n",
    "def capture(command, data):\n",
    "    scope.arm()\n",
    "    target.simpleserial_write(command, data)\n",
    "\n",
    "    ret = scope.capture()\n",
    "\n",
    "    i = 0\n",
    "    while not target.is_done():\n",
    "        i += 1\n",
    "        time.sleep(0.05)\n",
    "        if i > 100:\n",
    "            warnings.warn(\"Target did not finish operation\")\n",
    "            return None\n",
    "\n",
    "    if ret:\n",
    "        warnings.warn(\"Timeout happened during capture\")\n",
    "        return None\n",
    "\n",
    "    return scope.get_last_trace()\n",
    "\n",
    "def target_set_random(random_input=None):\n",
    "    if random_input is not None:\n",
    "        rand = random_input()\n",
    "    else:\n",
    "        rand = bytes(random.choices(range(0, 256), k=random_length))\n",
    "    target.simpleserial_write('r', rand)\n",
    "    return rand\n",
    "\n",
    "def target_set_password(password):\n",
    "    target.simpleserial_write('p', password)\n",
    "    return target.simpleserial_read('r', password_length)\n",
    "\n",
    "def target_check_password(command, password):\n",
    "    target.simpleserial_write(command, password)\n",
    "    return bytes(target.simpleserial_read('r', 1))[0] == 0\n",
    "\n",
    "def capture_random(command, size=500, random_input=None, attempt_input=None):\n",
    "    \"\"\"Collect size number of password attempts with fully random random data.\"\"\"\n",
    "    traces = []\n",
    "    textins = []\n",
    "    rands = []\n",
    "    for _ in tqdm.tqdm_notebook(range(size)):\n",
    "        rands.append(target_set_random(random_input))\n",
    "        if attempt_input is not None:\n",
    "            pass_guess = attempt_input()\n",
    "        else:\n",
    "            pass_guess = bytes(random.choices(range(0, 256), k=password_length))\n",
    "        traces.append(capture(command, pass_guess))\n",
    "        textins.append(pass_guess)\n",
    "    return np.array(traces), textins, rands"
   ]
  },
  {
   "cell_type": "code",
   "execution_count": null,
   "metadata": {},
   "outputs": [],
   "source": [
    "import numpy as np\n",
    "import warnings\n",
    "\n",
    "warnings.simplefilter('ignore')\n",
    "\n",
    "HW = [bin(n).count(\"1\") for n in range(0, 256)]\n",
    "\n",
    "def hw(n):\n",
    "    return HW[n]\n",
    "\n",
    "hw_vec = np.vectorize(hw)\n",
    "\n",
    "def pearson(x: np.array, y: np.array):\n",
    "    x_mean = np.mean(x)\n",
    "    y_mean = np.mean(y)\n",
    "    return sum((x - x_mean) * (y - y_mean)) / np.sqrt(sum((x - x_mean) ** 2) * sum((y - y_mean) ** 2))\n",
    "\n",
    "def pearson_helper_traces(traces):\n",
    "    return traces_diff, traces_squared\n",
    "\n",
    "def pearson_pointwise(traces, intermediates):\n",
    "    n = len(intermediates)\n",
    "    d_traces = traces - np.einsum('ij->j', traces, dtype='float64', optimize='optimal') / np.double(n)\n",
    "    d_intermediates = intermediates - np.einsum('i->', intermediates, dtype='float64', optimize='optimal') / np.double(n)\n",
    "    \n",
    "    tmp = np.einsum('ij,ij->j', d_traces, d_traces, optimize='optimal')\n",
    "    tmp *= np.einsum('i,i->', d_intermediates, d_intermediates, optimize='optimal')\n",
    "\n",
    "    return np.dot(d_intermediates, d_traces) / np.sqrt(tmp)\n",
    "\n",
    "def pearson_pointwise_multi(traces, intermediates):\n",
    "    (n, t) = traces.shape\n",
    "    (_, m) = intermediates.shape\n",
    "\n",
    "    d_traces = traces - np.einsum('nt->t', traces, dtype='float64', optimize='optimal') / np.double(n)\n",
    "    d_intermediates = intermediates - np.einsum('nm->m', intermediates, dtype='float64', optimize='optimal') / np.double(n)\n",
    "    \n",
    "    tmp1 = np.einsum('nm,nm->m', d_intermediates, d_intermediates, optimize='optimal')\n",
    "    tmp2 = np.einsum('nt,nt->t', d_traces, d_traces, optimize='optimal')\n",
    "    tmp = np.einsum('m,t->mt', tmp1, tmp2, optimize='optimal')\n",
    "    denominator = np.sqrt(tmp)\n",
    "    numerator = np.einsum('nm,nt->mt', d_intermediates, d_traces, optimize='optimal')\n",
    "\n",
    "    return np.nan_to_num(numerator / denominator)"
   ]
  },
  {
   "cell_type": "code",
   "execution_count": null,
   "metadata": {
    "scrolled": false
   },
   "outputs": [],
   "source": [
    "import math\n",
    "import bokeh.palettes\n",
    "import bokeh.transform\n",
    "from bokeh.models import ColumnDataSource\n",
    "\n",
    "def plot_correlation(correlations, color_palette=bokeh.palettes.Oranges6, **kw):\n",
    "    kw['height'] = kw.get('height', 300)\n",
    "    kw['y_range'] = kw.get('y_range', (-1, 1))\n",
    "    p = figure(sizing_mode='stretch_width', **kw)\n",
    "    p.vbar(\n",
    "        x='points',\n",
    "        top='corr',\n",
    "        width=1,\n",
    "        source=ColumnDataSource(data=dict(\n",
    "            points=range(len(correlations)),\n",
    "            corr=correlations,\n",
    "            abscorr=abs(correlations),\n",
    "        )),\n",
    "        color=bokeh.transform.linear_cmap(\n",
    "            field_name='abscorr', \n",
    "            palette=color_palette,\n",
    "            low=1,\n",
    "            high=0,\n",
    "        ),\n",
    "    )\n",
    "    return p\n",
    "\n",
    "def plot_correlation_vs_traces(\n",
    "    traces,\n",
    "    textins,\n",
    "    password_index=0,\n",
    "    trylist='abcdefghijklmnopqrstuvwxyz0123456789',\n",
    "    plotpoints=500,\n",
    "):\n",
    "    # Compute data\n",
    "    plotpoints = min(plotpoints, len(traces))\n",
    "    data = np.zeros((len(trylist), plotpoints))\n",
    "    intermediates = np.array([[hw(attempt[password_index] ^ ord(guess)) for guess in trylist] for attempt in textins])\n",
    "    for i in range(0, plotpoints):\n",
    "        j = math.ceil(i / plotpoints * len(traces))\n",
    "        data[:, i] = np.max(np.abs(pearson_pointwise_multi(traces[:j, :], intermediates[:j, :])), axis=1)\n",
    "    \n",
    "    source = {\n",
    "        'xs': len(data) * [list(range(0, len(traces), math.ceil(len(traces) / plotpoints)))],\n",
    "        'ys': [corr for corr in data],\n",
    "        'legend': list(trylist),\n",
    "        'color': math.ceil(len(data) / 20) * bokeh.palettes.Category20_20,\n",
    "    }\n",
    "    # Create figure\n",
    "    p = figure(sizing_mode='stretch_width', height=300, tooltips=[('char', '@legend'), ('corrleation', '$y')])\n",
    "    p.multi_line(xs='xs', ys='ys', color='color', source=source)\n",
    "    return p"
   ]
  },
  {
   "cell_type": "markdown",
   "metadata": {},
   "source": [
    "## New Code - Old results"
   ]
  },
  {
   "cell_type": "code",
   "execution_count": null,
   "metadata": {},
   "outputs": [],
   "source": [
    "password = b'ifx2019a'\n",
    "target_set_password(password)\n",
    "target_check_password('1', password)"
   ]
  },
  {
   "cell_type": "code",
   "execution_count": null,
   "metadata": {},
   "outputs": [],
   "source": [
    "command = '1'\n",
    "\n",
    "traces, textins, rands = capture_random(command=command, size=200)\n",
    "correlations = pearson_pointwise(traces, np.array([hw(textin[0] ^ ord('i')) for textin in textins]))\n",
    "print('max(correlations) = ', max(abs(correlations)))\n",
    "show(plot_correlation(correlations))"
   ]
  },
  {
   "cell_type": "markdown",
   "metadata": {},
   "source": [
    "We can observe that the aboves plot is exactly the same as in seen in the previous notebook. \n",
    "\n",
    "## Plotting correlation vs traces\n",
    "\n",
    "In this example we took 200 traces and observed a high correlation coefficient. But, wouldn't last less traces?\n",
    "Therefore we want to introduce an additional plot which gives an answer to this question. The **correlation vs. traces** plot. It can also be found in the examples of ChipWhisperer."
   ]
  },
  {
   "cell_type": "code",
   "execution_count": null,
   "metadata": {
    "scrolled": false
   },
   "outputs": [],
   "source": [
    "show(plot_correlation_vs_traces(traces, textins))"
   ]
  },
  {
   "cell_type": "markdown",
   "metadata": {},
   "source": [
    "With this graph it is easy to figure out that around 50 - 100 traces are enough to get a reliable result.\n",
    "\n",
    "## Hardening against CPA\n",
    "\n",
    "Let's recap the idea of the CPA: Somewhere in our code the piece of secret information (a character of the real password) *collides* with the some piece of information coming from extern (a character of the password attempt).\n",
    "\n",
    "Can we avoid this collision? Not really. But we can *hide* it: Realize that it is not necessary that the comparison of the password characters is done in the order of their position inside the password. For instance you could do the whole comparison reversed but still getting the same result.\n",
    "\n",
    "What would this mean for the CPA attack?\n",
    "\n",
    "### Random start point\n",
    "\n",
    "In the following investigations we will use command `2`. The code looks like this:\n",
    "```c\n",
    "uint8_t check_password_xor_randomstart(uint8_t *attempt)\n",
    "{\n",
    "    uint8_t passbad = 0;\n",
    "\n",
    "    uint8_t j = random_buffer[0] % sizeof(password);\n",
    "\n",
    "    trigger_high();\n",
    "    for (uint8_t i = 0; i < sizeof(password); i++)\n",
    "    {\n",
    "        passbad |= password[j] ^ attempt[j];\n",
    "        j = (j + 1) % sizeof(password);\n",
    "    }\n",
    "    trigger_low();\n",
    "\n",
    "    simpleserial_put('r', 1, &passbad);\n",
    "\n",
    "    return passbad;\n",
    "}\n",
    "```\n",
    "`j` is used as index for the current character and its starting value is given by the `random_buffer`. Usually random is (of course) generated by the microcontroller itself. But in our case it is easier to feed in randomness from outside to have full control.\n",
    "\n",
    "The following code block shows what happens if we give two possibilities for `j`. To achieve this, an explicit `random_function` is injected into the capturing process. This special function restricts the randomness of the first value to either 0 or 1. Thus, the loop starts either with the first or the second character.  "
   ]
  },
  {
   "cell_type": "code",
   "execution_count": null,
   "metadata": {},
   "outputs": [],
   "source": [
    "def random_startpoint(startpoint):\n",
    "    return lambda: bytes([random.randint(0, startpoint - 1)] + random.choices(range(256), k=random_length - 1))\n",
    "\n",
    "command = '2'\n",
    "target_check_password(command, password)"
   ]
  },
  {
   "cell_type": "code",
   "execution_count": null,
   "metadata": {
    "scrolled": false
   },
   "outputs": [],
   "source": [
    "traces, textins, rands = capture_random(command=command, size=200, random_input=random_startpoint(2))\n",
    "show(plot_correlation_vs_traces(traces, textins))"
   ]
  },
  {
   "cell_type": "markdown",
   "metadata": {},
   "source": [
    "We observe that the after 200 traces the maximal correlation is around 0.5. In contrast to the plain loop where it was around 0.9. This effect can be used more intensively if the increase the possible initial positions."
   ]
  },
  {
   "cell_type": "code",
   "execution_count": null,
   "metadata": {},
   "outputs": [],
   "source": [
    "traces, textins, rands = capture_random(command=command, size=200, random_input=random_startpoint(3))\n",
    "show(plot_correlation_vs_traces(traces, textins))"
   ]
  },
  {
   "cell_type": "markdown",
   "metadata": {},
   "source": [
    "If the first character has 3 possible indices it is impossible after 200 traces to achieve a reliable prediction. Is the loop secure now? Again: No! We just need more traces as the following plot shows."
   ]
  },
  {
   "cell_type": "code",
   "execution_count": null,
   "metadata": {},
   "outputs": [],
   "source": [
    "traces, textins, rands = capture_random(command=command, size=1000, random_input=random_startpoint(3))\n",
    "show(plot_correlation_vs_traces(traces, textins))"
   ]
  },
  {
   "cell_type": "code",
   "execution_count": null,
   "metadata": {},
   "outputs": [],
   "source": [
    "traces, textins, rands = capture_random(command=command, size=20000, random_input=random_startpoint(8))\n",
    "show(plot_correlation_vs_traces(traces, textins))"
   ]
  },
  {
   "cell_type": "markdown",
   "metadata": {},
   "source": [
    "If the starting point of the loop can use all possibilities out of the length of the password it is hard to achieve a reliable prediction after 20000 traces, but it is still possible.\n",
    "\n",
    "### Dummy operations\n",
    "\n",
    "So, do we need a longer password? Not necessarily. We just insert *dummy operations*. There are (in our case) 8 XOR operations which operate on the password and the attempt. By inserting a certain number of XOR operations which do not operate on the password or the attempt we could lower the probability of an index to proceed a certain position even more.\n",
    "\n",
    "It is a common technique to hide real operations between a (high) number of dummy operations. There are some requirements on these dummy operations:\n",
    "1. In a power trace it must be impossible to distinguish between dummy operations and real ones.\n",
    "2. The computational result of the algorithm must stay the same.\n",
    "\n",
    "In most cases it is quite hard to write down code with dummy operations satisfying the above conditions. For our password check there is an elegant way to incorporate dummy operations by just extending the buffers to be compared by some random values. \n",
    "\n",
    "```c\n",
    "uint8_t check_password_xor_randomstart_random_buffer(uint8_t *attempt)\n",
    "{\n",
    "    uint8_t passbad = 0;\n",
    "    uint8_t buffer1[sizeof(random_buffer)], buffer2[sizeof(random_buffer)];\n",
    "\n",
    "    // Copy random input\n",
    "    memcpy(buffer1, random_buffer, sizeof(random_buffer));\n",
    "    memcpy(buffer2, random_buffer, sizeof(random_buffer));\n",
    "    // Copy password and attempt\n",
    "    memcpy(buffer1, password, sizeof(password));\n",
    "    memcpy(buffer2, attempt, sizeof(password));\n",
    "\n",
    "    uint8_t j = random_buffer[0] % sizeof(random_buffer);\n",
    "\n",
    "    trigger_high();\n",
    "    for (uint8_t i = 0; i < sizeof(random_buffer); i++)\n",
    "    {\n",
    "        passbad |= buffer1[j] ^ buffer2[j];\n",
    "        j = (j + 1) % sizeof(random_buffer);\n",
    "    }\n",
    "    trigger_low();\n",
    "\n",
    "    simpleserial_put('r', 1, &passbad);\n",
    "\n",
    "    return passbad;\n",
    "}\n",
    "```"
   ]
  },
  {
   "cell_type": "code",
   "execution_count": null,
   "metadata": {},
   "outputs": [],
   "source": [
    "command = '3'\n",
    "target_check_password(command, password)"
   ]
  },
  {
   "cell_type": "code",
   "execution_count": null,
   "metadata": {},
   "outputs": [],
   "source": [
    "traces, textins, rands = capture_random(command=command, size=20000)\n",
    "show(plot_correlation_vs_traces(traces, textins))"
   ]
  },
  {
   "cell_type": "markdown",
   "metadata": {},
   "source": [
    "Now every index has a probability of 1/32 to operate on a certain character. This lowers down the correlation so that even after 20000 traces it is not possible to give a reliable prediction.\n",
    "\n",
    "These examples emphasize the main point of (side-channel) security: Usually nothing is safe against all attacks. It is just a matter of effort to break. And from a security software developers point of view it is an illusion to program anything absolute secure. The target is to achieve the *required amount of security*."
   ]
  },
  {
   "cell_type": "markdown",
   "metadata": {},
   "source": [
    "## Summary\n",
    "\n",
    "In this notebook we observed:\n",
    "\n",
    "* **Randomizing** the execution **order** of critical operations is an excellent way of lowering the strength of CPA.\n",
    "* If a random order is not sufficient or not applicable (e.g. AES) it helps to hide the critical operations between a certain number of **dummy operations**."
   ]
  },
  {
   "cell_type": "markdown",
   "metadata": {},
   "source": [
    "## Disconnect"
   ]
  },
  {
   "cell_type": "code",
   "execution_count": null,
   "metadata": {},
   "outputs": [],
   "source": [
    "scope.dis()\n",
    "target.dis()"
   ]
  }
 ],
 "metadata": {
  "kernelspec": {
   "display_name": "Python 3",
   "language": "python",
   "name": "python3"
  },
  "language_info": {
   "codemirror_mode": {
    "name": "ipython",
    "version": 3
   },
   "file_extension": ".py",
   "mimetype": "text/x-python",
   "name": "python",
   "nbconvert_exporter": "python",
   "pygments_lexer": "ipython3",
   "version": "3.7.3"
  },
  "toc": {
   "base_numbering": 1,
   "nav_menu": {},
   "number_sections": true,
   "sideBar": true,
   "skip_h1_title": true,
   "title_cell": "Table of Contents",
   "title_sidebar": "Contents",
   "toc_cell": true,
   "toc_position": {
    "height": "calc(100% - 180px)",
    "left": "10px",
    "top": "150px",
    "width": "198.5px"
   },
   "toc_section_display": true,
   "toc_window_display": true
  }
 },
 "nbformat": 4,
 "nbformat_minor": 2
}
